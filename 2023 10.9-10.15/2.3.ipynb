{
 "cells": [
  {
   "cell_type": "code",
   "execution_count": 1,
   "id": "815d03ff",
   "metadata": {
    "ExecuteTime": {
     "end_time": "2023-10-08T06:27:17.829936100Z",
     "start_time": "2023-10-08T06:27:16.496894200Z"
    }
   },
   "outputs": [],
   "source": [
    "import torch"
   ]
  },
  {
   "cell_type": "code",
   "execution_count": 2,
   "id": "17852a05",
   "metadata": {
    "ExecuteTime": {
     "end_time": "2023-10-08T06:27:17.838450600Z",
     "start_time": "2023-10-08T06:27:17.832446500Z"
    }
   },
   "outputs": [
    {
     "name": "stdout",
     "output_type": "stream",
     "text": [
      "tensor(5.) tensor(-1.) tensor(6.) tensor(0.6667) tensor(8.)\n"
     ]
    }
   ],
   "source": [
    "#标量\n",
    "x=torch.tensor(2.0)\n",
    "y=torch.tensor(3.0)\n",
    "print(x+y,x-y,x*y,x/y,x**y)"
   ]
  },
  {
   "cell_type": "code",
   "execution_count": 3,
   "id": "ad63b51e",
   "metadata": {
    "ExecuteTime": {
     "end_time": "2023-10-08T06:27:17.849642800Z",
     "start_time": "2023-10-08T06:27:17.838450600Z"
    }
   },
   "outputs": [
    {
     "name": "stdout",
     "output_type": "stream",
     "text": [
      "tensor([0, 1, 2, 3])\n"
     ]
    }
   ],
   "source": [
    "#向量\n",
    "x=torch.arange(4)\n",
    "print(x)"
   ]
  },
  {
   "cell_type": "code",
   "execution_count": 4,
   "id": "818d7206",
   "metadata": {
    "ExecuteTime": {
     "end_time": "2023-10-08T06:27:17.858030900Z",
     "start_time": "2023-10-08T06:27:17.848455900Z"
    }
   },
   "outputs": [
    {
     "name": "stdout",
     "output_type": "stream",
     "text": [
      "tensor(3)\n"
     ]
    }
   ],
   "source": [
    "#索引\n",
    "print(x[3])"
   ]
  },
  {
   "cell_type": "code",
   "execution_count": 5,
   "id": "cd380cf9",
   "metadata": {
    "ExecuteTime": {
     "end_time": "2023-10-08T06:27:17.858537700Z",
     "start_time": "2023-10-08T06:27:17.852186700Z"
    }
   },
   "outputs": [
    {
     "name": "stdout",
     "output_type": "stream",
     "text": [
      "4\n"
     ]
    }
   ],
   "source": [
    "#长度\n",
    "print(len(x))"
   ]
  },
  {
   "cell_type": "code",
   "execution_count": 6,
   "id": "73aeb700",
   "metadata": {
    "ExecuteTime": {
     "end_time": "2023-10-08T06:27:17.912924800Z",
     "start_time": "2023-10-08T06:27:17.858537700Z"
    }
   },
   "outputs": [
    {
     "name": "stdout",
     "output_type": "stream",
     "text": [
      "torch.Size([4])\n"
     ]
    }
   ],
   "source": [
    "#形状\n",
    "print(x.shape)"
   ]
  },
  {
   "cell_type": "code",
   "execution_count": 7,
   "id": "9f4ff66e",
   "metadata": {
    "ExecuteTime": {
     "end_time": "2023-10-08T06:27:17.912924800Z",
     "start_time": "2023-10-08T06:27:17.866753500Z"
    }
   },
   "outputs": [
    {
     "name": "stdout",
     "output_type": "stream",
     "text": [
      "tensor([[ 0,  1,  2,  3],\n",
      "        [ 4,  5,  6,  7],\n",
      "        [ 8,  9, 10, 11],\n",
      "        [12, 13, 14, 15],\n",
      "        [16, 17, 18, 19]])\n"
     ]
    }
   ],
   "source": [
    "#矩阵\n",
    "A=torch.arange(20).reshape(5,4)\n",
    "print(A)"
   ]
  },
  {
   "cell_type": "code",
   "execution_count": 8,
   "id": "b95523df",
   "metadata": {
    "ExecuteTime": {
     "end_time": "2023-10-08T06:27:17.912924800Z",
     "start_time": "2023-10-08T06:27:17.876768600Z"
    }
   },
   "outputs": [
    {
     "name": "stdout",
     "output_type": "stream",
     "text": [
      "tensor(11)\n"
     ]
    }
   ],
   "source": [
    "#索引\n",
    "print(A[2,3])"
   ]
  },
  {
   "cell_type": "code",
   "execution_count": 9,
   "id": "ec872c18",
   "metadata": {
    "ExecuteTime": {
     "end_time": "2023-10-08T06:27:17.912924800Z",
     "start_time": "2023-10-08T06:27:17.882300Z"
    }
   },
   "outputs": [
    {
     "name": "stdout",
     "output_type": "stream",
     "text": [
      "tensor([[ 0,  4,  8, 12, 16],\n",
      "        [ 1,  5,  9, 13, 17],\n",
      "        [ 2,  6, 10, 14, 18],\n",
      "        [ 3,  7, 11, 15, 19]])\n"
     ]
    }
   ],
   "source": [
    "#转置\n",
    "print(A.T)"
   ]
  },
  {
   "cell_type": "code",
   "execution_count": 10,
   "id": "bfc41908",
   "metadata": {
    "ExecuteTime": {
     "end_time": "2023-10-08T06:27:17.912924800Z",
     "start_time": "2023-10-08T06:27:17.890794800Z"
    }
   },
   "outputs": [
    {
     "name": "stdout",
     "output_type": "stream",
     "text": [
      "tensor([[True, True, True],\n",
      "        [True, True, True],\n",
      "        [True, True, True]])\n"
     ]
    }
   ],
   "source": [
    "#对称矩阵\n",
    "B=torch.tensor([[1,2,3],[2,0,4],[3,4,5]])\n",
    "print(B==B.T)"
   ]
  },
  {
   "cell_type": "code",
   "execution_count": 11,
   "id": "68acb35b",
   "metadata": {
    "ExecuteTime": {
     "end_time": "2023-10-08T06:27:17.912924800Z",
     "start_time": "2023-10-08T06:27:17.897040200Z"
    }
   },
   "outputs": [
    {
     "name": "stdout",
     "output_type": "stream",
     "text": [
      "tensor([[[ 0,  1,  2,  3],\n",
      "         [ 4,  5,  6,  7],\n",
      "         [ 8,  9, 10, 11]],\n",
      "\n",
      "        [[12, 13, 14, 15],\n",
      "         [16, 17, 18, 19],\n",
      "         [20, 21, 22, 23]]])\n"
     ]
    }
   ],
   "source": [
    "#张量\n",
    "X=torch.arange(24).reshape(2,3,4)\n",
    "print(X)"
   ]
  },
  {
   "cell_type": "code",
   "execution_count": 12,
   "id": "0a6f382e",
   "metadata": {
    "ExecuteTime": {
     "end_time": "2023-10-08T06:27:17.912924800Z",
     "start_time": "2023-10-08T06:27:17.902009900Z"
    }
   },
   "outputs": [
    {
     "name": "stdout",
     "output_type": "stream",
     "text": [
      "tensor([[ 0.,  1.,  2.,  3.],\n",
      "        [ 4.,  5.,  6.,  7.],\n",
      "        [ 8.,  9., 10., 11.],\n",
      "        [12., 13., 14., 15.],\n",
      "        [16., 17., 18., 19.]]) tensor([[ 0.,  2.,  4.,  6.],\n",
      "        [ 8., 10., 12., 14.],\n",
      "        [16., 18., 20., 22.],\n",
      "        [24., 26., 28., 30.],\n",
      "        [32., 34., 36., 38.]])\n"
     ]
    }
   ],
   "source": [
    "A=torch.arange(20,dtype=torch.float32).reshape(5,4)\n",
    "B=A.clone()#通过分配新内存，将A的一个副本分配到B\n",
    "print(A,A+B)"
   ]
  },
  {
   "cell_type": "code",
   "execution_count": 13,
   "id": "28083170",
   "metadata": {
    "ExecuteTime": {
     "end_time": "2023-10-08T06:27:17.912924800Z",
     "start_time": "2023-10-08T06:27:17.907346400Z"
    }
   },
   "outputs": [
    {
     "name": "stdout",
     "output_type": "stream",
     "text": [
      "tensor([[  0.,   1.,   4.,   9.],\n",
      "        [ 16.,  25.,  36.,  49.],\n",
      "        [ 64.,  81., 100., 121.],\n",
      "        [144., 169., 196., 225.],\n",
      "        [256., 289., 324., 361.]])\n"
     ]
    }
   ],
   "source": [
    "#Hadamard积\n",
    "print(A*B)"
   ]
  },
  {
   "cell_type": "code",
   "execution_count": 14,
   "id": "bcc0be1a",
   "metadata": {
    "ExecuteTime": {
     "end_time": "2023-10-08T06:27:17.944885600Z",
     "start_time": "2023-10-08T06:27:17.912924800Z"
    }
   },
   "outputs": [
    {
     "name": "stdout",
     "output_type": "stream",
     "text": [
      "tensor([[[ 2,  3,  4,  5],\n",
      "         [ 6,  7,  8,  9],\n",
      "         [10, 11, 12, 13]],\n",
      "\n",
      "        [[14, 15, 16, 17],\n",
      "         [18, 19, 20, 21],\n",
      "         [22, 23, 24, 25]]])\n",
      "tensor([[[ 0,  2,  4,  6],\n",
      "         [ 8, 10, 12, 14],\n",
      "         [16, 18, 20, 22]],\n",
      "\n",
      "        [[24, 26, 28, 30],\n",
      "         [32, 34, 36, 38],\n",
      "         [40, 42, 44, 46]]])\n",
      "torch.Size([2, 3, 4])\n"
     ]
    }
   ],
   "source": [
    "a=2\n",
    "X=torch.arange(24).reshape(2,3,4)\n",
    "print(a+X)\n",
    "print(a*X)\n",
    "print((a*X).shape)"
   ]
  },
  {
   "cell_type": "code",
   "execution_count": 15,
   "id": "e62b9fb5",
   "metadata": {
    "ExecuteTime": {
     "end_time": "2023-10-08T06:27:17.944885600Z",
     "start_time": "2023-10-08T06:27:17.920031800Z"
    }
   },
   "outputs": [
    {
     "name": "stdout",
     "output_type": "stream",
     "text": [
      "tensor([0., 1., 2., 3.]) tensor(6.)\n"
     ]
    }
   ],
   "source": [
    "#元素总和\n",
    "x=torch.arange(4,dtype=torch.float32)\n",
    "print(x,x.sum())"
   ]
  },
  {
   "cell_type": "code",
   "execution_count": 16,
   "id": "35c6935e",
   "metadata": {
    "ExecuteTime": {
     "end_time": "2023-10-08T06:27:17.944885600Z",
     "start_time": "2023-10-08T06:27:17.928903200Z"
    }
   },
   "outputs": [
    {
     "name": "stdout",
     "output_type": "stream",
     "text": [
      "torch.Size([5, 4]) tensor(190.)\n"
     ]
    }
   ],
   "source": [
    "print(A.shape,A.sum())"
   ]
  },
  {
   "cell_type": "code",
   "execution_count": 17,
   "id": "ac48c4f3",
   "metadata": {
    "ExecuteTime": {
     "end_time": "2023-10-08T06:27:17.944885600Z",
     "start_time": "2023-10-08T06:27:17.931005300Z"
    }
   },
   "outputs": [
    {
     "name": "stdout",
     "output_type": "stream",
     "text": [
      "tensor([40., 45., 50., 55.]) torch.Size([4])\n"
     ]
    }
   ],
   "source": [
    "#按列求和\n",
    "A_sum_axis0=A.sum(axis=0)\n",
    "print(A_sum_axis0,A_sum_axis0.shape)"
   ]
  },
  {
   "cell_type": "code",
   "execution_count": 18,
   "id": "aa601036",
   "metadata": {
    "ExecuteTime": {
     "end_time": "2023-10-08T06:27:18.086487400Z",
     "start_time": "2023-10-08T06:27:17.937174200Z"
    }
   },
   "outputs": [
    {
     "name": "stdout",
     "output_type": "stream",
     "text": [
      "tensor([ 6., 22., 38., 54., 70.]) torch.Size([5])\n"
     ]
    }
   ],
   "source": [
    "#按列求和\n",
    "A_sum_axis1=A.sum(axis=1)\n",
    "print(A_sum_axis1,A_sum_axis1.shape)"
   ]
  },
  {
   "cell_type": "code",
   "execution_count": 19,
   "id": "a57bdf6a",
   "metadata": {
    "ExecuteTime": {
     "end_time": "2023-10-08T06:27:18.086487400Z",
     "start_time": "2023-10-08T06:27:17.944885600Z"
    }
   },
   "outputs": [
    {
     "name": "stdout",
     "output_type": "stream",
     "text": [
      "tensor(190.)\n"
     ]
    }
   ],
   "source": [
    "#沿着行和列进行求和\n",
    "print(A.sum(axis=[0,1]))"
   ]
  },
  {
   "cell_type": "code",
   "execution_count": 20,
   "id": "3f9012ec",
   "metadata": {
    "ExecuteTime": {
     "end_time": "2023-10-08T06:27:18.102110600Z",
     "start_time": "2023-10-08T06:27:17.950828100Z"
    }
   },
   "outputs": [
    {
     "name": "stdout",
     "output_type": "stream",
     "text": [
      "tensor(9.5000)\n",
      "tensor(9.5000)\n"
     ]
    }
   ],
   "source": [
    "#求平均值\n",
    "print(A.mean())\n",
    "print(A.sum()/A.numel())"
   ]
  },
  {
   "cell_type": "code",
   "execution_count": 21,
   "id": "ee1fd44d",
   "metadata": {
    "ExecuteTime": {
     "end_time": "2023-10-08T06:27:18.102110600Z",
     "start_time": "2023-10-08T06:27:17.960860Z"
    }
   },
   "outputs": [
    {
     "name": "stdout",
     "output_type": "stream",
     "text": [
      "tensor([ 8.,  9., 10., 11.])\n",
      "tensor([2.0000, 2.2500, 2.5000, 2.7500])\n"
     ]
    }
   ],
   "source": [
    "#按行降低维度求平均值\n",
    "print(A.mean(axis=0))\n",
    "print(A.sum(axis=0)/A.numel())"
   ]
  },
  {
   "cell_type": "code",
   "execution_count": 22,
   "id": "21530c8b",
   "metadata": {
    "ExecuteTime": {
     "end_time": "2023-10-08T06:27:18.102110600Z",
     "start_time": "2023-10-08T06:27:17.965899800Z"
    }
   },
   "outputs": [
    {
     "name": "stdout",
     "output_type": "stream",
     "text": [
      "tensor([[ 6.],\n",
      "        [22.],\n",
      "        [38.],\n",
      "        [54.],\n",
      "        [70.]])\n"
     ]
    }
   ],
   "source": [
    "#非降维求和\n",
    "sum_A=A.sum(axis=1,keepdims=True)\n",
    "print(sum_A)"
   ]
  },
  {
   "cell_type": "code",
   "execution_count": 23,
   "id": "02303573",
   "metadata": {
    "ExecuteTime": {
     "end_time": "2023-10-08T06:27:18.102110600Z",
     "start_time": "2023-10-08T06:27:17.971526600Z"
    }
   },
   "outputs": [
    {
     "name": "stdout",
     "output_type": "stream",
     "text": [
      "tensor([[0.0000, 0.1667, 0.3333, 0.5000],\n",
      "        [0.1818, 0.2273, 0.2727, 0.3182],\n",
      "        [0.2105, 0.2368, 0.2632, 0.2895],\n",
      "        [0.2222, 0.2407, 0.2593, 0.2778],\n",
      "        [0.2286, 0.2429, 0.2571, 0.2714]])\n"
     ]
    }
   ],
   "source": [
    "print(A/sum_A)"
   ]
  },
  {
   "cell_type": "code",
   "execution_count": 24,
   "id": "ca362fae",
   "metadata": {
    "ExecuteTime": {
     "end_time": "2023-10-08T06:27:18.102110600Z",
     "start_time": "2023-10-08T06:27:17.976659900Z"
    }
   },
   "outputs": [
    {
     "name": "stdout",
     "output_type": "stream",
     "text": [
      "tensor([[ 0.,  1.,  2.,  3.],\n",
      "        [ 4.,  5.,  6.,  7.],\n",
      "        [ 8.,  9., 10., 11.],\n",
      "        [12., 13., 14., 15.],\n",
      "        [16., 17., 18., 19.]])\n",
      "tensor([[ 0.,  1.,  2.,  3.],\n",
      "        [ 4.,  6.,  8., 10.],\n",
      "        [12., 15., 18., 21.],\n",
      "        [24., 28., 32., 36.],\n",
      "        [40., 45., 50., 55.]])\n"
     ]
    }
   ],
   "source": [
    "print(A)\n",
    "print(A.cumsum(axis=0))"
   ]
  },
  {
   "cell_type": "code",
   "execution_count": 25,
   "id": "49034fbe",
   "metadata": {
    "ExecuteTime": {
     "end_time": "2023-10-08T06:27:18.102110600Z",
     "start_time": "2023-10-08T06:27:17.986545500Z"
    }
   },
   "outputs": [
    {
     "name": "stdout",
     "output_type": "stream",
     "text": [
      "tensor([0., 1., 2., 3.]) tensor([1., 1., 1., 1.]) tensor(6.)\n",
      "tensor(6.)\n"
     ]
    }
   ],
   "source": [
    "#点积\n",
    "y=torch.ones(4,dtype=torch.float32)\n",
    "print(x,y,torch.dot(x,y))\n",
    "#逐元素求积，然后求和\n",
    "print(torch.sum(x*y))"
   ]
  },
  {
   "cell_type": "code",
   "execution_count": 26,
   "id": "291bcd78",
   "metadata": {
    "ExecuteTime": {
     "end_time": "2023-10-08T06:27:18.102110600Z",
     "start_time": "2023-10-08T06:27:17.997647100Z"
    }
   },
   "outputs": [
    {
     "name": "stdout",
     "output_type": "stream",
     "text": [
      "tensor([[ 0.,  1.,  2.,  3.],\n",
      "        [ 4.,  5.,  6.,  7.],\n",
      "        [ 8.,  9., 10., 11.],\n",
      "        [12., 13., 14., 15.],\n",
      "        [16., 17., 18., 19.]]) torch.Size([5, 4])\n",
      "tensor([0., 1., 2., 3.]) torch.Size([4])\n",
      "tensor([ 14.,  38.,  62.,  86., 110.])\n"
     ]
    }
   ],
   "source": [
    "#矩阵向量积\n",
    "print(A,A.shape)\n",
    "print(x,x.shape)\n",
    "print(torch.mv(A,x))"
   ]
  },
  {
   "cell_type": "code",
   "execution_count": 27,
   "id": "673de11c",
   "metadata": {
    "ExecuteTime": {
     "end_time": "2023-10-08T06:27:18.102110600Z",
     "start_time": "2023-10-08T06:27:18.008144Z"
    }
   },
   "outputs": [
    {
     "name": "stdout",
     "output_type": "stream",
     "text": [
      "tensor([[ 6.,  6.,  6.],\n",
      "        [22., 22., 22.],\n",
      "        [38., 38., 38.],\n",
      "        [54., 54., 54.],\n",
      "        [70., 70., 70.]])\n"
     ]
    }
   ],
   "source": [
    "#矩阵矩阵乘法\n",
    "B=torch.ones(4,3)\n",
    "print(torch.mm(A,B))"
   ]
  },
  {
   "cell_type": "code",
   "execution_count": 28,
   "id": "ce0a5851",
   "metadata": {
    "ExecuteTime": {
     "end_time": "2023-10-08T06:27:18.102110600Z",
     "start_time": "2023-10-08T06:27:18.017768200Z"
    }
   },
   "outputs": [
    {
     "name": "stdout",
     "output_type": "stream",
     "text": [
      "tensor(5.)\n"
     ]
    }
   ],
   "source": [
    "#L2范数\n",
    "u=torch.tensor([3.0,-4.0])\n",
    "print(torch.norm(u))"
   ]
  },
  {
   "cell_type": "code",
   "execution_count": 29,
   "id": "5d350975",
   "metadata": {
    "ExecuteTime": {
     "end_time": "2023-10-08T06:27:18.102110600Z",
     "start_time": "2023-10-08T06:27:18.024254800Z"
    }
   },
   "outputs": [
    {
     "name": "stdout",
     "output_type": "stream",
     "text": [
      "tensor(7.)\n"
     ]
    }
   ],
   "source": [
    "#L1范数\n",
    "print(torch.abs(u).sum())"
   ]
  },
  {
   "cell_type": "code",
   "execution_count": 30,
   "id": "2f7365dc",
   "metadata": {
    "ExecuteTime": {
     "end_time": "2023-10-08T06:27:18.102110600Z",
     "start_time": "2023-10-08T06:27:18.029640700Z"
    }
   },
   "outputs": [
    {
     "name": "stdout",
     "output_type": "stream",
     "text": [
      "tensor(6.)\n"
     ]
    }
   ],
   "source": [
    "#范数\n",
    "print(torch.norm(torch.ones(4,9)))"
   ]
  },
  {
   "cell_type": "code",
   "execution_count": 30,
   "id": "f69d2441",
   "metadata": {
    "ExecuteTime": {
     "end_time": "2023-10-08T06:27:18.102110600Z",
     "start_time": "2023-10-08T06:27:18.037601Z"
    }
   },
   "outputs": [],
   "source": []
  }
 ],
 "metadata": {
  "kernelspec": {
   "display_name": "DL",
   "language": "python",
   "name": "dl"
  },
  "language_info": {
   "codemirror_mode": {
    "name": "ipython",
    "version": 3
   },
   "file_extension": ".py",
   "mimetype": "text/x-python",
   "name": "python",
   "nbconvert_exporter": "python",
   "pygments_lexer": "ipython3",
   "version": "3.11.4"
  }
 },
 "nbformat": 4,
 "nbformat_minor": 5
}
