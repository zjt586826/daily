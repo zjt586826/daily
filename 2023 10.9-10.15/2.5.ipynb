{
 "cells": [
  {
   "cell_type": "code",
   "execution_count": 1,
   "id": "38821dbe",
   "metadata": {
    "ExecuteTime": {
     "end_time": "2023-10-08T07:13:29.417740100Z",
     "start_time": "2023-10-08T07:13:28.185273Z"
    }
   },
   "outputs": [],
   "source": [
    "import torch"
   ]
  },
  {
   "cell_type": "code",
   "execution_count": 2,
   "id": "3e8b78c9",
   "metadata": {
    "ExecuteTime": {
     "end_time": "2023-10-08T07:13:29.426870200Z",
     "start_time": "2023-10-08T07:13:29.417740100Z"
    }
   },
   "outputs": [
    {
     "name": "stdout",
     "output_type": "stream",
     "text": [
      "tensor([0., 1., 2., 3.])\n"
     ]
    }
   ],
   "source": [
    "x=torch.arange(4.0)\n",
    "print(x)"
   ]
  },
  {
   "cell_type": "code",
   "execution_count": 3,
   "id": "2cdabca8",
   "metadata": {
    "ExecuteTime": {
     "end_time": "2023-10-08T07:13:29.431280800Z",
     "start_time": "2023-10-08T07:13:29.426870200Z"
    }
   },
   "outputs": [
    {
     "name": "stdout",
     "output_type": "stream",
     "text": [
      "None\n"
     ]
    }
   ],
   "source": [
    "x.requires_grad_(True)#等价于x=torch.arange(4.0,requires_grad=True)\n",
    "print(x.grad)#默认值是None"
   ]
  },
  {
   "cell_type": "code",
   "execution_count": 4,
   "id": "b689cbc2",
   "metadata": {
    "ExecuteTime": {
     "end_time": "2023-10-08T07:13:29.442643200Z",
     "start_time": "2023-10-08T07:13:29.431280800Z"
    }
   },
   "outputs": [
    {
     "name": "stdout",
     "output_type": "stream",
     "text": [
      "tensor(28., grad_fn=<MulBackward0>)\n"
     ]
    }
   ],
   "source": [
    "y=2*torch.dot(x,x)\n",
    "print(y)"
   ]
  },
  {
   "cell_type": "code",
   "execution_count": 5,
   "id": "a087024f",
   "metadata": {
    "ExecuteTime": {
     "end_time": "2023-10-08T07:13:29.509343200Z",
     "start_time": "2023-10-08T07:13:29.442643200Z"
    }
   },
   "outputs": [
    {
     "name": "stdout",
     "output_type": "stream",
     "text": [
      "tensor([ 0.,  4.,  8., 12.])\n"
     ]
    }
   ],
   "source": [
    "#反向传播\n",
    "y.backward()\n",
    "print(x.grad)"
   ]
  },
  {
   "cell_type": "code",
   "execution_count": 6,
   "id": "223bae04",
   "metadata": {
    "ExecuteTime": {
     "end_time": "2023-10-08T07:13:29.509343200Z",
     "start_time": "2023-10-08T07:13:29.503213800Z"
    }
   },
   "outputs": [
    {
     "name": "stdout",
     "output_type": "stream",
     "text": [
      "tensor([True, True, True, True])\n"
     ]
    }
   ],
   "source": [
    "print(x.grad==4*x)"
   ]
  },
  {
   "cell_type": "code",
   "execution_count": 7,
   "id": "4042ab7e",
   "metadata": {
    "ExecuteTime": {
     "end_time": "2023-10-08T07:13:29.520464900Z",
     "start_time": "2023-10-08T07:13:29.509343200Z"
    }
   },
   "outputs": [
    {
     "name": "stdout",
     "output_type": "stream",
     "text": [
      "tensor([1., 1., 1., 1.])\n"
     ]
    }
   ],
   "source": [
    "#在默认情况下，pytorch会累计梯度，需要清楚之前的值\n",
    "x.grad.zero_()\n",
    "y=x.sum()\n",
    "y.backward()\n",
    "print(x.grad)"
   ]
  },
  {
   "cell_type": "code",
   "execution_count": 8,
   "id": "f4226210",
   "metadata": {
    "ExecuteTime": {
     "end_time": "2023-10-08T07:13:29.526666600Z",
     "start_time": "2023-10-08T07:13:29.520464900Z"
    }
   },
   "outputs": [
    {
     "name": "stdout",
     "output_type": "stream",
     "text": [
      "tensor([0., 2., 4., 6.])\n"
     ]
    }
   ],
   "source": [
    "# 对非标量调用backward需要传入一个gradient参数，该参数指定微分函数关于self的梯度。\n",
    "# 本例只想求偏导数的和，所以传递一个1的梯度是合适的\n",
    "x.grad.zero_()\n",
    "y = x * x\n",
    "# 等价于y.backward(torch.ones(len(x)))\n",
    "y.sum().backward()\n",
    "print(x.grad)"
   ]
  },
  {
   "cell_type": "code",
   "execution_count": 9,
   "id": "669c23f8",
   "metadata": {
    "ExecuteTime": {
     "end_time": "2023-10-08T07:13:29.581992200Z",
     "start_time": "2023-10-08T07:13:29.526666600Z"
    }
   },
   "outputs": [
    {
     "name": "stdout",
     "output_type": "stream",
     "text": [
      "tensor([True, True, True, True])\n"
     ]
    }
   ],
   "source": [
    "#分离计算\n",
    "x.grad.zero_()\n",
    "y=x*x\n",
    "u=y.detach()\n",
    "z=u*x\n",
    "z.sum().backward()\n",
    "print(x.grad==u)"
   ]
  },
  {
   "cell_type": "code",
   "execution_count": 10,
   "id": "72dc9739",
   "metadata": {
    "ExecuteTime": {
     "end_time": "2023-10-08T07:13:29.581992200Z",
     "start_time": "2023-10-08T07:13:29.534169700Z"
    }
   },
   "outputs": [
    {
     "name": "stdout",
     "output_type": "stream",
     "text": [
      "tensor([True, True, True, True])\n"
     ]
    }
   ],
   "source": [
    "x.grad.zero_()\n",
    "y.sum().backward()\n",
    "print(x.grad==2*x)"
   ]
  },
  {
   "cell_type": "code",
   "execution_count": 11,
   "id": "2b1aa0a0",
   "metadata": {
    "ExecuteTime": {
     "end_time": "2023-10-08T07:13:29.581992200Z",
     "start_time": "2023-10-08T07:13:29.541607700Z"
    }
   },
   "outputs": [],
   "source": [
    "#Python控制流的梯度计算\n",
    "def f(a):\n",
    "    b=a*2\n",
    "    while b.norm()<1000:\n",
    "        b=b*2\n",
    "    if b.sum()>0:\n",
    "        c=b\n",
    "    else:\n",
    "        c=100*b\n",
    "    return c"
   ]
  },
  {
   "cell_type": "code",
   "execution_count": 12,
   "id": "cb7f36b2",
   "metadata": {
    "ExecuteTime": {
     "end_time": "2023-10-08T07:13:29.581992200Z",
     "start_time": "2023-10-08T07:13:29.546745200Z"
    }
   },
   "outputs": [
    {
     "name": "stdout",
     "output_type": "stream",
     "text": [
      "tensor(1024.)\n",
      "tensor(True)\n"
     ]
    }
   ],
   "source": [
    "a=torch.randn(size=(),requires_grad=True)\n",
    "d=f(a)\n",
    "d.backward()\n",
    "print(a.grad)\n",
    "print(a.grad==d/a)"
   ]
  },
  {
   "cell_type": "code",
   "execution_count": 12,
   "id": "df3b61a1",
   "metadata": {
    "ExecuteTime": {
     "end_time": "2023-10-08T07:13:29.581992200Z",
     "start_time": "2023-10-08T07:13:29.557565700Z"
    }
   },
   "outputs": [],
   "source": []
  }
 ],
 "metadata": {
  "kernelspec": {
   "display_name": "DL",
   "language": "python",
   "name": "dl"
  },
  "language_info": {
   "codemirror_mode": {
    "name": "ipython",
    "version": 3
   },
   "file_extension": ".py",
   "mimetype": "text/x-python",
   "name": "python",
   "nbconvert_exporter": "python",
   "pygments_lexer": "ipython3",
   "version": "3.11.4"
  }
 },
 "nbformat": 4,
 "nbformat_minor": 5
}
