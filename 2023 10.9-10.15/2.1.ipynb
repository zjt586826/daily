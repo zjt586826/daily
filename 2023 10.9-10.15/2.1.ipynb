{
 "cells": [
  {
   "cell_type": "code",
   "execution_count": 1,
   "id": "2530c8bd",
   "metadata": {
    "ExecuteTime": {
     "end_time": "2023-10-08T06:21:02.886086200Z",
     "start_time": "2023-10-08T06:21:01.650328300Z"
    }
   },
   "outputs": [],
   "source": [
    "import torch"
   ]
  },
  {
   "cell_type": "code",
   "execution_count": 2,
   "id": "2cca5f70",
   "metadata": {
    "ExecuteTime": {
     "end_time": "2023-10-08T06:21:02.901314300Z",
     "start_time": "2023-10-08T06:21:02.889322Z"
    }
   },
   "outputs": [
    {
     "name": "stdout",
     "output_type": "stream",
     "text": [
      "tensor([ 0,  1,  2,  3,  4,  5,  6,  7,  8,  9, 10, 11])\n"
     ]
    }
   ],
   "source": [
    "x=torch.arange(12)#行向量，从0到11\n",
    "print(x)"
   ]
  },
  {
   "cell_type": "code",
   "execution_count": 3,
   "id": "3b534ce6",
   "metadata": {
    "ExecuteTime": {
     "end_time": "2023-10-08T06:21:02.904324700Z",
     "start_time": "2023-10-08T06:21:02.901314300Z"
    }
   },
   "outputs": [
    {
     "name": "stdout",
     "output_type": "stream",
     "text": [
      "torch.Size([12])\n"
     ]
    }
   ],
   "source": [
    "print(x.shape)#返回张量的形状"
   ]
  },
  {
   "cell_type": "code",
   "execution_count": 4,
   "id": "e6e82fc4",
   "metadata": {
    "ExecuteTime": {
     "end_time": "2023-10-08T06:21:02.908733200Z",
     "start_time": "2023-10-08T06:21:02.904324700Z"
    }
   },
   "outputs": [
    {
     "name": "stdout",
     "output_type": "stream",
     "text": [
      "12\n"
     ]
    }
   ],
   "source": [
    "print(x.numel())#返回张量的元素总数"
   ]
  },
  {
   "cell_type": "code",
   "execution_count": 5,
   "id": "132142f8",
   "metadata": {
    "ExecuteTime": {
     "end_time": "2023-10-08T06:21:02.943524700Z",
     "start_time": "2023-10-08T06:21:02.911948200Z"
    }
   },
   "outputs": [
    {
     "name": "stdout",
     "output_type": "stream",
     "text": [
      "tensor([[ 0,  1,  2,  3],\n",
      "        [ 4,  5,  6,  7],\n",
      "        [ 8,  9, 10, 11]])\n"
     ]
    }
   ],
   "source": [
    "X=x.reshape(3,4)#改变形状\n",
    "#X=x.reshape(3,-1)\n",
    "#X=x.reshape(-1,4)\n",
    "print(X)"
   ]
  },
  {
   "cell_type": "code",
   "execution_count": 6,
   "id": "b923c455",
   "metadata": {
    "ExecuteTime": {
     "end_time": "2023-10-08T06:21:02.943524700Z",
     "start_time": "2023-10-08T06:21:02.913806600Z"
    }
   },
   "outputs": [
    {
     "name": "stdout",
     "output_type": "stream",
     "text": [
      "tensor([[[0., 0., 0., 0.],\n",
      "         [0., 0., 0., 0.],\n",
      "         [0., 0., 0., 0.]],\n",
      "\n",
      "        [[0., 0., 0., 0.],\n",
      "         [0., 0., 0., 0.],\n",
      "         [0., 0., 0., 0.]]])\n"
     ]
    }
   ],
   "source": [
    "print(torch.zeros(2,3,4))#创建全0张量，两通道，3行4列"
   ]
  },
  {
   "cell_type": "code",
   "execution_count": 7,
   "id": "f88378c6",
   "metadata": {
    "ExecuteTime": {
     "end_time": "2023-10-08T06:21:02.943524700Z",
     "start_time": "2023-10-08T06:21:02.923688700Z"
    }
   },
   "outputs": [
    {
     "name": "stdout",
     "output_type": "stream",
     "text": [
      "tensor([[[1., 1., 1., 1.],\n",
      "         [1., 1., 1., 1.],\n",
      "         [1., 1., 1., 1.]],\n",
      "\n",
      "        [[1., 1., 1., 1.],\n",
      "         [1., 1., 1., 1.],\n",
      "         [1., 1., 1., 1.]]])\n"
     ]
    }
   ],
   "source": [
    "print(torch.ones(2,3,4))#创建全1张量，两通道，3行4列"
   ]
  },
  {
   "cell_type": "code",
   "execution_count": 8,
   "id": "d758d112",
   "metadata": {
    "ExecuteTime": {
     "end_time": "2023-10-08T06:21:02.943524700Z",
     "start_time": "2023-10-08T06:21:02.930869200Z"
    }
   },
   "outputs": [
    {
     "name": "stdout",
     "output_type": "stream",
     "text": [
      "tensor([[-0.2383,  1.5807,  0.6367,  0.0719],\n",
      "        [ 1.0828,  0.7026, -0.1680, -0.8941],\n",
      "        [-0.7969, -0.7042, -0.5741,  0.4403]])\n"
     ]
    }
   ],
   "source": [
    "print(torch.randn(3,4))#创建3行4列的随机张量，服从标准正态分布"
   ]
  },
  {
   "cell_type": "code",
   "execution_count": 9,
   "id": "0d6497c2",
   "metadata": {
    "ExecuteTime": {
     "end_time": "2023-10-08T06:21:02.947396100Z",
     "start_time": "2023-10-08T06:21:02.943524700Z"
    }
   },
   "outputs": [
    {
     "name": "stdout",
     "output_type": "stream",
     "text": [
      "tensor([[1, 2, 3, 4],\n",
      "        [5, 6, 7, 8]])\n"
     ]
    }
   ],
   "source": [
    "a=torch.tensor([[1,2,3,4],[5,6,7,8]])#直接创建张量确定数值\n",
    "print(a)"
   ]
  },
  {
   "cell_type": "code",
   "execution_count": 10,
   "id": "b08feef6",
   "metadata": {
    "ExecuteTime": {
     "end_time": "2023-10-08T06:21:02.960878300Z",
     "start_time": "2023-10-08T06:21:02.947396100Z"
    }
   },
   "outputs": [
    {
     "name": "stdout",
     "output_type": "stream",
     "text": [
      "tensor([ 6.,  8., 10., 12.])\n",
      "tensor([-4., -4., -4., -4.])\n",
      "tensor([ 5., 12., 21., 32.])\n",
      "tensor([0.2000, 0.3333, 0.4286, 0.5000])\n",
      "tensor([1.0000e+00, 6.4000e+01, 2.1870e+03, 6.5536e+04])\n"
     ]
    }
   ],
   "source": [
    "x=torch.tensor([1.0,2,3,4])\n",
    "y=torch.tensor([5,6,7,8])\n",
    "print(x+y)#加\n",
    "print(x-y)#减\n",
    "print(x*y)#乘\n",
    "print(x/y)#除\n",
    "print(x**y)#求幂"
   ]
  },
  {
   "cell_type": "code",
   "execution_count": 11,
   "id": "ca7aad82",
   "metadata": {
    "ExecuteTime": {
     "end_time": "2023-10-08T06:21:02.975486200Z",
     "start_time": "2023-10-08T06:21:02.960878300Z"
    }
   },
   "outputs": [
    {
     "name": "stdout",
     "output_type": "stream",
     "text": [
      "tensor([ 2.7183,  7.3891, 20.0855, 54.5981])\n"
     ]
    }
   ],
   "source": [
    "print(torch.exp(x))#e的x次方"
   ]
  },
  {
   "cell_type": "code",
   "execution_count": 12,
   "id": "da09500f",
   "metadata": {
    "ExecuteTime": {
     "end_time": "2023-10-08T06:21:03.054750900Z",
     "start_time": "2023-10-08T06:21:02.972478300Z"
    }
   },
   "outputs": [
    {
     "name": "stdout",
     "output_type": "stream",
     "text": [
      "tensor([[ 0.,  1.,  2.,  3.],\n",
      "        [ 4.,  5.,  6.,  7.],\n",
      "        [ 8.,  9., 10., 11.],\n",
      "        [ 1.,  2.,  3.,  4.],\n",
      "        [ 5.,  6.,  7.,  8.],\n",
      "        [ 9., 10., 11., 12.]])\n",
      "tensor([[ 0.,  1.,  2.,  3.,  1.,  2.,  3.,  4.],\n",
      "        [ 4.,  5.,  6.,  7.,  5.,  6.,  7.,  8.],\n",
      "        [ 8.,  9., 10., 11.,  9., 10., 11., 12.]])\n"
     ]
    }
   ],
   "source": [
    "X=torch.arange(12,dtype=torch.float32).reshape(3,4)\n",
    "Y=torch.tensor([[1,2,3,4],[5,6,7,8],[9,10,11,12]])\n",
    "print(torch.cat((X,Y),dim=0))#按行进行连接\n",
    "print(torch.cat((X,Y),dim=1))#按列进行链接"
   ]
  },
  {
   "cell_type": "code",
   "execution_count": 13,
   "id": "b8dc2764",
   "metadata": {
    "ExecuteTime": {
     "end_time": "2023-10-08T06:21:03.054750900Z",
     "start_time": "2023-10-08T06:21:02.983194200Z"
    }
   },
   "outputs": [
    {
     "name": "stdout",
     "output_type": "stream",
     "text": [
      "tensor([[False, False, False, False],\n",
      "        [False, False, False, False],\n",
      "        [False, False, False, False]])\n"
     ]
    }
   ],
   "source": [
    "print(X==Y)#判断XY是否相等"
   ]
  },
  {
   "cell_type": "code",
   "execution_count": 14,
   "id": "5235ae7a",
   "metadata": {
    "ExecuteTime": {
     "end_time": "2023-10-08T06:21:03.054750900Z",
     "start_time": "2023-10-08T06:21:02.991447500Z"
    }
   },
   "outputs": [
    {
     "name": "stdout",
     "output_type": "stream",
     "text": [
      "tensor(66.)\n"
     ]
    }
   ],
   "source": [
    "print(X.sum())#对X的所有元素求和"
   ]
  },
  {
   "cell_type": "code",
   "execution_count": 15,
   "id": "b1643bdb",
   "metadata": {
    "ExecuteTime": {
     "end_time": "2023-10-08T06:21:03.054750900Z",
     "start_time": "2023-10-08T06:21:02.995978300Z"
    }
   },
   "outputs": [
    {
     "name": "stdout",
     "output_type": "stream",
     "text": [
      "tensor([[0],\n",
      "        [1],\n",
      "        [2]]) tensor([[0, 1]])\n"
     ]
    }
   ],
   "source": [
    "a=torch.arange(3).reshape(3,1)\n",
    "b=torch.arange(2).reshape(1,2)\n",
    "print(a,b)"
   ]
  },
  {
   "cell_type": "code",
   "execution_count": 16,
   "id": "0f9904c3",
   "metadata": {
    "ExecuteTime": {
     "end_time": "2023-10-08T06:21:03.054750900Z",
     "start_time": "2023-10-08T06:21:03.000930700Z"
    }
   },
   "outputs": [
    {
     "name": "stdout",
     "output_type": "stream",
     "text": [
      "tensor([[0, 1],\n",
      "        [1, 2],\n",
      "        [2, 3]])\n"
     ]
    }
   ],
   "source": [
    "print(a+b)#广播，a复制列，b复制行"
   ]
  },
  {
   "cell_type": "code",
   "execution_count": 17,
   "id": "ded362f8",
   "metadata": {
    "ExecuteTime": {
     "end_time": "2023-10-08T06:21:03.054750900Z",
     "start_time": "2023-10-08T06:21:03.007252800Z"
    }
   },
   "outputs": [
    {
     "name": "stdout",
     "output_type": "stream",
     "text": [
      "tensor([ 8,  9, 10, 11])\n",
      "tensor([[ 4,  5,  6,  7],\n",
      "        [ 8,  9, 10, 11]])\n"
     ]
    }
   ],
   "source": [
    "X=torch.arange(12).reshape(3,4)\n",
    "print(X[-1])#行最后一行\n",
    "print(X[1:3])#第二行到第三行"
   ]
  },
  {
   "cell_type": "code",
   "execution_count": 18,
   "id": "4a631494",
   "metadata": {
    "ExecuteTime": {
     "end_time": "2023-10-08T06:21:03.054750900Z",
     "start_time": "2023-10-08T06:21:03.013497900Z"
    }
   },
   "outputs": [
    {
     "name": "stdout",
     "output_type": "stream",
     "text": [
      "tensor([[ 0,  1,  2,  3],\n",
      "        [ 4,  5,  6,  7],\n",
      "        [ 8,  9,  9, 11]])\n"
     ]
    }
   ],
   "source": [
    "X[2,2]=9#将第2行第3个元素改为9\n",
    "print(X)"
   ]
  },
  {
   "cell_type": "code",
   "execution_count": 19,
   "id": "d7729104",
   "metadata": {
    "ExecuteTime": {
     "end_time": "2023-10-08T06:21:03.054750900Z",
     "start_time": "2023-10-08T06:21:03.019893100Z"
    }
   },
   "outputs": [
    {
     "name": "stdout",
     "output_type": "stream",
     "text": [
      "tensor([[66, 66, 66, 66],\n",
      "        [66, 66, 66, 66],\n",
      "        [ 8,  9,  9, 11]])\n"
     ]
    }
   ],
   "source": [
    "X[0:2, : ]=66#将第1行到第2行改为66\n",
    "print(X)"
   ]
  },
  {
   "cell_type": "code",
   "execution_count": 20,
   "id": "b4c40e9b",
   "metadata": {
    "ExecuteTime": {
     "end_time": "2023-10-08T06:21:03.054750900Z",
     "start_time": "2023-10-08T06:21:03.025511900Z"
    }
   },
   "outputs": [
    {
     "name": "stdout",
     "output_type": "stream",
     "text": [
      "False\n"
     ]
    }
   ],
   "source": [
    "before = id(Y)\n",
    "Y=Y+X\n",
    "print(id(Y)==before)"
   ]
  },
  {
   "cell_type": "code",
   "execution_count": 21,
   "id": "0233182d",
   "metadata": {
    "ExecuteTime": {
     "end_time": "2023-10-08T06:21:03.054750900Z",
     "start_time": "2023-10-08T06:21:03.031009900Z"
    }
   },
   "outputs": [
    {
     "name": "stdout",
     "output_type": "stream",
     "text": [
      "id(Z): 2551184223568\n",
      "id(Z): 2551184223568\n"
     ]
    }
   ],
   "source": [
    "Z=torch.zeros_like(Y)\n",
    "print('id(Z):',id(Z))\n",
    "Z[ : ]=X+Y\n",
    "print('id(Z):',id(Z))"
   ]
  },
  {
   "cell_type": "code",
   "execution_count": 22,
   "id": "5643966d",
   "metadata": {
    "ExecuteTime": {
     "end_time": "2023-10-08T06:21:03.054750900Z",
     "start_time": "2023-10-08T06:21:03.038701300Z"
    }
   },
   "outputs": [
    {
     "name": "stdout",
     "output_type": "stream",
     "text": [
      "True\n"
     ]
    }
   ],
   "source": [
    "before=id(X)\n",
    "X += Y\n",
    "print(id(X)==before)"
   ]
  },
  {
   "cell_type": "code",
   "execution_count": 23,
   "id": "a9411275",
   "metadata": {
    "ExecuteTime": {
     "end_time": "2023-10-08T06:21:03.054750900Z",
     "start_time": "2023-10-08T06:21:03.042387800Z"
    }
   },
   "outputs": [
    {
     "name": "stdout",
     "output_type": "stream",
     "text": [
      "<class 'numpy.ndarray'> <class 'torch.Tensor'>\n"
     ]
    }
   ],
   "source": [
    "X=torch.arange(12).reshape(3,4)\n",
    "A=X.numpy()\n",
    "B=torch.tensor(A)\n",
    "print(type(A),type(B))"
   ]
  },
  {
   "cell_type": "code",
   "execution_count": 24,
   "id": "32e26abf",
   "metadata": {
    "ExecuteTime": {
     "end_time": "2023-10-08T06:21:03.054750900Z",
     "start_time": "2023-10-08T06:21:03.046648300Z"
    }
   },
   "outputs": [
    {
     "name": "stdout",
     "output_type": "stream",
     "text": [
      "tensor([3.5000]) 3.5 3.5 3\n"
     ]
    }
   ],
   "source": [
    "a=torch.tensor([3.5])\n",
    "print(a,a.item(),float(a),int(a))"
   ]
  },
  {
   "cell_type": "code",
   "execution_count": 24,
   "id": "884ffe92",
   "metadata": {
    "ExecuteTime": {
     "end_time": "2023-10-08T06:21:03.054750900Z",
     "start_time": "2023-10-08T06:21:03.054750900Z"
    }
   },
   "outputs": [],
   "source": []
  }
 ],
 "metadata": {
  "kernelspec": {
   "display_name": "DL",
   "language": "python",
   "name": "dl"
  },
  "language_info": {
   "codemirror_mode": {
    "name": "ipython",
    "version": 3
   },
   "file_extension": ".py",
   "mimetype": "text/x-python",
   "name": "python",
   "nbconvert_exporter": "python",
   "pygments_lexer": "ipython3",
   "version": "3.11.4"
  }
 },
 "nbformat": 4,
 "nbformat_minor": 5
}
