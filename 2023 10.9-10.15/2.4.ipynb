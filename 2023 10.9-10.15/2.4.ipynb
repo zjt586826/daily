{
 "cells": [
  {
   "cell_type": "code",
   "execution_count": 1,
   "id": "80ce6958",
   "metadata": {
    "ExecuteTime": {
     "end_time": "2023-10-08T07:06:09.465531900Z",
     "start_time": "2023-10-08T07:06:03.680496900Z"
    }
   },
   "outputs": [],
   "source": [
    "%matplotlib inline\n",
    "import numpy as np\n",
    "from matplotlib_inline import backend_inline\n",
    "import torch"
   ]
  },
  {
   "cell_type": "code",
   "execution_count": 2,
   "id": "e9ece3aa",
   "metadata": {
    "ExecuteTime": {
     "end_time": "2023-10-08T07:06:09.469969900Z",
     "start_time": "2023-10-08T07:06:09.467834500Z"
    }
   },
   "outputs": [],
   "source": [
    "#定义函数\n",
    "def f(x):\n",
    "    return 3*x**2-4*x"
   ]
  },
  {
   "cell_type": "code",
   "execution_count": 3,
   "id": "db632db1",
   "metadata": {
    "ExecuteTime": {
     "end_time": "2023-10-08T07:06:09.476901200Z",
     "start_time": "2023-10-08T07:06:09.469969900Z"
    }
   },
   "outputs": [],
   "source": [
    "#定义求导\n",
    "def numerical_lim(f,x,h):\n",
    "    return (f(x+h)-f(x))/h"
   ]
  },
  {
   "cell_type": "code",
   "execution_count": 4,
   "id": "d5826747",
   "metadata": {
    "ExecuteTime": {
     "end_time": "2023-10-08T07:06:09.484716400Z",
     "start_time": "2023-10-08T07:06:09.476901200Z"
    }
   },
   "outputs": [
    {
     "name": "stdout",
     "output_type": "stream",
     "text": [
      "h=0.10000,numerical limit=2.30000\n",
      "h=0.01000,numerical limit=2.03000\n",
      "h=0.00100,numerical limit=2.00300\n",
      "h=0.00010,numerical limit=2.00030\n",
      "h=0.00001,numerical limit=2.00003\n"
     ]
    }
   ],
   "source": [
    "#求导\n",
    "h=0.1\n",
    "for i in range(5):\n",
    "    print(f'h={h:.5f},numerical limit={numerical_lim(f,1,h):.5f}')\n",
    "    h*=0.1"
   ]
  },
  {
   "cell_type": "code",
   "execution_count": 4,
   "id": "d8970453",
   "metadata": {
    "ExecuteTime": {
     "end_time": "2023-10-08T07:06:09.514807400Z",
     "start_time": "2023-10-08T07:06:09.489869200Z"
    }
   },
   "outputs": [],
   "source": []
  }
 ],
 "metadata": {
  "kernelspec": {
   "display_name": "DL",
   "language": "python",
   "name": "dl"
  },
  "language_info": {
   "codemirror_mode": {
    "name": "ipython",
    "version": 3
   },
   "file_extension": ".py",
   "mimetype": "text/x-python",
   "name": "python",
   "nbconvert_exporter": "python",
   "pygments_lexer": "ipython3",
   "version": "3.11.4"
  }
 },
 "nbformat": 4,
 "nbformat_minor": 5
}
