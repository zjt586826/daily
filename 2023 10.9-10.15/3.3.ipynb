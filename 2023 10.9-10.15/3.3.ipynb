{
 "cells": [
  {
   "cell_type": "code",
   "execution_count": 1,
   "id": "initial_id",
   "metadata": {
    "collapsed": true,
    "ExecuteTime": {
     "end_time": "2023-10-08T09:53:17.042658200Z",
     "start_time": "2023-10-08T09:53:14.936613600Z"
    }
   },
   "outputs": [
    {
     "name": "stdout",
     "output_type": "stream",
     "text": [
      "[tensor([[-0.1915,  0.7992],\n",
      "        [-0.7968, -0.8549],\n",
      "        [-1.2208, -1.3097],\n",
      "        [-0.7724,  2.7723],\n",
      "        [-1.7962,  0.6614],\n",
      "        [-2.6958,  0.3498],\n",
      "        [ 0.1452,  0.2800],\n",
      "        [ 1.9524,  0.3715],\n",
      "        [ 0.8983,  0.5433],\n",
      "        [-1.2871,  1.3343]]), tensor([[ 1.0867],\n",
      "        [ 5.5130],\n",
      "        [ 6.2154],\n",
      "        [-6.7691],\n",
      "        [-1.6358],\n",
      "        [-2.3672],\n",
      "        [ 3.5238],\n",
      "        [ 6.8486],\n",
      "        [ 4.1484],\n",
      "        [-2.9170]])]\n",
      "Sequential(\n",
      "  (0): Linear(in_features=2, out_features=1, bias=True)\n",
      ")\n",
      "epoch 1,loss 0.000397\n",
      "epoch 2,loss 0.000094\n",
      "epoch 3,loss 0.000094\n",
      "w的估计误差： tensor([-0.0006,  0.0003])\n",
      "b的估计误差： tensor([-0.0003])\n"
     ]
    }
   ],
   "source": [
    "#使用pytorch实现线性回归\n",
    "import torch\n",
    "from torch.utils import data\n",
    "from d2l import torch as d2l\n",
    "#生成数据集\n",
    "true_w=torch.tensor([2,-3.4])\n",
    "true_b=4.2\n",
    "features,labels=d2l.synthetic_data(true_w,true_b,1000)\n",
    "#读取数据集\n",
    "def load_array(data_array,batch_size,is_train=True):#@save\n",
    "    \"\"\"构造一个pytorch数据迭代器\"\"\"\n",
    "    dataset=data.TensorDataset(*data_array)#打包数据\n",
    "    return data.DataLoader(dataset,batch_size,shuffle=is_train)#进行数据封装\n",
    "batch_size=10\n",
    "data_iter=load_array((features,labels),batch_size)\n",
    "print(next(iter(data_iter)))#获取第一项\n",
    "#定义模型\n",
    "from torch import nn\n",
    "net=nn.Sequential(nn.Linear(2,1))\n",
    "print(net)\n",
    "#初始化模型参数\n",
    "net[0].weight.data.normal_(0,0.01)\n",
    "net[0].bias.data.fill_(0)\n",
    "#定义损失函数\n",
    "loss=nn.MSELoss()\n",
    "#定义优化算法\n",
    "trainer=torch.optim.SGD(net.parameters(),lr=0.03)\n",
    "#训练模型\n",
    "num_epochs=3\n",
    "for epoch in range(num_epochs):\n",
    "    for X,y in data_iter:\n",
    "        l=loss(net(X),y)\n",
    "        trainer.zero_grad()\n",
    "        l.backward()\n",
    "        trainer.step()\n",
    "    l=loss(net(features),labels)\n",
    "    print(f'epoch {epoch+1},loss {l:f}')\n",
    "#参数误差\n",
    "w=net[0].weight.data\n",
    "print('w的估计误差：',true_w-w.reshape(true_w.shape))\n",
    "b=net[0].bias.data\n",
    "print('b的估计误差：',true_b-b)"
   ]
  },
  {
   "cell_type": "code",
   "execution_count": 23,
   "outputs": [
    {
     "name": "stdout",
     "output_type": "stream",
     "text": [
      "[tensor([[-0.5953, -1.5694],\n",
      "        [-0.5326,  0.3483],\n",
      "        [ 0.7717, -0.9527],\n",
      "        [ 0.2356, -0.6436],\n",
      "        [-0.7541,  1.5785],\n",
      "        [ 0.1780,  1.1498],\n",
      "        [-0.0696,  0.5848],\n",
      "        [-0.5896, -1.2114],\n",
      "        [-0.2075,  2.0799],\n",
      "        [ 0.5490,  1.0064]]), tensor([[ 8.3497],\n",
      "        [ 1.9411],\n",
      "        [ 8.9817],\n",
      "        [ 6.8685],\n",
      "        [-2.6641],\n",
      "        [ 0.6509],\n",
      "        [ 2.0690],\n",
      "        [ 7.1424],\n",
      "        [-3.2926],\n",
      "        [ 1.8787]])]\n",
      "epoch: 1 loss: 0.000251\n",
      "epoch: 2 loss: 0.000101\n",
      "epoch: 3 loss: 0.000103\n",
      "w误差: tensor([[0.0005, 0.0002]])\n",
      "b误差: tensor([-0.0019])\n"
     ]
    }
   ],
   "source": [
    "#默写\n",
    "import torch\n",
    "from torch.utils import data\n",
    "#生成数据\n",
    "def data_synthetic(w,b,num_example):\n",
    "    X=torch.normal(0,1,(num_example,len(w)))\n",
    "    y=torch.matmul(X,w)+b\n",
    "    y+=torch.normal(0,0.01,y.shape)\n",
    "    return X,y.reshape(-1,1)\n",
    "\n",
    "true_w=torch.tensor([2,-3.4])\n",
    "true_b=4.2\n",
    "features,labels=data_synthetic(true_w,true_b,1000)\n",
    "#加载数据\n",
    "def load_array(data_array,batch_size,is_train=True):\n",
    "    dataset=data.TensorDataset(*data_array)\n",
    "    return data.DataLoader(dataset,batch_size,shuffle=is_train)\n",
    "batch_size=10\n",
    "data_iter=load_array((features,labels),batch_size,is_train=True)\n",
    "print(next(iter(data_iter)))\n",
    "#定义网络\n",
    "from torch import nn\n",
    "net=nn.Sequential(nn.Linear(2,1))\n",
    "#初始化模型参数\n",
    "net[0].weight.data.normal_(0,0.1)\n",
    "net[0].bias.data.fill_(0)\n",
    "#定义损失函数\n",
    "loss=nn.MSELoss()\n",
    "#定义优化器\n",
    "trainer=torch.optim.SGD(net.parameters(),lr=0.03)\n",
    "#训练\n",
    "num_epochs=3\n",
    "for epoch in range(num_epochs):\n",
    "    for X,y in data_iter:\n",
    "        l=loss(net(X),y)\n",
    "        trainer.zero_grad()\n",
    "        l.backward()\n",
    "        trainer.step()\n",
    "    l=loss(net(features),labels)\n",
    "    print(f'epoch: {epoch+1} loss: {l:f}')\n",
    "#误差\n",
    "w=net[0].weight.data\n",
    "b=net[0].bias.data\n",
    "print(f'w误差: {true_w-w}')\n",
    "print(f'b误差: {true_b-b}')"
   ],
   "metadata": {
    "collapsed": false,
    "ExecuteTime": {
     "end_time": "2023-10-10T14:17:37.108632900Z",
     "start_time": "2023-10-10T14:17:37.022061900Z"
    }
   },
   "id": "1b882580b01a209e"
  },
  {
   "cell_type": "code",
   "execution_count": null,
   "outputs": [],
   "source": [],
   "metadata": {
    "collapsed": false
   },
   "id": "2a5b1621c843b49c"
  }
 ],
 "metadata": {
  "kernelspec": {
   "name": "dl",
   "language": "python",
   "display_name": "DL"
  },
  "language_info": {
   "codemirror_mode": {
    "name": "ipython",
    "version": 2
   },
   "file_extension": ".py",
   "mimetype": "text/x-python",
   "name": "python",
   "nbconvert_exporter": "python",
   "pygments_lexer": "ipython2",
   "version": "2.7.6"
  }
 },
 "nbformat": 4,
 "nbformat_minor": 5
}
