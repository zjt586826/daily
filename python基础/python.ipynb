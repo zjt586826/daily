{
 "cells": [
  {
   "cell_type": "code",
   "execution_count": 1,
   "id": "b8cb2c03",
   "metadata": {
    "scrolled": true
   },
   "outputs": [
    {
     "name": "stdout",
     "output_type": "stream",
     "text": [
      "a real man\n"
     ]
    }
   ],
   "source": [
    "#字符串（str）\n",
    "str_v=\"a real man\"\n",
    "print(str_v)"
   ]
  },
  {
   "cell_type": "code",
   "execution_count": 2,
   "id": "bb61bf91",
   "metadata": {},
   "outputs": [
    {
     "data": {
      "text/plain": [
       "'a real man'"
      ]
     },
     "execution_count": 2,
     "metadata": {},
     "output_type": "execute_result"
    }
   ],
   "source": [
    "#字符串（str）\n",
    "str_v=\"a real man\"\n",
    "str_v"
   ]
  },
  {
   "cell_type": "code",
   "execution_count": 3,
   "id": "decfcc63",
   "metadata": {},
   "outputs": [
    {
     "data": {
      "text/plain": [
       "415411"
      ]
     },
     "execution_count": 3,
     "metadata": {},
     "output_type": "execute_result"
    }
   ],
   "source": [
    "#数字 (int 或 float)\n",
    "num_v=415411\n",
    "num_v"
   ]
  },
  {
   "cell_type": "code",
   "execution_count": 4,
   "id": "488a72dd",
   "metadata": {},
   "outputs": [
    {
     "name": "stdout",
     "output_type": "stream",
     "text": [
      "415411\n"
     ]
    }
   ],
   "source": [
    "#数字 (int 或 float)\n",
    "num_v=415411\n",
    "print(num_v)"
   ]
  },
  {
   "cell_type": "code",
   "execution_count": 5,
   "id": "8e15d807",
   "metadata": {},
   "outputs": [
    {
     "data": {
      "text/plain": [
       "True"
      ]
     },
     "execution_count": 5,
     "metadata": {},
     "output_type": "execute_result"
    }
   ],
   "source": [
    "#布尔型 (bool)\n",
    "bool_v=True\n",
    "bool_v"
   ]
  },
  {
   "cell_type": "code",
   "execution_count": 6,
   "id": "f12c301e",
   "metadata": {},
   "outputs": [
    {
     "name": "stdout",
     "output_type": "stream",
     "text": [
      "True\n"
     ]
    }
   ],
   "source": [
    "#布尔型 (bool)\n",
    "bool_v=True\n",
    "print(bool_v)"
   ]
  },
  {
   "cell_type": "code",
   "execution_count": 7,
   "id": "b112b415",
   "metadata": {},
   "outputs": [
    {
     "data": {
      "text/plain": [
       "{1, 2, 3, 4}"
      ]
     },
     "execution_count": 7,
     "metadata": {},
     "output_type": "execute_result"
    }
   ],
   "source": [
    "#集合 \n",
    "set_v={1,2,3,4}\n",
    "set_v"
   ]
  },
  {
   "cell_type": "code",
   "execution_count": 8,
   "id": "fc6151a0",
   "metadata": {},
   "outputs": [
    {
     "name": "stdout",
     "output_type": "stream",
     "text": [
      "{1, 2, 3, 4}\n"
     ]
    }
   ],
   "source": [
    "#集合\n",
    "set_v={1,2,3,4}\n",
    "print(set_v)"
   ]
  },
  {
   "cell_type": "code",
   "execution_count": 9,
   "id": "dcc14bc7",
   "metadata": {},
   "outputs": [
    {
     "data": {
      "text/plain": [
       "(1, 2, 3, 4)"
      ]
     },
     "execution_count": 9,
     "metadata": {},
     "output_type": "execute_result"
    }
   ],
   "source": [
    "#元组\n",
    "tuple_v=(1,2,3,4)\n",
    "tuple_v"
   ]
  },
  {
   "cell_type": "code",
   "execution_count": 10,
   "id": "eda3bd47",
   "metadata": {},
   "outputs": [
    {
     "name": "stdout",
     "output_type": "stream",
     "text": [
      "(1, 2, 3, 4)\n"
     ]
    }
   ],
   "source": [
    "#元组\n",
    "tuple_v=(1,2,3,4)\n",
    "print(tuple_v)"
   ]
  },
  {
   "cell_type": "code",
   "execution_count": 11,
   "id": "fc69468c",
   "metadata": {},
   "outputs": [
    {
     "data": {
      "text/plain": [
       "[1, 2, 3]"
      ]
     },
     "execution_count": 11,
     "metadata": {},
     "output_type": "execute_result"
    }
   ],
   "source": [
    "#列表\n",
    "list_v=[1,2,3]\n",
    "list_v"
   ]
  },
  {
   "cell_type": "code",
   "execution_count": 12,
   "id": "16dc686c",
   "metadata": {},
   "outputs": [
    {
     "name": "stdout",
     "output_type": "stream",
     "text": [
      "[1, 2, 3]\n"
     ]
    }
   ],
   "source": [
    "# 列表\n",
    "list_v=[1,2,3]\n",
    "print(list_v)"
   ]
  },
  {
   "cell_type": "code",
   "execution_count": 13,
   "id": "2153680d",
   "metadata": {},
   "outputs": [
    {
     "data": {
      "text/plain": [
       "{'a': 1, 'b': 2, 'c': 3}"
      ]
     },
     "execution_count": 13,
     "metadata": {},
     "output_type": "execute_result"
    }
   ],
   "source": [
    "#字典\n",
    "dict_v={'a':1,'b':2,'c':3}\n",
    "dict_v"
   ]
  },
  {
   "cell_type": "code",
   "execution_count": 14,
   "id": "8948ede9",
   "metadata": {},
   "outputs": [
    {
     "name": "stdout",
     "output_type": "stream",
     "text": [
      "{'a': 1, 'b': 2, 'c': 3}\n"
     ]
    }
   ],
   "source": [
    "#字典\n",
    "dict_v={'a':1,'b':2,'c':3}\n",
    "print(dict_v)"
   ]
  },
  {
   "cell_type": "code",
   "execution_count": 15,
   "id": "905ea6a1",
   "metadata": {},
   "outputs": [],
   "source": [
    "#基本变量类型"
   ]
  },
  {
   "cell_type": "code",
   "execution_count": 16,
   "id": "b12a004b",
   "metadata": {},
   "outputs": [
    {
     "data": {
      "text/plain": [
       "'A man,abc'"
      ]
     },
     "execution_count": 16,
     "metadata": {},
     "output_type": "execute_result"
    }
   ],
   "source": [
    "str1='A man,abc'\n",
    "str1"
   ]
  },
  {
   "cell_type": "code",
   "execution_count": 17,
   "id": "37fa7138",
   "metadata": {},
   "outputs": [
    {
     "data": {
      "text/plain": [
       "'A man,abc'"
      ]
     },
     "execution_count": 17,
     "metadata": {},
     "output_type": "execute_result"
    }
   ],
   "source": [
    "str2=\"A man,abc\"\n",
    "str2"
   ]
  },
  {
   "cell_type": "code",
   "execution_count": 18,
   "id": "78e9cbbf",
   "metadata": {},
   "outputs": [
    {
     "data": {
      "text/plain": [
       "'you is A man,abc,i is A man,abc'"
      ]
     },
     "execution_count": 18,
     "metadata": {},
     "output_type": "execute_result"
    }
   ],
   "source": [
    "str3=f\"you is {str1},i is {str2}\"\n",
    "str3"
   ]
  },
  {
   "cell_type": "code",
   "execution_count": 19,
   "id": "84e07ee6",
   "metadata": {},
   "outputs": [],
   "source": [
    "#构建字符串\n",
    "message=\"xingming:\\n\\tzhang\\n\\tjun\\n\\ttao\""
   ]
  },
  {
   "cell_type": "code",
   "execution_count": 20,
   "id": "990b13b4",
   "metadata": {},
   "outputs": [
    {
     "data": {
      "text/plain": [
       "'xingming:\\n\\tzhang\\n\\tjun\\n\\ttao'"
      ]
     },
     "execution_count": 20,
     "metadata": {},
     "output_type": "execute_result"
    }
   ],
   "source": [
    "#单独输出字符\n",
    "message"
   ]
  },
  {
   "cell_type": "code",
   "execution_count": 21,
   "id": "3e319690",
   "metadata": {},
   "outputs": [
    {
     "name": "stdout",
     "output_type": "stream",
     "text": [
      "xingming:\n",
      "\tzhang\n",
      "\tjun\n",
      "\ttao\n"
     ]
    }
   ],
   "source": [
    "#转义字符在print里生效\n",
    "print(message)"
   ]
  },
  {
   "cell_type": "code",
   "execution_count": 22,
   "id": "379740d6",
   "metadata": {},
   "outputs": [
    {
     "name": "stdout",
     "output_type": "stream",
     "text": [
      "2.75\n",
      "16\n",
      "1.25\n",
      "5\n",
      "3\n"
     ]
    }
   ],
   "source": [
    "#数字\n",
    "a=1\n",
    "b=2\n",
    "c=3\n",
    "d=4\n",
    "print(a*b+c/d)\n",
    "print(b**d)\n",
    "print(a*(b+c)/d)\n",
    "print(28//5)\n",
    "print(28%5)"
   ]
  },
  {
   "cell_type": "code",
   "execution_count": 23,
   "id": "497e73b8",
   "metadata": {},
   "outputs": [
    {
     "name": "stdout",
     "output_type": "stream",
     "text": [
      "False\n",
      "True\n"
     ]
    }
   ],
   "source": [
    "#字符串--检查某字符串的值\n",
    "str_v='cxk'\n",
    "print(str_v=='chicken')\n",
    "print(str_v!='chicken')"
   ]
  },
  {
   "cell_type": "code",
   "execution_count": 24,
   "id": "9e7995b9",
   "metadata": {},
   "outputs": [
    {
     "name": "stdout",
     "output_type": "stream",
     "text": [
      "False\n",
      "False\n",
      "True\n"
     ]
    }
   ],
   "source": [
    "#数字--检查某数字是否在某范围内\n",
    "num_v=3\n",
    "print(num_v>5)\n",
    "print(num_v==5)\n",
    "print(num_v<5)"
   ]
  },
  {
   "cell_type": "code",
   "execution_count": 25,
   "id": "f1284fcc",
   "metadata": {},
   "outputs": [
    {
     "name": "stdout",
     "output_type": "stream",
     "text": [
      "True\n",
      "False\n"
     ]
    }
   ],
   "source": [
    "#集合--检查某变量是否在该集合中\n",
    "set_v={1,2,3}\n",
    "print(2 in set_v)\n",
    "print(2 not in set_v)"
   ]
  },
  {
   "cell_type": "code",
   "execution_count": 26,
   "id": "1a43a64a",
   "metadata": {},
   "outputs": [
    {
     "name": "stdout",
     "output_type": "stream",
     "text": [
      "True\n",
      "False\n"
     ]
    }
   ],
   "source": [
    "#列表--检查某变量是否在该列表中\n",
    "list_v=[1,2,3]\n",
    "print(2 in list_v)\n",
    "print(2 not in list_v)"
   ]
  },
  {
   "cell_type": "code",
   "execution_count": 27,
   "id": "469361d6",
   "metadata": {},
   "outputs": [
    {
     "name": "stdout",
     "output_type": "stream",
     "text": [
      "True\n",
      "False\n"
     ]
    }
   ],
   "source": [
    "#元组--检查某变量是否在该元组中\n",
    "tuple_v=(1,2,3)\n",
    "print(2 in tuple_v)\n",
    "print(2 not in tuple_v)"
   ]
  },
  {
   "cell_type": "code",
   "execution_count": 28,
   "id": "4e51a9fd",
   "metadata": {},
   "outputs": [
    {
     "name": "stdout",
     "output_type": "stream",
     "text": [
      "True\n",
      "False\n"
     ]
    }
   ],
   "source": [
    "#字典--检查某变量是否在该字典中\n",
    "dict_v={'a':1,'b':2,'c':3}\n",
    "print(2 in dict_v.values())\n",
    "print(2 not in dict_v.values())"
   ]
  },
  {
   "cell_type": "code",
   "execution_count": 29,
   "id": "c6c1c4df",
   "metadata": {},
   "outputs": [
    {
     "name": "stdout",
     "output_type": "stream",
     "text": [
      "False\n"
     ]
    },
    {
     "data": {
      "text/plain": [
       "False"
      ]
     },
     "execution_count": 29,
     "metadata": {},
     "output_type": "execute_result"
    }
   ],
   "source": [
    "#同时检查多个条件\n",
    "T=True\n",
    "F=False\n",
    "print(bool(T and F))\n",
    "T and F"
   ]
  },
  {
   "cell_type": "code",
   "execution_count": 30,
   "id": "59fe4e6c",
   "metadata": {},
   "outputs": [
    {
     "name": "stdout",
     "output_type": "stream",
     "text": [
      "True\n"
     ]
    },
    {
     "data": {
      "text/plain": [
       "True"
      ]
     },
     "execution_count": 30,
     "metadata": {},
     "output_type": "execute_result"
    }
   ],
   "source": [
    "#同时检查多个条件\n",
    "T=True\n",
    "F=False\n",
    "print(bool(T or F))\n",
    "T or F"
   ]
  },
  {
   "cell_type": "code",
   "execution_count": 31,
   "id": "1ea31589",
   "metadata": {},
   "outputs": [
    {
     "name": "stdout",
     "output_type": "stream",
     "text": [
      "否则的话，此行将被执行\n"
     ]
    }
   ],
   "source": [
    "#判断语句\n",
    "bool1 = False\n",
    "bool2 = False\n",
    "bool3 = False\n",
    "if bool1:\n",
    " print('当 bool1 为 True，此行将被执行')\n",
    "elif bool2:\n",
    " print('否则的话，当 bool2 为 True，此行将被执行')\n",
    "elif bool3:\n",
    " print('否则的话，当 bool3 为 True，此行将被执行')\n",
    "else:\n",
    " print('否则的话，此行将被执行')"
   ]
  },
  {
   "cell_type": "code",
   "execution_count": 32,
   "id": "3692cedc",
   "metadata": {},
   "outputs": [],
   "source": [
    "#变量间的转换"
   ]
  },
  {
   "cell_type": "code",
   "execution_count": 33,
   "id": "1433f86a",
   "metadata": {},
   "outputs": [],
   "source": [
    "# 定义变量\n",
    "str_v = '123'\n",
    "int_v = 123\n",
    "float_v = 123.0\n",
    "bool_v = True"
   ]
  },
  {
   "cell_type": "code",
   "execution_count": 34,
   "id": "790dc6be",
   "metadata": {},
   "outputs": [
    {
     "name": "stdout",
     "output_type": "stream",
     "text": [
      "123\n",
      "123.0\n",
      "True\n"
     ]
    }
   ],
   "source": [
    " # 转化为字符串\n",
    "print( str(int_v) )\n",
    "print( str(float_v))\n",
    "print( str(bool_v ))"
   ]
  },
  {
   "cell_type": "code",
   "execution_count": 35,
   "id": "8a0096f0",
   "metadata": {},
   "outputs": [
    {
     "name": "stdout",
     "output_type": "stream",
     "text": [
      "123\n",
      "123\n",
      "1\n"
     ]
    }
   ],
   "source": [
    " # 转化为整数型变量\n",
    "print( int( str_v ) )\n",
    "print( int( float_v ) )\n",
    "print( int( bool_v ) )"
   ]
  },
  {
   "cell_type": "code",
   "execution_count": 36,
   "id": "33db91e8",
   "metadata": {},
   "outputs": [
    {
     "name": "stdout",
     "output_type": "stream",
     "text": [
      "123.0\n",
      "123.0\n",
      "1.0\n"
     ]
    }
   ],
   "source": [
    "# 转化为浮点型变量\n",
    "print( float( str_v ) )\n",
    "print( float( float_v ) )\n",
    "print( float( bool_v ) )"
   ]
  },
  {
   "cell_type": "code",
   "execution_count": 37,
   "id": "d923ccf4",
   "metadata": {},
   "outputs": [
    {
     "name": "stdout",
     "output_type": "stream",
     "text": [
      "True\n",
      "True\n",
      "True\n"
     ]
    }
   ],
   "source": [
    " # 转化为布尔型变量\n",
    "print( bool( str_v ) )\n",
    "print( bool( int_v ) )\n",
    "print( bool( float_v ) )"
   ]
  },
  {
   "cell_type": "code",
   "execution_count": 38,
   "id": "0e5b4bd4",
   "metadata": {},
   "outputs": [
    {
     "data": {
      "text/plain": [
       "{1, 2, 3}"
      ]
     },
     "execution_count": 38,
     "metadata": {},
     "output_type": "execute_result"
    }
   ],
   "source": [
    "#创建集合\n",
    "set([1,2,3])"
   ]
  },
  {
   "cell_type": "code",
   "execution_count": 39,
   "id": "7cc6fc49",
   "metadata": {},
   "outputs": [
    {
     "data": {
      "text/plain": [
       "{1, 2, 3}"
      ]
     },
     "execution_count": 39,
     "metadata": {},
     "output_type": "execute_result"
    }
   ],
   "source": [
    "{1,2,3}"
   ]
  },
  {
   "cell_type": "code",
   "execution_count": 40,
   "id": "fdc75c44",
   "metadata": {},
   "outputs": [
    {
     "data": {
      "text/plain": [
       "(1, 2, 3)"
      ]
     },
     "execution_count": 40,
     "metadata": {},
     "output_type": "execute_result"
    }
   ],
   "source": [
    "#创建元组\n",
    "(1,2,3)"
   ]
  },
  {
   "cell_type": "code",
   "execution_count": 41,
   "id": "4574bb76",
   "metadata": {},
   "outputs": [
    {
     "name": "stdout",
     "output_type": "stream",
     "text": [
      "3 2 1\n"
     ]
    }
   ],
   "source": [
    "#元组拆分法--极速创建新变量\n",
    "a,b,c=1,2,3\n",
    "print(c,b,a)"
   ]
  },
  {
   "cell_type": "code",
   "execution_count": 42,
   "id": "2c852373",
   "metadata": {},
   "outputs": [
    {
     "name": "stdout",
     "output_type": "stream",
     "text": [
      "2 1\n"
     ]
    }
   ],
   "source": [
    "#元组拆分法--极速交换变量值\n",
    "a,b = 1,2\n",
    "b,a = a,b\n",
    "print(a,b)"
   ]
  },
  {
   "cell_type": "code",
   "execution_count": 43,
   "id": "f55215e8",
   "metadata": {},
   "outputs": [
    {
     "data": {
      "text/plain": [
       "(98, 99, [94, 94, 90, 92])"
      ]
     },
     "execution_count": 43,
     "metadata": {},
     "output_type": "execute_result"
    }
   ],
   "source": [
    "#元组拆分法——只要前两个答案\n",
    "values = 98, 99, 94, 94, 90, 92\n",
    "a, b, *rest = values\n",
    "a, b, rest"
   ]
  },
  {
   "cell_type": "code",
   "execution_count": 44,
   "id": "abf8a150",
   "metadata": {},
   "outputs": [
    {
     "data": {
      "text/plain": [
       "['Bro.chicken', '30 months', 'Marry Pd']"
      ]
     },
     "execution_count": 44,
     "metadata": {},
     "output_type": "execute_result"
    }
   ],
   "source": [
    "#一个全是字符串的列表\n",
    "list1 = ['Bro.chicken', '30 months', 'Marry Pd']\n",
    "list1"
   ]
  },
  {
   "cell_type": "code",
   "execution_count": 45,
   "id": "89b975cb",
   "metadata": {},
   "outputs": [
    {
     "data": {
      "text/plain": [
       "[11, 45, 14]"
      ]
     },
     "execution_count": 45,
     "metadata": {},
     "output_type": "execute_result"
    }
   ],
   "source": [
    "# 一个全是数字的列表\n",
    "list2 = [11, 45, 14]\n",
    "list2"
   ]
  },
  {
   "cell_type": "code",
   "execution_count": 46,
   "id": "80892ded",
   "metadata": {},
   "outputs": [
    {
     "name": "stdout",
     "output_type": "stream",
     "text": [
      "cxk\n",
      "[1, 2, 3]\n"
     ]
    }
   ],
   "source": [
    "list3 = ['cxk', 666, True, set([1,2,3]), (1,2,3), [1,2,3], {'a':1}]\n",
    "print(list3[0])\n",
    "print(list3[5])"
   ]
  },
  {
   "cell_type": "code",
   "execution_count": 47,
   "id": "492c886a",
   "metadata": {},
   "outputs": [
    {
     "name": "stdout",
     "output_type": "stream",
     "text": [
      "('a', 'b', 'c')\n"
     ]
    }
   ],
   "source": [
    "list4 = ['a', 'b', 'c']\n",
    "print( ( list4[-3] , list4[-2] , list4[-1] ) )"
   ]
  },
  {
   "cell_type": "code",
   "execution_count": 48,
   "id": "ea7b7ad4",
   "metadata": {},
   "outputs": [
    {
     "data": {
      "text/plain": [
       "['a', 'b', 5]"
      ]
     },
     "execution_count": 48,
     "metadata": {},
     "output_type": "execute_result"
    }
   ],
   "source": [
    "list4 = ['a', 'b', 'c']\n",
    "list4[-1] = 5\n",
    "list4"
   ]
  },
  {
   "cell_type": "code",
   "execution_count": 49,
   "id": "9cec2f61",
   "metadata": {},
   "outputs": [
    {
     "name": "stdout",
     "output_type": "stream",
     "text": [
      "['a', 'b', 'c', 'd', 'e']\n",
      "['b', 'c', 'd']\n",
      "['b', 'c', 'd', 'e']\n",
      "['a', 'b', 'c', 'd']\n"
     ]
    }
   ],
   "source": [
    "list_v = ['a', 'b', 'c', 'd', 'e']\n",
    "print( list_v )\n",
    "print( list_v[ 1 : 4 ] ) # 从索引[1]开始，切到索引[4]之前\n",
    "print( list_v[ 1 : ] ) # 从索引[1]开始，切到结尾\n",
    "print( list_v[ : 4 ] ) # 从列表开头开始，切到索引[4]之前"
   ]
  },
  {
   "cell_type": "code",
   "execution_count": 50,
   "id": "2279f78d",
   "metadata": {},
   "outputs": [
    {
     "name": "stdout",
     "output_type": "stream",
     "text": [
      "['a', 'b', 'c', 'd', 'e']\n",
      "['c']\n",
      "['a', 'b', 'c']\n",
      "['c', 'd', 'e']\n"
     ]
    }
   ],
   "source": [
    " list_v = ['a', 'b', 'c', 'd', 'e']\n",
    "print( list_v )\n",
    "print( list_v[ 2 : -2 ] ) # 切除开头 2 个和结尾 2 个\n",
    "print( list_v[ : -2 ] ) # 切除结尾两个\n",
    "print( list_v[ 2 : ] ) # 切除开头两个"
   ]
  },
  {
   "cell_type": "code",
   "execution_count": 51,
   "id": "1edd79d9",
   "metadata": {},
   "outputs": [
    {
     "name": "stdout",
     "output_type": "stream",
     "text": [
      "['a', 'c', 'e', 'g']\n",
      "['a', 'd', 'g']\n",
      "['b', 'd', 'f']\n"
     ]
    }
   ],
   "source": [
    "list_v = ['a', 'b', 'c', 'd', 'e', 'f', 'g']\n",
    "print( list_v[ : : 2 ] ) # 每 2 个元素采样一次\n",
    "print( list_v[ : : 3 ] ) # 每 3 个元素采样一次\n",
    "print( list_v[ 1 : -1 : 2 ] ) # 切除一头一尾后，每 2 个元素采样一次"
   ]
  },
  {
   "cell_type": "code",
   "execution_count": 52,
   "id": "1e40232b",
   "metadata": {},
   "outputs": [
    {
     "data": {
      "text/plain": [
       "[2, 3]"
      ]
     },
     "execution_count": 52,
     "metadata": {},
     "output_type": "execute_result"
    }
   ],
   "source": [
    "# 创建 list_v 的切片 cut_v\n",
    "list_v = [1, 2, 3]\n",
    "cut_v = list_v[ 1 : ]\n",
    "cut_v"
   ]
  },
  {
   "cell_type": "code",
   "execution_count": 53,
   "id": "89075066",
   "metadata": {},
   "outputs": [
    {
     "data": {
      "text/plain": [
       "[2, 'a']"
      ]
     },
     "execution_count": 53,
     "metadata": {},
     "output_type": "execute_result"
    }
   ],
   "source": [
    "# 修改 cut_v 的元素\n",
    "cut_v[1] = 'a'\n",
    "cut_v"
   ]
  },
  {
   "cell_type": "code",
   "execution_count": 54,
   "id": "519e2830",
   "metadata": {},
   "outputs": [
    {
     "data": {
      "text/plain": [
       "[1, 2, 3]"
      ]
     },
     "execution_count": 54,
     "metadata": {},
     "output_type": "execute_result"
    }
   ],
   "source": [
    " # 输出 list_v，其不受切片影响\n",
    "list_v"
   ]
  },
  {
   "cell_type": "code",
   "execution_count": 55,
   "id": "776ade96",
   "metadata": {},
   "outputs": [
    {
     "name": "stdout",
     "output_type": "stream",
     "text": [
      "[1, 2, 3, 4]\n",
      "[1, 2, 3, 10, 11, 12]\n"
     ]
    },
    {
     "data": {
      "text/plain": [
       "[1, 2, 3]"
      ]
     },
     "execution_count": 55,
     "metadata": {},
     "output_type": "execute_result"
    }
   ],
   "source": [
    "list1 = [1,2,3]\n",
    "print( list1 + [4] ) # 列表尾部添加一个元素\n",
    "print( list1 + [10,11,12] ) # 与另一个列表连接\n",
    "list1"
   ]
  },
  {
   "cell_type": "code",
   "execution_count": 56,
   "id": "bb663c67",
   "metadata": {},
   "outputs": [
    {
     "name": "stdout",
     "output_type": "stream",
     "text": [
      "[1, 2, 3, 1, 2, 3]\n",
      "[1, 2, 3, 1, 2, 3, 1, 2, 3, 1, 2, 3]\n"
     ]
    },
    {
     "data": {
      "text/plain": [
       "[1, 2, 3]"
      ]
     },
     "execution_count": 56,
     "metadata": {},
     "output_type": "execute_result"
    }
   ],
   "source": [
    "print( list1 * 2 ) # 复制两倍的自己\n",
    "print( list1 * 4 ) # 复制四倍的自己\n",
    "list1"
   ]
  },
  {
   "cell_type": "code",
   "execution_count": 57,
   "id": "82763bfc",
   "metadata": {},
   "outputs": [
    {
     "name": "stdout",
     "output_type": "stream",
     "text": [
      "95\n",
      "95\n"
     ]
    }
   ],
   "source": [
    "list_v = [ 90, 95, 100 ]\n",
    "dict_v = { 'a':90, 'b':95, 'c':100 }\n",
    "print( list_v[1] )\n",
    "print( dict_v['b'] )"
   ]
  },
  {
   "cell_type": "code",
   "execution_count": 58,
   "id": "6ddeb26d",
   "metadata": {},
   "outputs": [
    {
     "name": "stdout",
     "output_type": "stream",
     "text": [
      "95\n",
      "95\n"
     ]
    }
   ],
   "source": [
    "list_v = [ 90, 95, 100 ]\n",
    "dict_v = { 0: 90, 1: 95, 2: 100 }\n",
    "print( list_v[1] )\n",
    "print( dict_v[1] )"
   ]
  },
  {
   "cell_type": "code",
   "execution_count": 59,
   "id": "592db648",
   "metadata": {},
   "outputs": [
    {
     "name": "stdout",
     "output_type": "stream",
     "text": [
      "Chicken 123 True {1, 2, 3} (1, 2, 3) [1, 2, 3] {'a': 1}\n"
     ]
    }
   ],
   "source": [
    " dict_v = {\n",
    " 0: 'Chicken',\n",
    " 1: 123, \n",
    " 2: True, \n",
    " 3: set([1,2,3]), \n",
    " 4: (1,2,3), \n",
    " 5: [1,2,3], \n",
    " 6: {'a':1}\n",
    "}\n",
    "print ( dict_v[0], dict_v[1], dict_v[2], dict_v[3],dict_v[4], dict_v[5], dict_v[6])"
   ]
  },
  {
   "cell_type": "code",
   "execution_count": 60,
   "id": "5b97a5ba",
   "metadata": {},
   "outputs": [
    {
     "name": "stdout",
     "output_type": "stream",
     "text": [
      "123 True\n"
     ]
    }
   ],
   "source": [
    "dict_v = {\n",
    " 'zero' : 123, \n",
    " 1: True,\n",
    "}\n",
    "print( dict_v['zero'], dict_v[1])"
   ]
  },
  {
   "cell_type": "code",
   "execution_count": 61,
   "id": "3c9c7515",
   "metadata": {},
   "outputs": [
    {
     "data": {
      "text/plain": [
       "{'冶金工程': 'A+', '矿业工程': 'A+', '护理学': 'A+'}"
      ]
     },
     "execution_count": 61,
     "metadata": {},
     "output_type": "execute_result"
    }
   ],
   "source": [
    "# 原字典（某大学对外招生宣传学科名单）\n",
    "CSU = {\n",
    " '冶金工程': 'A+', \n",
    " '矿业工程': 'A+',\n",
    " '护理学': 'A+'\n",
    "}\n",
    "CSU"
   ]
  },
  {
   "cell_type": "code",
   "execution_count": 62,
   "id": "4427739f",
   "metadata": {},
   "outputs": [
    {
     "data": {
      "text/plain": [
       "{'冶金工程': 'A+',\n",
       " '矿业工程': 'A+',\n",
       " '护理学': 'A+',\n",
       " '计算机科学与技术': 'A-',\n",
       " '控制科学与工程': 'A-',\n",
       " '临床医学': 'A-',\n",
       " '交通运输': '双一流学科',\n",
       " '数学': '双一流学科'}"
      ]
     },
     "execution_count": 62,
     "metadata": {},
     "output_type": "execute_result"
    }
   ],
   "source": [
    "# 添加元素（添加热门专业）\n",
    "CSU['计算机科学与技术'] = 'A-'\n",
    "CSU['控制科学与工程'] = 'A-'\n",
    "CSU['临床医学'] = 'A-'\n",
    "CSU['交通运输'] = '双一流学科'\n",
    "CSU['数学'] = '双一流学科'\n",
    "CSU"
   ]
  },
  {
   "cell_type": "code",
   "execution_count": 63,
   "id": "88e0590e",
   "metadata": {},
   "outputs": [
    {
     "data": {
      "text/plain": [
       "{'护理学': 'A+',\n",
       " '计算机科学与技术': 'A-',\n",
       " '控制科学与工程': 'A-',\n",
       " '临床医学': 'A-',\n",
       " '交通运输': '双一流学科',\n",
       " '数学': '双一流学科'}"
      ]
     },
     "execution_count": 63,
     "metadata": {},
     "output_type": "execute_result"
    }
   ],
   "source": [
    "# 删除元素\n",
    "del CSU['冶金工程']\n",
    "del CSU['矿业工程']\n",
    "CSU"
   ]
  },
  {
   "cell_type": "code",
   "execution_count": 64,
   "id": "379b5caf",
   "metadata": {},
   "outputs": [],
   "source": [
    "#循环"
   ]
  },
  {
   "cell_type": "code",
   "execution_count": 65,
   "id": "557a965e",
   "metadata": {},
   "outputs": [
    {
     "name": "stdout",
     "output_type": "stream",
     "text": [
      "中南大学, you are a great school! \n",
      "湖南大学, you are a great school! \n",
      "三峡大学, you are a great school! \n",
      "长江大学, you are a great school! \n",
      "I can't wait to visit you!\n"
     ]
    }
   ],
   "source": [
    "# 先分开表扬，最后再说句额外的话\n",
    "schools = ['中南大学', '湖南大学', '三峡大学', '长江大学']\n",
    "for school in schools:\n",
    "    message = f\"{school}, you are a great school! \"\n",
    "    print(message)\n",
    "print(\"I can't wait to visit you!\")"
   ]
  },
  {
   "cell_type": "code",
   "execution_count": 66,
   "id": "954e4390",
   "metadata": {},
   "outputs": [],
   "source": [
    "# 两电一邮的 A+学科\n",
    "schools ={'成电': '电科、信通', '西电': '电科', '北邮': '信通'}"
   ]
  },
  {
   "cell_type": "code",
   "execution_count": 67,
   "id": "13f705e2",
   "metadata": {},
   "outputs": [
    {
     "name": "stdout",
     "output_type": "stream",
     "text": [
      "两电一邮包括 成电\n",
      "两电一邮包括 西电\n",
      "两电一邮包括 北邮\n"
     ]
    }
   ],
   "source": [
    "# 循环键\n",
    "for k in schools.keys():\n",
    "    print( '两电一邮包括' , k )"
   ]
  },
  {
   "cell_type": "code",
   "execution_count": 68,
   "id": "73f5ac75",
   "metadata": {},
   "outputs": [
    {
     "name": "stdout",
     "output_type": "stream",
     "text": [
      "A+学科是 电科、信通\n",
      "A+学科是 电科\n",
      "A+学科是 信通\n"
     ]
    }
   ],
   "source": [
    " # 循环值\n",
    "for v in schools.values():\n",
    "    print( 'A+学科是' , v )"
   ]
  },
  {
   "cell_type": "code",
   "execution_count": 69,
   "id": "62b8c774",
   "metadata": {},
   "outputs": [
    {
     "name": "stdout",
     "output_type": "stream",
     "text": [
      "成电 的 A+学科是 电科、信通\n",
      "西电 的 A+学科是 电科\n",
      "北邮 的 A+学科是 信通\n"
     ]
    }
   ],
   "source": [
    "# 循环键值对\n",
    "for k, v in schools.items():\n",
    "    print( k, '的 A+学科是', v )"
   ]
  },
  {
   "cell_type": "code",
   "execution_count": 70,
   "id": "947ecf0e",
   "metadata": {},
   "outputs": [
    {
     "name": "stdout",
     "output_type": "stream",
     "text": [
      "1\n",
      "2\n",
      "3\n",
      "4\n",
      "5\n"
     ]
    }
   ],
   "source": [
    "a = 1\n",
    "while a <= 5:\n",
    "    print(a)\n",
    "    a += 1"
   ]
  },
  {
   "cell_type": "code",
   "execution_count": 71,
   "id": "957432c7",
   "metadata": {},
   "outputs": [
    {
     "name": "stdout",
     "output_type": "stream",
     "text": [
      "1\n",
      "2\n",
      "3\n",
      "4\n",
      "5\n"
     ]
    }
   ],
   "source": [
    "# break 的演示\n",
    "a = 1\n",
    "while True:\n",
    "    if a > 5:\n",
    "        break\n",
    "    print(a)\n",
    "    a += 1"
   ]
  },
  {
   "cell_type": "code",
   "execution_count": 72,
   "id": "55180672",
   "metadata": {},
   "outputs": [
    {
     "name": "stdout",
     "output_type": "stream",
     "text": [
      "1\n",
      "2\n",
      "4\n",
      "5\n"
     ]
    }
   ],
   "source": [
    "# continue 的演示\n",
    "a = 0\n",
    "while a < 5:\n",
    "    a += 1\n",
    "    if a == 3:\n",
    "        continue\n",
    "    print(a)"
   ]
  },
  {
   "cell_type": "code",
   "execution_count": 73,
   "id": "e8b05803",
   "metadata": {},
   "outputs": [
    {
     "name": "stdout",
     "output_type": "stream",
     "text": [
      "[1, 4, 9, 16, 25]\n"
     ]
    }
   ],
   "source": [
    " # 求平方——循环\n",
    "value = [ ]\n",
    "for i in [1,2,3,4,5]:\n",
    "    value = value + [i**2]\n",
    "print(value)"
   ]
  },
  {
   "cell_type": "code",
   "execution_count": 74,
   "id": "fdb36214",
   "metadata": {},
   "outputs": [
    {
     "name": "stdout",
     "output_type": "stream",
     "text": [
      "[1, 4, 9, 16, 25]\n"
     ]
    }
   ],
   "source": [
    " # 求平方——列表推导式\n",
    "value = [ i**2 for i in [1,2,3,4,5] ]\n",
    "print(value)"
   ]
  },
  {
   "cell_type": "code",
   "execution_count": 75,
   "id": "15427a4b",
   "metadata": {},
   "outputs": [
    {
     "name": "stdout",
     "output_type": "stream",
     "text": [
      "[1, 4, 9]\n"
     ]
    }
   ],
   "source": [
    "value = [ ]\n",
    "for i in [1,2,3,4,5]:\n",
    "    if i < 4:\n",
    "        value = value + [i**2]\n",
    "print(value)"
   ]
  },
  {
   "cell_type": "code",
   "execution_count": 76,
   "id": "b13bda34",
   "metadata": {},
   "outputs": [
    {
     "name": "stdout",
     "output_type": "stream",
     "text": [
      "[1, 4, 9]\n"
     ]
    }
   ],
   "source": [
    "# 求平方——列表推导式\n",
    "value = [ i**2 for i in [1,2,3,4,5] if i < 4 ]\n",
    "print(value)"
   ]
  },
  {
   "cell_type": "code",
   "execution_count": 77,
   "id": "139cd52f",
   "metadata": {},
   "outputs": [],
   "source": [
    " # 定义变量\n",
    "set_v = {1,2,3}\n",
    "tuple_v = (1,2,3)\n",
    "list_v = [1,2,3]\n",
    "dict_v = { 'a':1 , 'b':2 , 'c':3 }"
   ]
  },
  {
   "cell_type": "code",
   "execution_count": 78,
   "id": "c9726801",
   "metadata": {},
   "outputs": [
    {
     "name": "stdout",
     "output_type": "stream",
     "text": [
      "{1, 2, 3}\n",
      "{1, 2, 3}\n",
      "{'b', 'c', 'a'}\n",
      "{1, 2, 3}\n",
      "{('a', 1), ('c', 3), ('b', 2)}\n"
     ]
    }
   ],
   "source": [
    "# 转化为集合\n",
    "print( set( tuple_v ) )\n",
    "print( set( list_v ) )\n",
    "print( set( dict_v.keys() ) )\n",
    "print( set( dict_v.values() ) )\n",
    "print( set( dict_v.items() ) )"
   ]
  },
  {
   "cell_type": "code",
   "execution_count": 79,
   "id": "db8dad49",
   "metadata": {},
   "outputs": [
    {
     "name": "stdout",
     "output_type": "stream",
     "text": [
      "(1, 2, 3)\n",
      "(1, 2, 3)\n",
      "('a', 'b', 'c')\n",
      "(1, 2, 3)\n",
      "(('a', 1), ('b', 2), ('c', 3))\n"
     ]
    }
   ],
   "source": [
    " # 转化为元组\n",
    "print( tuple( set_v ) )\n",
    "print( tuple( list_v ) )\n",
    "print( tuple( dict_v.keys() ) )\n",
    "print( tuple( dict_v.values() ) )\n",
    "print( tuple( dict_v.items() ) )"
   ]
  },
  {
   "cell_type": "code",
   "execution_count": 80,
   "id": "031906ec",
   "metadata": {},
   "outputs": [
    {
     "name": "stdout",
     "output_type": "stream",
     "text": [
      "[1, 2, 3]\n",
      "[1, 2, 3]\n",
      "['a', 'b', 'c']\n",
      "[1, 2, 3]\n",
      "[('a', 1), ('b', 2), ('c', 3)]\n"
     ]
    }
   ],
   "source": [
    "# 转化为列表\n",
    "print( list( set_v ) )\n",
    "print( list( tuple_v ) )\n",
    "print( list( dict_v.keys() ) )\n",
    "print( list( dict_v.values() ) )\n",
    "print( list( dict_v.items() ) )"
   ]
  },
  {
   "cell_type": "code",
   "execution_count": 81,
   "id": "6b51e435",
   "metadata": {},
   "outputs": [
    {
     "name": "stdout",
     "output_type": "stream",
     "text": [
      "{'b': 1, 'c': 2, 'a': 3}\n",
      "{'a': 1, 'b': 2, 'c': 3}\n",
      "{'a': 1, 'b': 2, 'c': 3}\n"
     ]
    }
   ],
   "source": [
    " # 转化为字典\n",
    "print( dict( zip( {'a','b','c'} , set_v ) ) )\n",
    "print( dict( zip( ('a','b','c') , tuple_v ) ) )\n",
    "print( dict( zip( ['a','b','c'] , list_v ) ) )"
   ]
  },
  {
   "cell_type": "code",
   "execution_count": 82,
   "id": "48897030",
   "metadata": {},
   "outputs": [],
   "source": [
    "# 函数的输入与输出\n",
    "def my_func(v):\n",
    "    ''' 我的函数 '''\n",
    "    return v"
   ]
  },
  {
   "cell_type": "code",
   "execution_count": 83,
   "id": "3a3ed162",
   "metadata": {},
   "outputs": [
    {
     "data": {
      "text/plain": [
       "'cxk'"
      ]
     },
     "execution_count": 83,
     "metadata": {},
     "output_type": "execute_result"
    }
   ],
   "source": [
    "str_v = my_func( \"cxk\" ) # 字符串\n",
    "str_v"
   ]
  },
  {
   "cell_type": "code",
   "execution_count": 84,
   "id": "c09b308e",
   "metadata": {},
   "outputs": [],
   "source": [
    "# 吞吐多个值（借助元组）\n",
    "def my_counter(a,b):\n",
    "    '''加法器和乘法器'''\n",
    "    return a+b, a*b"
   ]
  },
  {
   "cell_type": "code",
   "execution_count": 85,
   "id": "f22c3f82",
   "metadata": {},
   "outputs": [
    {
     "data": {
      "text/plain": [
       "(11, 30)"
      ]
     },
     "execution_count": 85,
     "metadata": {},
     "output_type": "execute_result"
    }
   ],
   "source": [
    "x,y = my_counter(5,6)\n",
    "x,y"
   ]
  },
  {
   "cell_type": "code",
   "execution_count": 86,
   "id": "376dcfd5",
   "metadata": {},
   "outputs": [],
   "source": [
    "# 传入任意数量的参数（利用元组拆分法）\n",
    "def menu(*args):\n",
    "    '''菜单'''\n",
    "    return args"
   ]
  },
  {
   "cell_type": "code",
   "execution_count": 87,
   "id": "73649c13",
   "metadata": {},
   "outputs": [
    {
     "data": {
      "text/plain": [
       "('荔枝', '油饼', '香精煎鱼', '香翅捞饭')"
      ]
     },
     "execution_count": 87,
     "metadata": {},
     "output_type": "execute_result"
    }
   ],
   "source": [
    "info = menu('荔枝', '油饼', '香精煎鱼', '香翅捞饭')\n",
    "info"
   ]
  },
  {
   "cell_type": "code",
   "execution_count": 88,
   "id": "7c98daf9",
   "metadata": {},
   "outputs": [],
   "source": [
    " # 同时传入普通参数和任意数量的参数（后者只能出现一个）\n",
    "def her_hobbies(name, *hobbies): \n",
    "    return name, hobbies"
   ]
  },
  {
   "cell_type": "code",
   "execution_count": 89,
   "id": "7c96ea5a",
   "metadata": {},
   "outputs": [
    {
     "name": "stdout",
     "output_type": "stream",
     "text": [
      "cxk likes ('singing', 'dancing', 'rap', 'basketball').\n"
     ]
    }
   ],
   "source": [
    "n,h = her_hobbies('cxk', 'singing', 'dancing', 'rap', 'basketball')\n",
    "print( f\"{n} likes {h}.\" )"
   ]
  },
  {
   "cell_type": "code",
   "execution_count": 90,
   "id": "c29c6ab8",
   "metadata": {},
   "outputs": [],
   "source": [
    " # 对各专业评价\n",
    "def evaluate(in1, in2, **kwargs): \n",
    "    ''' 先对计算机类评价，再对通信类评价，也可自行补充 '''\n",
    "    kwargs ['计算机类'] = in1\n",
    "    kwargs ['通信工程'] = in2\n",
    "    return kwargs"
   ]
  },
  {
   "cell_type": "code",
   "execution_count": 91,
   "id": "3082b9d7",
   "metadata": {},
   "outputs": [
    {
     "data": {
      "text/plain": [
       "{'计算机类': '打代码的', '通信工程': '拉网线的'}"
      ]
     },
     "execution_count": 91,
     "metadata": {},
     "output_type": "execute_result"
    }
   ],
   "source": [
    "#规矩评价法\n",
    "eva1 = evaluate( '打代码的', '拉网线的' )\n",
    "eva1"
   ]
  },
  {
   "cell_type": "code",
   "execution_count": 92,
   "id": "addf8660",
   "metadata": {},
   "outputs": [
    {
     "data": {
      "text/plain": [
       "{'电子工程': '焊电路的', '能源动力': '烧锅炉的', '计算机类': '打代码的', '通信工程': '拉网线的'}"
      ]
     },
     "execution_count": 92,
     "metadata": {},
     "output_type": "execute_result"
    }
   ],
   "source": [
    " # 额外补充法\n",
    "eva2 = evaluate( \n",
    " '打代码的' ,\n",
    " '拉网线的' ,\n",
    " 电子工程 = '焊电路的' ,\n",
    " 能源动力 = '烧锅炉的'\n",
    ")\n",
    "eva2"
   ]
  },
  {
   "cell_type": "code",
   "execution_count": 93,
   "id": "da56032b",
   "metadata": {},
   "outputs": [],
   "source": [
    "def my_evaluate1(college, major, evaluate):\n",
    "    '''对某大学某专业的评价'''\n",
    "    message = f\"{college}的{major}{evaluate}。\"\n",
    "    return message"
   ]
  },
  {
   "cell_type": "code",
   "execution_count": 94,
   "id": "15d39d6e",
   "metadata": {},
   "outputs": [
    {
     "data": {
      "text/plain": [
       "'三峡大学的电气工程挺厉害。'"
      ]
     },
     "execution_count": 94,
     "metadata": {},
     "output_type": "execute_result"
    }
   ],
   "source": [
    "# 顺序调用\n",
    "info = my_evaluate1('三峡大学', '电气工程', '挺厉害')\n",
    "info"
   ]
  },
  {
   "cell_type": "code",
   "execution_count": 95,
   "id": "750facd8",
   "metadata": {},
   "outputs": [
    {
     "data": {
      "text/plain": [
       "'三峡大学的水利工程也还行。'"
      ]
     },
     "execution_count": 95,
     "metadata": {},
     "output_type": "execute_result"
    }
   ],
   "source": [
    " # 关键字调用\n",
    "info = my_evaluate1('三峡大学', evaluate='也还行', major='水利工程')\n",
    "info"
   ]
  },
  {
   "cell_type": "code",
   "execution_count": 96,
   "id": "1125b836",
   "metadata": {},
   "outputs": [],
   "source": [
    "# 函数的默认值\n",
    "def my_evaluate2(college, level='带专'): \n",
    "    message = f\"{college}, 你是一所不错的{level}!\"\n",
    "    return message"
   ]
  },
  {
   "cell_type": "code",
   "execution_count": 97,
   "id": "db652412",
   "metadata": {},
   "outputs": [
    {
     "data": {
      "text/plain": [
       "'中南大学, 你是一所不错的带专!'"
      ]
     },
     "execution_count": 97,
     "metadata": {},
     "output_type": "execute_result"
    }
   ],
   "source": [
    "info = my_evaluate2('中南大学') # 遵循默认值\n",
    "info"
   ]
  },
  {
   "cell_type": "code",
   "execution_count": 98,
   "id": "a92e411d",
   "metadata": {},
   "outputs": [
    {
     "data": {
      "text/plain": [
       "'铁道学院, 你是一所不错的职高!'"
      ]
     },
     "execution_count": 98,
     "metadata": {},
     "output_type": "execute_result"
    }
   ],
   "source": [
    "info = my_evaluate2('铁道学院' , level='职高') # 打破默认值\n",
    "info"
   ]
  },
  {
   "cell_type": "code",
   "execution_count": 99,
   "id": "33599ddd",
   "metadata": {},
   "outputs": [],
   "source": [
    "# 类的示范\n",
    "class Counter:\n",
    "    '''一台可以加减的计算器'''\n",
    " \n",
    "    def __init__(self,a,b): # 特殊方法\n",
    "        ''' a 和 b 公共变量，也是 self 的属性'''\n",
    "        self.a = a # 公共变量 a 是 self 的属性\n",
    "        self.b = b # 公共变量 b 是 self 的属性\n",
    " \n",
    "    def add(self): # 自定义的加法方法\n",
    "        '''加法'''\n",
    "        return self.a + self.b\n",
    " \n",
    "    def sub(self): # 自定义的乘法方法\n",
    "        '''减法'''\n",
    "        return self.a - self.b"
   ]
  },
  {
   "cell_type": "code",
   "execution_count": 100,
   "id": "9ebb5bc9",
   "metadata": {},
   "outputs": [
    {
     "name": "stdout",
     "output_type": "stream",
     "text": [
      "5 6\n",
      "11\n"
     ]
    }
   ],
   "source": [
    "# 创建类的实例\n",
    "cnt = Counter(5,6) # 创建类的一个实例 cnt\n",
    "print( cnt.a, cnt.b ) # 访问属性\n",
    "print( cnt.add() ) # 调用方法"
   ]
  },
  {
   "cell_type": "code",
   "execution_count": 101,
   "id": "820ffc73",
   "metadata": {},
   "outputs": [],
   "source": [
    "# 带有默认值的参数\n",
    "class Man:\n",
    "    '''一个真正的 man'''\n",
    " \n",
    "    def __init__(self,name,age):\n",
    "        '''公共变量'''\n",
    "        self.name = name\n",
    "        self.age = age\n",
    "        self.gender = 'man' # 一个带有默认值的属性\n",
    " \n",
    "    def zwjs(self):\n",
    "         '''自我介绍'''\n",
    "         print(f\"大家好！我是{self.name}，今年{self.age}岁了！\")"
   ]
  },
  {
   "cell_type": "code",
   "execution_count": 102,
   "id": "8b08ed89",
   "metadata": {},
   "outputs": [
    {
     "name": "stdout",
     "output_type": "stream",
     "text": [
      "大家好！我是鸡哥，今年24岁了！\n",
      "None\n",
      "man\n",
      "Neither man nor woman\n"
     ]
    }
   ],
   "source": [
    "# 创建与使用类\n",
    "cxk = Man('鸡哥',24)\n",
    "cxk.name, cxk.age # 访问属性\n",
    "print(cxk.zwjs()) # 调用方法\n",
    "print(cxk.gender) # 访问默认值\n",
    " # 修改默认值的数值\n",
    "cxk.gender = 'Neither man nor woman'\n",
    "print(cxk.gender)"
   ]
  },
  {
   "cell_type": "code",
   "execution_count": 103,
   "id": "55aa8fcc",
   "metadata": {},
   "outputs": [],
   "source": [
    "# 父类（也就是前面的加减计算器）\n",
    "class Counter:\n",
    "    '''一台可以加减的计算器'''\n",
    " \n",
    "    def __init__(self,a,b): # 特殊方法\n",
    "        ''' a 和 b 公共变量，也是 self 的属性'''\n",
    "        self.a = a # 公共变量 a 是 self 的属性\n",
    "        self.b = b # 公共变量 b 是 self 的属性\n",
    " \n",
    "    def add(self): # 自定义的加法方法\n",
    "        '''加法'''\n",
    "        return self.a + self.b\n",
    " \n",
    "    def sub(self): # 自定义的乘法方法\n",
    "        '''减法'''\n",
    "        return self.a - self.b"
   ]
  },
  {
   "cell_type": "code",
   "execution_count": 104,
   "id": "1dc3c22a",
   "metadata": {},
   "outputs": [],
   "source": [
    "# 子类（在加减的基础上，添加乘除功能）\n",
    "class Counter2(Counter):\n",
    "    '''一台可以加减乘除的高级计算器'''\n",
    " \n",
    "    def __init__(self,a,b):\n",
    "        '''引用父类的属性'''\n",
    "        super().__init__(a,b) # 继承父类（superclass）\n",
    " \n",
    "    def mul(self):\n",
    "        '''乘法'''\n",
    "        return self.a * self.b\n",
    " \n",
    "    def div(self):\n",
    "        '''除法'''\n",
    "        return self.a / self.b"
   ]
  },
  {
   "cell_type": "code",
   "execution_count": 105,
   "id": "b82d34fb",
   "metadata": {},
   "outputs": [
    {
     "name": "stdout",
     "output_type": "stream",
     "text": [
      "-1\n",
      "12\n"
     ]
    }
   ],
   "source": [
    "test = Counter2(3,4)\n",
    "print( test.sub() ) # 调用父类的方法\n",
    "print( test.mul() ) # 调用自己的方法"
   ]
  },
  {
   "cell_type": "code",
   "execution_count": 106,
   "id": "dd909bd6",
   "metadata": {},
   "outputs": [],
   "source": [
    "# 一个无辜的类\n",
    "class Counter:\n",
    "    '''一台可以加减的计算器'''\n",
    " \n",
    "    def __init__(self,a,b): # 特殊方法\n",
    "        ''' a 和 b 公共变量，也是 self 的属性'''\n",
    "        self.a = a # 公共变量 a 是 self 的属性\n",
    "        self.b = b # 公共变量 b 是 self 的属性\n",
    " \n",
    "    def add(self): # 自定义的加法方法\n",
    "        '''加法'''\n",
    "        return self.a + self.b\n",
    " \n",
    "    def sub(self): # 自定义的乘法方法\n",
    "        '''减法'''\n",
    "        return self.a - self.b"
   ]
  },
  {
   "cell_type": "code",
   "execution_count": 107,
   "id": "27976ecb",
   "metadata": {},
   "outputs": [],
   "source": [
    "# 掠夺者\n",
    "class Amrc:\n",
    "    '''一台本身只能乘除的计算器，现欲掠夺加减功能'''\n",
    " \n",
    "    def __init__(self,c,d):\n",
    "        '''公共变量'''\n",
    "        self.c = c\n",
    "        self.d = d\n",
    "        self.cnt = Counter(c,d) # 掠夺 Counter 类的方法\n",
    " \n",
    "    def mul(self):\n",
    "        '''乘法'''\n",
    "        return self.c * self.d\n",
    " \n",
    "    def div(self):\n",
    "        '''除法'''\n",
    "        return self.c / self.d"
   ]
  },
  {
   "cell_type": "code",
   "execution_count": 108,
   "id": "0652e095",
   "metadata": {},
   "outputs": [
    {
     "name": "stdout",
     "output_type": "stream",
     "text": [
      "12\n",
      "7\n"
     ]
    }
   ],
   "source": [
    "test = Amrc(3,4) # 创建实例\n",
    "print( test.mul() ) # 自己的方法\n",
    "print( test.cnt.add() ) # 抢来的方法"
   ]
  },
  {
   "cell_type": "code",
   "execution_count": null,
   "id": "4e51f6b2",
   "metadata": {},
   "outputs": [],
   "source": []
  }
 ],
 "metadata": {
  "kernelspec": {
   "display_name": "DL",
   "language": "python",
   "name": "dl"
  },
  "language_info": {
   "codemirror_mode": {
    "name": "ipython",
    "version": 3
   },
   "file_extension": ".py",
   "mimetype": "text/x-python",
   "name": "python",
   "nbconvert_exporter": "python",
   "pygments_lexer": "ipython3",
   "version": "3.11.4"
  }
 },
 "nbformat": 4,
 "nbformat_minor": 5
}
