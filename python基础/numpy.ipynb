{
 "cells": [
  {
   "cell_type": "code",
   "execution_count": 1,
   "id": "c07cf11d",
   "metadata": {},
   "outputs": [],
   "source": [
    "import numpy as np"
   ]
  },
  {
   "cell_type": "code",
   "execution_count": 2,
   "id": "47ae03c5",
   "metadata": {},
   "outputs": [
    {
     "name": "stdout",
     "output_type": "stream",
     "text": [
      "[1 2 3]\n"
     ]
    }
   ],
   "source": [
    "#整数型数组\n",
    "arr1=np.array([1,2,3])\n",
    "print(arr1)"
   ]
  },
  {
   "cell_type": "code",
   "execution_count": 3,
   "id": "dbad19dc",
   "metadata": {},
   "outputs": [
    {
     "name": "stdout",
     "output_type": "stream",
     "text": [
      "[1. 2. 3.]\n"
     ]
    }
   ],
   "source": [
    "#整数型数组 ——> 浮点型数组\n",
    "arr2=arr1.astype(float)\n",
    "print(arr2)"
   ]
  },
  {
   "cell_type": "code",
   "execution_count": 4,
   "id": "2732f35c",
   "metadata": {},
   "outputs": [
    {
     "name": "stdout",
     "output_type": "stream",
     "text": [
      "[1 2 3]\n"
     ]
    }
   ],
   "source": [
    "#浮点型数组 ——> 整数型数组\n",
    "arr3=arr2.astype(int)\n",
    "print(arr3)"
   ]
  },
  {
   "cell_type": "code",
   "execution_count": 5,
   "id": "e5878fec",
   "metadata": {},
   "outputs": [
    {
     "name": "stdout",
     "output_type": "stream",
     "text": [
      "[1 2 3]\n"
     ]
    }
   ],
   "source": [
    "#整数型数组\n",
    "arr=np.array( [1, 2, 3] )\n",
    "print(arr)"
   ]
  },
  {
   "cell_type": "code",
   "execution_count": 6,
   "id": "c1e6ae6c",
   "metadata": {},
   "outputs": [
    {
     "name": "stdout",
     "output_type": "stream",
     "text": [
      "[1. 2. 3.]\n",
      "[1. 2. 3.]\n"
     ]
    }
   ],
   "source": [
    "#整数型数组与浮点数做运算\n",
    "print(arr+0.0)\n",
    "print(arr*1.0)"
   ]
  },
  {
   "cell_type": "code",
   "execution_count": 7,
   "id": "df4f098f",
   "metadata": {},
   "outputs": [
    {
     "name": "stdout",
     "output_type": "stream",
     "text": [
      "[1. 2. 3.]\n"
     ]
    }
   ],
   "source": [
    "#整数型数组遇到除法（即便是除以整数）\n",
    "print( arr / 1 )"
   ]
  },
  {
   "cell_type": "code",
   "execution_count": 8,
   "id": "f794322a",
   "metadata": {},
   "outputs": [
    {
     "name": "stdout",
     "output_type": "stream",
     "text": [
      "[2. 4. 6.]\n"
     ]
    }
   ],
   "source": [
    "# 整数型数组与浮点型数组做运算\n",
    "int_arr = np.array( [1, 2, 3] )\n",
    "float_arr = np.array( [1.0, 2, 3] )\n",
    "print( int_arr + float_arr )"
   ]
  },
  {
   "cell_type": "code",
   "execution_count": 9,
   "id": "543b0d44",
   "metadata": {},
   "outputs": [
    {
     "name": "stdout",
     "output_type": "stream",
     "text": [
      "[1. 1. 1.]\n"
     ]
    }
   ],
   "source": [
    "arr1=np.ones(3)#传入形状3\n",
    "print(arr1)#造出一维数组"
   ]
  },
  {
   "cell_type": "code",
   "execution_count": 10,
   "id": "d01f0d1d",
   "metadata": {},
   "outputs": [
    {
     "name": "stdout",
     "output_type": "stream",
     "text": [
      "[[1. 1. 1.]\n",
      " [1. 1. 1.]]\n"
     ]
    }
   ],
   "source": [
    "arr2=np.ones((2,3))#传入形状(2,3)\n",
    "print(arr2)#造出二维数组"
   ]
  },
  {
   "cell_type": "code",
   "execution_count": 11,
   "id": "609dc31c",
   "metadata": {},
   "outputs": [
    {
     "name": "stdout",
     "output_type": "stream",
     "text": [
      "[[[1. 1. 1. 1.]\n",
      "  [1. 1. 1. 1.]\n",
      "  [1. 1. 1. 1.]]\n",
      "\n",
      " [[1. 1. 1. 1.]\n",
      "  [1. 1. 1. 1.]\n",
      "  [1. 1. 1. 1.]]]\n"
     ]
    }
   ],
   "source": [
    "arr3 = np.ones((2,3,4))#传入形状(2,3,4)\n",
    "print(arr3) # 造出三维数组"
   ]
  },
  {
   "cell_type": "code",
   "execution_count": 12,
   "id": "4d2faecd",
   "metadata": {},
   "outputs": [
    {
     "name": "stdout",
     "output_type": "stream",
     "text": [
      "(3,)\n",
      "(2, 3)\n",
      "(2, 3, 4)\n"
     ]
    }
   ],
   "source": [
    "print(arr1.shape)#查看形状\n",
    "print(arr2.shape)\n",
    "print(arr3.shape)"
   ]
  },
  {
   "cell_type": "code",
   "execution_count": 13,
   "id": "6cc6df10",
   "metadata": {},
   "outputs": [
    {
     "name": "stdout",
     "output_type": "stream",
     "text": [
      "[0 1 2 3 4 5 6 7 8 9]\n",
      "[[0 1 2 3 4]\n",
      " [5 6 7 8 9]]\n"
     ]
    }
   ],
   "source": [
    "#将一维数组升级为二维数组\n",
    "arr1=np.arange(10)\n",
    "print(arr1)\n",
    "arr2=arr1.reshape(2,-1)\n",
    "print(arr2)"
   ]
  },
  {
   "cell_type": "code",
   "execution_count": 14,
   "id": "eaaf678a",
   "metadata": {},
   "outputs": [
    {
     "name": "stdout",
     "output_type": "stream",
     "text": [
      "[[0 1 2 3 4]\n",
      " [5 6 7 8 9]]\n",
      "[0 1 2 3 4 5 6 7 8 9]\n"
     ]
    }
   ],
   "source": [
    "#将二维数组降级为一维数组\n",
    "arr2=np.arange(10).reshape(2,5)\n",
    "print(arr2)\n",
    "arr1=arr2.reshape(-1)\n",
    "print(arr1)"
   ]
  },
  {
   "cell_type": "code",
   "execution_count": 15,
   "id": "657de1c5",
   "metadata": {},
   "outputs": [
    {
     "name": "stdout",
     "output_type": "stream",
     "text": [
      "[1 2 3]\n"
     ]
    }
   ],
   "source": [
    "#创建一维数组--向量\n",
    "arr1=np.array([1,2,3])\n",
    "print(arr1)"
   ]
  },
  {
   "cell_type": "code",
   "execution_count": 16,
   "id": "5e79cfff",
   "metadata": {},
   "outputs": [
    {
     "name": "stdout",
     "output_type": "stream",
     "text": [
      "[[1 2 3]]\n"
     ]
    }
   ],
   "source": [
    "#创建二维数组--行矩阵\n",
    "arr2=np.array([[1,2,3]])\n",
    "print(arr2)"
   ]
  },
  {
   "cell_type": "code",
   "execution_count": 17,
   "id": "6fb4db3b",
   "metadata": {},
   "outputs": [
    {
     "name": "stdout",
     "output_type": "stream",
     "text": [
      "[[1]\n",
      " [2]\n",
      " [3]]\n"
     ]
    }
   ],
   "source": [
    "#创建二维数组--行矩阵\n",
    "arr2=np.array([[1],[2],[3]])\n",
    "print(arr2)"
   ]
  },
  {
   "cell_type": "code",
   "execution_count": 18,
   "id": "03641c9d",
   "metadata": {},
   "outputs": [
    {
     "name": "stdout",
     "output_type": "stream",
     "text": [
      "[[1 2 3]\n",
      " [4 5 6]]\n"
     ]
    }
   ],
   "source": [
    "#创建二维数组--矩阵\n",
    "arr4=np.array([[1,2,3],[4,5,6]])\n",
    "print(arr4)"
   ]
  },
  {
   "cell_type": "code",
   "execution_count": 19,
   "id": "d200496d",
   "metadata": {},
   "outputs": [
    {
     "name": "stdout",
     "output_type": "stream",
     "text": [
      "[0 1 2 3 4 5 6 7 8 9]\n"
     ]
    }
   ],
   "source": [
    "#递增数组\n",
    "arr1=np.arange(10)#从0开始到10之前结束\n",
    "print(arr1)"
   ]
  },
  {
   "cell_type": "code",
   "execution_count": 20,
   "id": "944b9270",
   "metadata": {},
   "outputs": [
    {
     "name": "stdout",
     "output_type": "stream",
     "text": [
      "[10 11 12 13 14 15 16 17 18 19]\n"
     ]
    }
   ],
   "source": [
    "#递增数组\n",
    "arr2=np.arange(10,20)#从10开始到20之前结束\n",
    "print(arr2)"
   ]
  },
  {
   "cell_type": "code",
   "execution_count": 21,
   "id": "6f463e6e",
   "metadata": {},
   "outputs": [
    {
     "name": "stdout",
     "output_type": "stream",
     "text": [
      "[ 1  3  5  7  9 11 13 15 17 19]\n"
     ]
    }
   ],
   "source": [
    "#递增数组\n",
    "arr3=np.arange(1,21,2)#从1开始到21之前结束步长为2\n",
    "print(arr3)"
   ]
  },
  {
   "cell_type": "code",
   "execution_count": 22,
   "id": "0fb42e18",
   "metadata": {},
   "outputs": [
    {
     "name": "stdout",
     "output_type": "stream",
     "text": [
      "[0. 0. 0.]\n"
     ]
    }
   ],
   "source": [
    "#全0数组\n",
    "arr1=np.zeros(3)#形状为3的向量\n",
    "print(arr1)"
   ]
  },
  {
   "cell_type": "code",
   "execution_count": 23,
   "id": "1e3e03d3",
   "metadata": {},
   "outputs": [
    {
     "name": "stdout",
     "output_type": "stream",
     "text": [
      "[[1. 1. 1.]]\n"
     ]
    }
   ],
   "source": [
    "#全1数组\n",
    "arr2=np.ones((1,3))#形状为(1,3)的矩阵\n",
    "print(arr2)"
   ]
  },
  {
   "cell_type": "code",
   "execution_count": 24,
   "id": "23b4fcd2",
   "metadata": {},
   "outputs": [
    {
     "name": "stdout",
     "output_type": "stream",
     "text": [
      "[[3.14 3.14 3.14]\n",
      " [3.14 3.14 3.14]]\n"
     ]
    }
   ],
   "source": [
    "#全3.14数组\n",
    "arr3=3.14*np.ones((2,3))#形状为3.14的数组\n",
    "print(arr3)"
   ]
  },
  {
   "cell_type": "code",
   "execution_count": 25,
   "id": "823b03e8",
   "metadata": {},
   "outputs": [
    {
     "name": "stdout",
     "output_type": "stream",
     "text": [
      "[0.74703651 0.20472958 0.02796648 0.78693292 0.97039443]\n"
     ]
    }
   ],
   "source": [
    "#0-1均匀分布的浮点型数组\n",
    "arr1=np.random.random(5)#形状为5的数组\n",
    "print(arr1)"
   ]
  },
  {
   "cell_type": "code",
   "execution_count": 26,
   "id": "3accaa57",
   "metadata": {},
   "outputs": [
    {
     "name": "stdout",
     "output_type": "stream",
     "text": [
      "[[99.50446452 79.86161164 67.65492635]\n",
      " [65.80754958 96.105766   87.11926594]\n",
      " [61.60032011 98.44499965 63.38058459]]\n"
     ]
    }
   ],
   "source": [
    "#60-100均匀分布的(3,3)浮点型数组\n",
    "arr1=(100-60)*np.random.random((3,3))+60#形状为5的数组\n",
    "print(arr1)"
   ]
  },
  {
   "cell_type": "code",
   "execution_count": 27,
   "id": "c67afe0e",
   "metadata": {},
   "outputs": [
    {
     "name": "stdout",
     "output_type": "stream",
     "text": [
      "[[15 70 41 37 69 41 77 47 95 14 63 52 53 30 36]]\n"
     ]
    }
   ],
   "source": [
    "#整数型随机数组\n",
    "arr2=np.random.randint(10,100,(1,15))#形状为(1,15)的矩阵\n",
    "print(arr2)"
   ]
  },
  {
   "cell_type": "code",
   "execution_count": 28,
   "id": "db3d6a10",
   "metadata": {},
   "outputs": [
    {
     "name": "stdout",
     "output_type": "stream",
     "text": [
      "[[ 1.16670314  1.21288538  0.80657064]\n",
      " [-1.77490539 -0.47232555 -0.55221945]]\n"
     ]
    }
   ],
   "source": [
    "#服从正态分布的随机数组\n",
    "arr3=np.random.normal(0,1,(2,3))#形状为(2,3)的数组,均值0，标准差1\n",
    "print(arr3)"
   ]
  },
  {
   "cell_type": "code",
   "execution_count": 29,
   "id": "332ffe2f",
   "metadata": {},
   "outputs": [
    {
     "name": "stdout",
     "output_type": "stream",
     "text": [
      "[[-0.01993256  1.29396477 -0.17005311]\n",
      " [ 0.30009513 -0.77470541  0.30691894]]\n"
     ]
    }
   ],
   "source": [
    "#服从正态分布的随机数组\n",
    "arr3=np.random.randn(2,3)#形状为(2,3)的数组,默认均值0，标准差1\n",
    "print(arr3)"
   ]
  },
  {
   "cell_type": "code",
   "execution_count": 30,
   "id": "81d7123d",
   "metadata": {},
   "outputs": [
    {
     "name": "stdout",
     "output_type": "stream",
     "text": [
      "[1 2 3 4 5 6 7 8 9]\n"
     ]
    }
   ],
   "source": [
    "#创建向量\n",
    "arr1=np.arange(1,10)\n",
    "print(arr1)"
   ]
  },
  {
   "cell_type": "code",
   "execution_count": 31,
   "id": "2008790f",
   "metadata": {},
   "outputs": [
    {
     "name": "stdout",
     "output_type": "stream",
     "text": [
      "4\n",
      "9\n"
     ]
    }
   ],
   "source": [
    "#访问元素\n",
    "print(arr1[3])#正向访问\n",
    "print(arr1[-1])#倒着访问"
   ]
  },
  {
   "cell_type": "code",
   "execution_count": 32,
   "id": "6058ea1f",
   "metadata": {},
   "outputs": [
    {
     "name": "stdout",
     "output_type": "stream",
     "text": [
      "[  1   2   3 100   5   6   7   8   9]\n"
     ]
    }
   ],
   "source": [
    "#修改数组元素\n",
    "arr1[3]=100\n",
    "print(arr1)"
   ]
  },
  {
   "cell_type": "code",
   "execution_count": 33,
   "id": "f0e6229f",
   "metadata": {},
   "outputs": [
    {
     "name": "stdout",
     "output_type": "stream",
     "text": [
      "[[1 2 3]\n",
      " [4 5 6]]\n"
     ]
    }
   ],
   "source": [
    "#创建矩阵\n",
    "arr2=np.array([[1,2,3],[4,5,6]])\n",
    "print(arr2)"
   ]
  },
  {
   "cell_type": "code",
   "execution_count": 34,
   "id": "0eb27a1c",
   "metadata": {},
   "outputs": [
    {
     "name": "stdout",
     "output_type": "stream",
     "text": [
      "3\n",
      "5\n"
     ]
    }
   ],
   "source": [
    "#访问元素\n",
    "print(arr2[0,2])\n",
    "print(arr2[1,-2])"
   ]
  },
  {
   "cell_type": "code",
   "execution_count": 35,
   "id": "d3a4a57a",
   "metadata": {},
   "outputs": [
    {
     "name": "stdout",
     "output_type": "stream",
     "text": [
      "[[  1   2   3]\n",
      " [  4 100   6]]\n"
     ]
    }
   ],
   "source": [
    "#修改元素\n",
    "arr2[1,1]=100.9#截断！！！！！！！！！！！！！！！\n",
    "print(arr2)"
   ]
  },
  {
   "cell_type": "code",
   "execution_count": 36,
   "id": "03da81a6",
   "metadata": {},
   "outputs": [
    {
     "name": "stdout",
     "output_type": "stream",
     "text": [
      "[ 0 10 20 30 40 50 60 70 80]\n"
     ]
    }
   ],
   "source": [
    "# 创建向量\n",
    "arr1 = np.arange(0,90,10)\n",
    "print(arr1)"
   ]
  },
  {
   "cell_type": "code",
   "execution_count": 37,
   "id": "12e70111",
   "metadata": {},
   "outputs": [
    {
     "name": "stdout",
     "output_type": "stream",
     "text": [
      "[ 0 20]\n"
     ]
    }
   ],
   "source": [
    "# 花式索引\n",
    "print( arr1[ [0,2] ] )"
   ]
  },
  {
   "cell_type": "code",
   "execution_count": 38,
   "id": "ad6c3dde",
   "metadata": {},
   "outputs": [
    {
     "name": "stdout",
     "output_type": "stream",
     "text": [
      "[[ 1  2  3  4]\n",
      " [ 5  6  7  8]\n",
      " [ 9 10 11 12]\n",
      " [13 14 15 16]]\n"
     ]
    }
   ],
   "source": [
    "# 创建矩阵\n",
    "arr2 = np.arange(1,17).reshape(4,4)\n",
    "print(arr2)"
   ]
  },
  {
   "cell_type": "code",
   "execution_count": 39,
   "id": "cbf69793",
   "metadata": {},
   "outputs": [
    {
     "name": "stdout",
     "output_type": "stream",
     "text": [
      "[1 6]\n",
      "[3 6 9]\n"
     ]
    }
   ],
   "source": [
    "# 花式索引\n",
    "print( arr2[ [0,1] , [0,1] ] )\n",
    "print( arr2[ [0,1,2] , [2,1,0] ] )"
   ]
  },
  {
   "cell_type": "code",
   "execution_count": 40,
   "id": "fa2538a1",
   "metadata": {},
   "outputs": [
    {
     "name": "stdout",
     "output_type": "stream",
     "text": [
      "[[  1   2   3 100]\n",
      " [  5   6 100   8]\n",
      " [  9 100  11  12]\n",
      " [100  14  15  16]]\n"
     ]
    }
   ],
   "source": [
    "# 修改数组元素\n",
    "arr2[ [0,1,2,3] , [3,2,1,0] ] = 100\n",
    "print(arr2)"
   ]
  },
  {
   "cell_type": "code",
   "execution_count": 41,
   "id": "9bd347a2",
   "metadata": {},
   "outputs": [],
   "source": [
    "arr1 = np.arange(10)"
   ]
  },
  {
   "cell_type": "code",
   "execution_count": 42,
   "id": "5ed94279",
   "metadata": {},
   "outputs": [
    {
     "name": "stdout",
     "output_type": "stream",
     "text": [
      "[0 1 2 3 4 5 6 7 8 9]\n",
      "[1 2 3]\n",
      "[1 2 3 4 5 6 7 8 9]\n",
      "[0 1 2 3]\n"
     ]
    }
   ],
   "source": [
    "print( arr1 )\n",
    "print( arr1[ 1 : 4 ] ) # 从索引[1]开始，切到索引[4]之前\n",
    "print( arr1[ 1 : ] ) # 从索引[1]开始，切到结尾\n",
    "print( arr1[ : 4 ] ) # 从数组开头开始，切到索引[4]之前"
   ]
  },
  {
   "cell_type": "code",
   "execution_count": 43,
   "id": "bdcd1e74",
   "metadata": {},
   "outputs": [
    {
     "name": "stdout",
     "output_type": "stream",
     "text": [
      "[0 1 2 3 4 5 6 7 8 9]\n",
      "[2 3 4 5 6 7]\n",
      "[2 3 4 5 6 7 8 9]\n",
      "[0 1 2 3 4 5 6 7]\n"
     ]
    }
   ],
   "source": [
    "print( arr1 ) \n",
    "print( arr1[ 2 : -2 ] ) # 切除开头 2 个和结尾 2 个\n",
    "print( arr1[ 2 : ] ) # 切除开头 2 个\n",
    "print( arr1[ : -2 ] ) # 切除结尾 2 个"
   ]
  },
  {
   "cell_type": "code",
   "execution_count": 44,
   "id": "503e31a8",
   "metadata": {},
   "outputs": [
    {
     "name": "stdout",
     "output_type": "stream",
     "text": [
      "[0 1 2 3 4 5 6 7 8 9]\n",
      "[0 2 4 6 8]\n",
      "[0 3 6 9]\n",
      "[1 3 5 7]\n"
     ]
    }
   ],
   "source": [
    "print( arr1 ) \n",
    "print( arr1[ : : 2 ] ) # 每 2 个元素采样一次\n",
    "print( arr1[ : : 3 ] ) # 每 3 个元素采样一次\n",
    "print( arr1[ 1 : -1 : 2 ] ) # 切除一头一尾后，每 2 个元素采样一次"
   ]
  },
  {
   "cell_type": "code",
   "execution_count": 45,
   "id": "bcf5426b",
   "metadata": {},
   "outputs": [
    {
     "name": "stdout",
     "output_type": "stream",
     "text": [
      "[[ 1  2  3  4  5]\n",
      " [ 6  7  8  9 10]\n",
      " [11 12 13 14 15]\n",
      " [16 17 18 19 20]]\n"
     ]
    }
   ],
   "source": [
    "arr2 = np.arange(1,21).reshape(4,5)\n",
    "print( arr2 )"
   ]
  },
  {
   "cell_type": "code",
   "execution_count": 46,
   "id": "2c93194c",
   "metadata": {},
   "outputs": [
    {
     "name": "stdout",
     "output_type": "stream",
     "text": [
      "[[ 7  8  9]\n",
      " [12 13 14]]\n"
     ]
    }
   ],
   "source": [
    "print( arr2[ 1:3 , 1:-1 ] ) # 矩阵切片初体验"
   ]
  },
  {
   "cell_type": "code",
   "execution_count": 47,
   "id": "144b854d",
   "metadata": {},
   "outputs": [
    {
     "name": "stdout",
     "output_type": "stream",
     "text": [
      "[[ 1  3  5]\n",
      " [16 18 20]]\n"
     ]
    }
   ],
   "source": [
    "print( arr2[ ::3 , ::2 ] ) # 跳跃采样"
   ]
  },
  {
   "cell_type": "code",
   "execution_count": 48,
   "id": "d6760d55",
   "metadata": {},
   "outputs": [
    {
     "name": "stdout",
     "output_type": "stream",
     "text": [
      "[11 12 13 14 15]\n"
     ]
    }
   ],
   "source": [
    "print( arr2[ 2 , : ] ) # 提取第 2 行"
   ]
  },
  {
   "cell_type": "code",
   "execution_count": 49,
   "id": "4c09560d",
   "metadata": {},
   "outputs": [
    {
     "name": "stdout",
     "output_type": "stream",
     "text": [
      "[[ 6  7  8  9 10]\n",
      " [11 12 13 14 15]]\n"
     ]
    }
   ],
   "source": [
    "print( arr2[ 1:3 , : ] ) # 提取 1 至 2 行"
   ]
  },
  {
   "cell_type": "code",
   "execution_count": 51,
   "id": "76276353",
   "metadata": {},
   "outputs": [
    {
     "name": "stdout",
     "output_type": "stream",
     "text": [
      "[11 12 13 14 15]\n",
      "[11 12 13 14 15]\n"
     ]
    }
   ],
   "source": [
    "print( arr2[ 2 , : ] ) # 规范的提取行\n",
    "print( arr2[2] ) # 简便的提取行"
   ]
  },
  {
   "cell_type": "code",
   "execution_count": 52,
   "id": "cb6a1e46",
   "metadata": {},
   "outputs": [
    {
     "name": "stdout",
     "output_type": "stream",
     "text": [
      "[[ 1  2  3  4  5]\n",
      " [ 6  7  8  9 10]\n",
      " [11 12 13 14 15]\n",
      " [16 17 18 19 20]]\n"
     ]
    }
   ],
   "source": [
    "arr4 = np.arange(1,21).reshape(4,5)\n",
    "print( arr4 )"
   ]
  },
  {
   "cell_type": "code",
   "execution_count": 53,
   "id": "22d0e9da",
   "metadata": {},
   "outputs": [
    {
     "name": "stdout",
     "output_type": "stream",
     "text": [
      "[ 3  8 13 18]\n"
     ]
    }
   ],
   "source": [
    "print( arr4[ : , 2 ] ) # 提取第 2 列（注意，输出的是向量）"
   ]
  },
  {
   "cell_type": "code",
   "execution_count": 54,
   "id": "78042eaf",
   "metadata": {},
   "outputs": [
    {
     "name": "stdout",
     "output_type": "stream",
     "text": [
      "[[ 2  3]\n",
      " [ 7  8]\n",
      " [12 13]\n",
      " [17 18]]\n"
     ]
    }
   ],
   "source": [
    "print( arr4[ : , 1:3 ] ) # 提取 1 至 2 列"
   ]
  },
  {
   "cell_type": "code",
   "execution_count": 56,
   "id": "139d9a18",
   "metadata": {},
   "outputs": [
    {
     "name": "stdout",
     "output_type": "stream",
     "text": [
      "[[ 3]\n",
      " [ 8]\n",
      " [13]\n",
      " [18]]\n"
     ]
    }
   ],
   "source": [
    "cut=arr4[ : , 2 ]\n",
    "cut=cut.reshape((-1,1))\n",
    "print(cut)"
   ]
  },
  {
   "cell_type": "code",
   "execution_count": 57,
   "id": "8fb4b978",
   "metadata": {},
   "outputs": [
    {
     "name": "stdout",
     "output_type": "stream",
     "text": [
      "[0 1 2 3 4 5 6 7 8 9]\n"
     ]
    }
   ],
   "source": [
    "arr = np.arange(10) # 创建原数组 arr\n",
    "print(arr)"
   ]
  },
  {
   "cell_type": "code",
   "execution_count": 58,
   "id": "38afad33",
   "metadata": {},
   "outputs": [
    {
     "name": "stdout",
     "output_type": "stream",
     "text": [
      "[0 1 2]\n"
     ]
    }
   ],
   "source": [
    "cut = arr[ : 3 ] # 创建 arr 的切片 cut\n",
    "print(cut)"
   ]
  },
  {
   "cell_type": "code",
   "execution_count": 59,
   "id": "d2c737c4",
   "metadata": {},
   "outputs": [
    {
     "name": "stdout",
     "output_type": "stream",
     "text": [
      "[100   1   2]\n"
     ]
    }
   ],
   "source": [
    "cut[0] = 100 # 对切片的数值进行修改\n",
    "print(cut)"
   ]
  },
  {
   "cell_type": "code",
   "execution_count": 60,
   "id": "8dde0aed",
   "metadata": {},
   "outputs": [
    {
     "name": "stdout",
     "output_type": "stream",
     "text": [
      "[100   1   2   3   4   5   6   7   8   9]\n"
     ]
    }
   ],
   "source": [
    " print(arr) # 原数组也被修改"
   ]
  },
  {
   "cell_type": "code",
   "execution_count": 61,
   "id": "f38cf584",
   "metadata": {},
   "outputs": [
    {
     "name": "stdout",
     "output_type": "stream",
     "text": [
      "[0 1 2 3 4 5 6 7 8 9]\n"
     ]
    }
   ],
   "source": [
    "arr = np.arange(10) # 创建一个 0 到 10 的向量 arr\n",
    "print(arr)"
   ]
  },
  {
   "cell_type": "code",
   "execution_count": 63,
   "id": "9edefc6b",
   "metadata": {},
   "outputs": [
    {
     "name": "stdout",
     "output_type": "stream",
     "text": [
      "[0 1 2]\n"
     ]
    }
   ],
   "source": [
    "copy = arr[ : 3 ] .copy() # 创建 arr 的拷贝切片\n",
    "print(copy)"
   ]
  },
  {
   "cell_type": "code",
   "execution_count": 65,
   "id": "e7285654",
   "metadata": {},
   "outputs": [
    {
     "name": "stdout",
     "output_type": "stream",
     "text": [
      "[100   1   2]\n"
     ]
    }
   ],
   "source": [
    "copy [0] = 100 # 对拷贝切片的数值进行修改\n",
    "print(copy)"
   ]
  },
  {
   "cell_type": "code",
   "execution_count": 66,
   "id": "e59d4762",
   "metadata": {},
   "outputs": [
    {
     "name": "stdout",
     "output_type": "stream",
     "text": [
      "[0 1 2 3 4 5 6 7 8 9]\n"
     ]
    }
   ],
   "source": [
    "print(arr) # 原数组不为所动"
   ]
  },
  {
   "cell_type": "code",
   "execution_count": 67,
   "id": "dbca6f6a",
   "metadata": {},
   "outputs": [
    {
     "name": "stdout",
     "output_type": "stream",
     "text": [
      "[0 1 2 3 4 5 6 7 8 9]\n",
      "[0 1 2 3 4 5 6 7 8 9]\n",
      "[100   1   2   3   4   5   6   7   8   9]\n",
      "[100   1   2   3   4   5   6   7   8   9]\n"
     ]
    }
   ],
   "source": [
    "arr1 = np.arange(10) # 创建一个 0 到 10 的数组变量 arr\n",
    "print(arr1)\n",
    "arr2 = arr1 # 把数组 1 赋值给另一个数组 2\n",
    "print(arr2)\n",
    "arr2[0] = 100 # 修改数组 2\n",
    "print(arr2)\n",
    "print(arr1) # 原数组也被修改"
   ]
  },
  {
   "cell_type": "code",
   "execution_count": 68,
   "id": "5c23135d",
   "metadata": {},
   "outputs": [
    {
     "name": "stdout",
     "output_type": "stream",
     "text": [
      "[0 1 2 3 4 5 6 7 8 9]\n",
      "[0 1 2 3 4 5 6 7 8 9]\n",
      "[100   1   2   3   4   5   6   7   8   9]\n",
      "[0 1 2 3 4 5 6 7 8 9]\n"
     ]
    }
   ],
   "source": [
    "arr1 = np.arange(10) # 创建一个 0 到 10 的数组变量 arr\n",
    "print(arr1)\n",
    "arr2 = arr1.copy() # 把数组 1 的拷贝赋值给另一个数组 2\n",
    "print(arr2)\n",
    "arr2[0] = 100 # 修改数组 2\n",
    "print(arr2)\n",
    "print(arr1) # 查看数组 1"
   ]
  },
  {
   "cell_type": "code",
   "execution_count": 69,
   "id": "c3f9fbc4",
   "metadata": {},
   "outputs": [
    {
     "name": "stdout",
     "output_type": "stream",
     "text": [
      "[1 2 3]\n",
      "[[1 2 3]]\n",
      "[[1]\n",
      " [2]\n",
      " [3]]\n"
     ]
    }
   ],
   "source": [
    "arr1 = np.arange(1,4) # 创建向量\n",
    "print(arr1)\n",
    "arr2 = arr1.reshape( (1,-1) ) # 升级为矩阵\n",
    "print(arr2)\n",
    "arr3 = arr2.T # 行矩阵的转置\n",
    "print(arr3)"
   ]
  },
  {
   "cell_type": "code",
   "execution_count": 70,
   "id": "03351cb7",
   "metadata": {},
   "outputs": [
    {
     "name": "stdout",
     "output_type": "stream",
     "text": [
      "[[0]\n",
      " [1]\n",
      " [2]]\n",
      "[[0 1 2]]\n"
     ]
    }
   ],
   "source": [
    "arr1 = np.arange(3).reshape(3,1) # 创建列矩阵\n",
    "print(arr1)\n",
    "arr2 = arr1.T # 列矩阵的转置\n",
    "print(arr2) # 结果为行矩阵"
   ]
  },
  {
   "cell_type": "code",
   "execution_count": 71,
   "id": "5159ac81",
   "metadata": {},
   "outputs": [
    {
     "name": "stdout",
     "output_type": "stream",
     "text": [
      "[[0 1]\n",
      " [2 3]]\n",
      "[[0 2]\n",
      " [1 3]]\n"
     ]
    }
   ],
   "source": [
    "arr1 = np.arange(4).reshape(2,2) # 创建矩阵\n",
    "print(arr1)\n",
    "arr2 = arr1.T # 矩阵的转置\n",
    "print(arr2)"
   ]
  },
  {
   "cell_type": "code",
   "execution_count": 72,
   "id": "1fa6cd51",
   "metadata": {},
   "outputs": [
    {
     "name": "stdout",
     "output_type": "stream",
     "text": [
      "[0 1 2 3 4 5 6 7 8 9]\n",
      "[9 8 7 6 5 4 3 2 1 0]\n"
     ]
    }
   ],
   "source": [
    " # 创建向量\n",
    "arr1 = np.arange(10)\n",
    "print( arr1 )\n",
    " # 翻转向量\n",
    "arr_ud = np.flipud(arr1)\n",
    "print( arr_ud )"
   ]
  },
  {
   "cell_type": "code",
   "execution_count": 73,
   "id": "312b3c72",
   "metadata": {},
   "outputs": [
    {
     "name": "stdout",
     "output_type": "stream",
     "text": [
      "[[ 1  2  3  4  5]\n",
      " [ 6  7  8  9 10]\n",
      " [11 12 13 14 15]\n",
      " [16 17 18 19 20]]\n",
      "[[ 5  4  3  2  1]\n",
      " [10  9  8  7  6]\n",
      " [15 14 13 12 11]\n",
      " [20 19 18 17 16]]\n",
      "[[16 17 18 19 20]\n",
      " [11 12 13 14 15]\n",
      " [ 6  7  8  9 10]\n",
      " [ 1  2  3  4  5]]\n"
     ]
    }
   ],
   "source": [
    "# 创建矩阵\n",
    "arr2 = np.arange(1,21).reshape(4,5) \n",
    "print( arr2 )\n",
    "# 左右翻转\n",
    "arr_lr = np.fliplr(arr2)\n",
    "print( arr_lr )\n",
    "# 上下翻转\n",
    "arr_ud = np.flipud(arr2)\n",
    "print( arr_ud )"
   ]
  },
  {
   "cell_type": "code",
   "execution_count": 74,
   "id": "2a1f2541",
   "metadata": {},
   "outputs": [
    {
     "name": "stdout",
     "output_type": "stream",
     "text": [
      "[1 2 3]\n",
      "[4 5 6]\n",
      "[1 2 3 4 5 6]\n"
     ]
    }
   ],
   "source": [
    "# 创建向量 1\n",
    "arr1 = np.array( [1,2,3] )\n",
    "print(arr1)\n",
    "# 创建向量 2\n",
    "arr2 = np.array( [4,5,6] )\n",
    "print(arr2)\n",
    " # 拼接\n",
    "arr3 = np.concatenate( [arr1,arr2] )\n",
    "print(arr3)"
   ]
  },
  {
   "cell_type": "code",
   "execution_count": 75,
   "id": "16be98c7",
   "metadata": {},
   "outputs": [
    {
     "name": "stdout",
     "output_type": "stream",
     "text": [
      "[[1 2 3]\n",
      " [4 5 6]]\n",
      "[[ 7  8  9]\n",
      " [10 11 12]]\n",
      "[[ 1  2  3]\n",
      " [ 4  5  6]\n",
      " [ 7  8  9]\n",
      " [10 11 12]]\n",
      "[[ 1  2  3  7  8  9]\n",
      " [ 4  5  6 10 11 12]]\n"
     ]
    }
   ],
   "source": [
    " # 创建数组 1\n",
    "arr1 = np.array( [[1,2,3],[ 4,5,6]] )\n",
    "print(arr1)\n",
    "# 创建数组 2\n",
    "arr2 = np.array( [[7,8,9],[10,11,12]] )\n",
    "print(arr2)\n",
    "# 按第一个维度（行）拼接\n",
    "arr3 = np.concatenate( [arr1,arr2] ) # 默认参数 axis=0\n",
    "print(arr3)\n",
    "# 按第二个维度（列）拼接\n",
    "arr4 = np.concatenate( [arr1,arr2] ,axis=1 )\n",
    "print(arr4)"
   ]
  },
  {
   "cell_type": "code",
   "execution_count": 76,
   "id": "b7c4be9e",
   "metadata": {},
   "outputs": [
    {
     "name": "stdout",
     "output_type": "stream",
     "text": [
      "[10 20 30 40 50 60 70 80 90]\n",
      "[10 20]\n",
      "[30 40 50 60 70 80]\n",
      "[90]\n"
     ]
    }
   ],
   "source": [
    "# 创建向量\n",
    "arr = np.arange(10,100,10)\n",
    "print(arr)\n",
    "# 分裂数组\n",
    "arr1,arr2,arr3 = np.split( arr , [2,8] )\n",
    "print(arr1)\n",
    "print(arr2)\n",
    "print(arr3)"
   ]
  },
  {
   "cell_type": "code",
   "execution_count": 77,
   "id": "bc24c15e",
   "metadata": {},
   "outputs": [
    {
     "name": "stdout",
     "output_type": "stream",
     "text": [
      "[[1 2 3 4]\n",
      " [5 6 7 8]]\n",
      "[[1 2 3 4]] \n",
      "\n",
      " [[5 6 7 8]]\n",
      "[[1]\n",
      " [5]] \n",
      "\n",
      " [[2 3]\n",
      " [6 7]] \n",
      "\n",
      " [[4]\n",
      " [8]]\n"
     ]
    }
   ],
   "source": [
    "# 创建矩阵\n",
    "arr = np.arange(1,9).reshape(2,4)\n",
    "print(arr)\n",
    "# 按第一个维度（行）分裂\n",
    "arr1,arr2 = np.split(arr,[1]) # 默认参数 axis=0\n",
    "print(arr1 , '\\n\\n' , arr2) # 注意输出的是矩阵\n",
    " # 按第二个维度（列）分裂\n",
    "arr1,arr2,arr3 = np.split( arr , [1,3] , axis=1 )\n",
    "print( arr1 , '\\n\\n' , arr2 , '\\n\\n' , arr3 )"
   ]
  },
  {
   "cell_type": "code",
   "execution_count": 78,
   "id": "9fe79eb7",
   "metadata": {},
   "outputs": [
    {
     "name": "stdout",
     "output_type": "stream",
     "text": [
      "[[1 2 3 4]\n",
      " [5 6 7 8]]\n"
     ]
    }
   ],
   "source": [
    "# 创建矩阵\n",
    "arr = np.arange(1,9).reshape(2,4)\n",
    "print( arr )"
   ]
  },
  {
   "cell_type": "code",
   "execution_count": 79,
   "id": "52e2dcbd",
   "metadata": {},
   "outputs": [
    {
     "name": "stdout",
     "output_type": "stream",
     "text": [
      "[[11 12 13 14]\n",
      " [15 16 17 18]]\n"
     ]
    }
   ],
   "source": [
    "print( arr + 10 ) # 加法"
   ]
  },
  {
   "cell_type": "code",
   "execution_count": 80,
   "id": "39804bf8",
   "metadata": {},
   "outputs": [
    {
     "name": "stdout",
     "output_type": "stream",
     "text": [
      "[[-9 -8 -7 -6]\n",
      " [-5 -4 -3 -2]]\n"
     ]
    }
   ],
   "source": [
    " print( arr - 10 ) # 减法"
   ]
  },
  {
   "cell_type": "code",
   "execution_count": 81,
   "id": "89a179b7",
   "metadata": {},
   "outputs": [
    {
     "name": "stdout",
     "output_type": "stream",
     "text": [
      "[[10 20 30 40]\n",
      " [50 60 70 80]]\n"
     ]
    }
   ],
   "source": [
    "print( arr * 10 ) # 乘法"
   ]
  },
  {
   "cell_type": "code",
   "execution_count": 82,
   "id": "f0bfab31",
   "metadata": {},
   "outputs": [
    {
     "name": "stdout",
     "output_type": "stream",
     "text": [
      "[[0.1 0.2 0.3 0.4]\n",
      " [0.5 0.6 0.7 0.8]]\n"
     ]
    }
   ],
   "source": [
    "print( arr / 10 ) # 除法"
   ]
  },
  {
   "cell_type": "code",
   "execution_count": 83,
   "id": "fb158013",
   "metadata": {},
   "outputs": [
    {
     "name": "stdout",
     "output_type": "stream",
     "text": [
      "[[ 1  4  9 16]\n",
      " [25 36 49 64]]\n"
     ]
    }
   ],
   "source": [
    "print( arr ** 2) # 平方"
   ]
  },
  {
   "cell_type": "code",
   "execution_count": 84,
   "id": "322a3bf3",
   "metadata": {},
   "outputs": [
    {
     "name": "stdout",
     "output_type": "stream",
     "text": [
      "[[0 0 0 0]\n",
      " [0 1 1 1]]\n"
     ]
    }
   ],
   "source": [
    "print( arr // 6) # 取整"
   ]
  },
  {
   "cell_type": "code",
   "execution_count": 85,
   "id": "1b61ba45",
   "metadata": {},
   "outputs": [
    {
     "name": "stdout",
     "output_type": "stream",
     "text": [
      "[[1 2 3 4]\n",
      " [5 0 1 2]]\n"
     ]
    }
   ],
   "source": [
    "print( arr % 6) # 取余"
   ]
  },
  {
   "cell_type": "code",
   "execution_count": 86,
   "id": "e558387d",
   "metadata": {},
   "outputs": [
    {
     "name": "stdout",
     "output_type": "stream",
     "text": [
      "[[-1 -2 -3 -4]\n",
      " [-5 -6 -7 -8]]\n",
      "[[1 2 3 4]\n",
      " [5 6 7 8]]\n"
     ]
    }
   ],
   "source": [
    " # 创建矩阵\n",
    "arr1 = np.arange(-1,-9,-1).reshape(2,4)\n",
    "arr2 = -arr1\n",
    "print( arr1 )\n",
    "print( arr2 )"
   ]
  },
  {
   "cell_type": "code",
   "execution_count": 87,
   "id": "f820c209",
   "metadata": {},
   "outputs": [
    {
     "name": "stdout",
     "output_type": "stream",
     "text": [
      "[[0 0 0 0]\n",
      " [0 0 0 0]]\n"
     ]
    }
   ],
   "source": [
    "print( arr1 + arr2 ) # 加法"
   ]
  },
  {
   "cell_type": "code",
   "execution_count": 88,
   "id": "de6abac1",
   "metadata": {},
   "outputs": [
    {
     "name": "stdout",
     "output_type": "stream",
     "text": [
      "[[ -2  -4  -6  -8]\n",
      " [-10 -12 -14 -16]]\n"
     ]
    }
   ],
   "source": [
    "print( arr1 - arr2 ) # 减法"
   ]
  },
  {
   "cell_type": "code",
   "execution_count": 89,
   "id": "ba568d97",
   "metadata": {},
   "outputs": [
    {
     "name": "stdout",
     "output_type": "stream",
     "text": [
      "[[ -1  -4  -9 -16]\n",
      " [-25 -36 -49 -64]]\n"
     ]
    }
   ],
   "source": [
    "print( arr1 * arr2 ) # 乘法"
   ]
  },
  {
   "cell_type": "code",
   "execution_count": 90,
   "id": "02f1baea",
   "metadata": {},
   "outputs": [
    {
     "name": "stdout",
     "output_type": "stream",
     "text": [
      "[[-1. -1. -1. -1.]\n",
      " [-1. -1. -1. -1.]]\n"
     ]
    }
   ],
   "source": [
    "print( arr1 / arr2 ) # 除法"
   ]
  },
  {
   "cell_type": "code",
   "execution_count": 91,
   "id": "746ff2a9",
   "metadata": {},
   "outputs": [
    {
     "name": "stdout",
     "output_type": "stream",
     "text": [
      "[[      -1        4      -27      256]\n",
      " [   -3125    46656  -823543 16777216]]\n"
     ]
    }
   ],
   "source": [
    "print( arr1 ** arr2) # 幂方"
   ]
  },
  {
   "cell_type": "code",
   "execution_count": 92,
   "id": "f6b2cc43",
   "metadata": {},
   "outputs": [
    {
     "name": "stdout",
     "output_type": "stream",
     "text": [
      "[-100    0  100]\n",
      "[[0.67271998 0.18215338 0.82579671]\n",
      " [0.12142238 0.78899307 0.06819022]\n",
      " [0.12791703 0.4161829  0.06204379]\n",
      " [0.22754436 0.22125902 0.52198402]\n",
      " [0.08035786 0.99496918 0.35138574]\n",
      " [0.20391139 0.45874981 0.79668628]\n",
      " [0.5165557  0.57441256 0.82127507]\n",
      " [0.40216731 0.3374826  0.10415014]\n",
      " [0.94341284 0.04785006 0.17262409]\n",
      " [0.34332042 0.17543338 0.05044508]]\n",
      "[[-67.271998     0.          82.57967112]\n",
      " [-12.1422375    0.           6.81902158]\n",
      " [-12.79170307   0.           6.20437859]\n",
      " [-22.75443557   0.          52.19840225]\n",
      " [ -8.03578589   0.          35.13857383]\n",
      " [-20.39113853   0.          79.66862848]\n",
      " [-51.65556996   0.          82.12750719]\n",
      " [-40.21673068   0.          10.41501422]\n",
      " [-94.34128358   0.          17.26240927]\n",
      " [-34.33204236   0.           5.04450841]]\n"
     ]
    }
   ],
   "source": [
    "# 向量\n",
    "arr1 = np.array([-100,0,100])\n",
    "print(arr1)\n",
    " # 矩阵\n",
    "arr2 = np.random.random( (10,3) )\n",
    "print(arr2)\n",
    "# 广播\n",
    "print(arr1*arr2)"
   ]
  },
  {
   "cell_type": "code",
   "execution_count": 93,
   "id": "616a153f",
   "metadata": {},
   "outputs": [
    {
     "name": "stdout",
     "output_type": "stream",
     "text": [
      "[[0]\n",
      " [1]\n",
      " [2]]\n",
      "[[1. 1. 1. 1. 1.]\n",
      " [1. 1. 1. 1. 1.]\n",
      " [1. 1. 1. 1. 1.]]\n",
      "[[0. 0. 0. 0. 0.]\n",
      " [1. 1. 1. 1. 1.]\n",
      " [2. 2. 2. 2. 2.]]\n"
     ]
    }
   ],
   "source": [
    "# 列矩阵\n",
    "arr1 = np.arange(3).reshape(3,1)\n",
    "print(arr1)\n",
    "# 矩阵\n",
    "arr2 = np.ones( (3,5) )\n",
    "print(arr2)\n",
    "# 广播\n",
    "print(arr1*arr2)"
   ]
  },
  {
   "cell_type": "code",
   "execution_count": 94,
   "id": "b7b0355e",
   "metadata": {},
   "outputs": [
    {
     "name": "stdout",
     "output_type": "stream",
     "text": [
      "[0 1 2]\n",
      "[[0]\n",
      " [1]\n",
      " [2]]\n",
      "[[0 0 0]\n",
      " [0 1 2]\n",
      " [0 2 4]]\n"
     ]
    }
   ],
   "source": [
    "# 向量\n",
    "arr1 = np.arange(3)\n",
    "print(arr1)\n",
    "# 列矩阵\n",
    "arr2 = np.arange(3).reshape(3,1)\n",
    "print(arr2)\n",
    " # 广播\n",
    "print(arr1*arr2)"
   ]
  },
  {
   "cell_type": "code",
   "execution_count": 95,
   "id": "c22ea76f",
   "metadata": {},
   "outputs": [
    {
     "name": "stdout",
     "output_type": "stream",
     "text": [
      "[0 1 2 3 4]\n",
      "[0 1 2 3 4]\n",
      "30\n"
     ]
    }
   ],
   "source": [
    "# 创建向量\n",
    "arr1 = np.arange(5)\n",
    "arr2 = np.arange(5)\n",
    "print(arr1)\n",
    "print(arr2)\n",
    " # 矩阵乘积\n",
    "print( np.dot(arr1,arr2) )"
   ]
  },
  {
   "cell_type": "code",
   "execution_count": 96,
   "id": "0980fe5b",
   "metadata": {},
   "outputs": [
    {
     "name": "stdout",
     "output_type": "stream",
     "text": [
      "[0 1 2 3 4]\n",
      "[[ 0  1  2]\n",
      " [ 3  4  5]\n",
      " [ 6  7  8]\n",
      " [ 9 10 11]\n",
      " [12 13 14]]\n",
      "[ 90 100 110]\n"
     ]
    }
   ],
   "source": [
    " # 创建数组\n",
    "arr1 = np.arange(5)\n",
    "arr2 = np.arange(15).reshape(5,3)\n",
    "print(arr1)\n",
    "print(arr2)\n",
    " # 矩阵乘积\n",
    "print( np.dot(arr1,arr2) )\n"
   ]
  },
  {
   "cell_type": "code",
   "execution_count": 97,
   "id": "9006d811",
   "metadata": {},
   "outputs": [
    {
     "name": "stdout",
     "output_type": "stream",
     "text": [
      "[[ 0  1  2  3  4]\n",
      " [ 5  6  7  8  9]\n",
      " [10 11 12 13 14]]\n",
      "[0 1 2 3 4]\n",
      "[ 30  80 130]\n"
     ]
    }
   ],
   "source": [
    "# 创建数组\n",
    "arr1 = np.arange(15).reshape(3,5)\n",
    "arr2 = np.arange(5)\n",
    "print(arr1)\n",
    "print(arr2)\n",
    " # 矩阵乘积\n",
    "print( np.dot(arr1,arr2) )"
   ]
  },
  {
   "cell_type": "code",
   "execution_count": 98,
   "id": "de29036a",
   "metadata": {},
   "outputs": [
    {
     "name": "stdout",
     "output_type": "stream",
     "text": [
      "[[0 1]\n",
      " [2 3]\n",
      " [4 5]\n",
      " [6 7]\n",
      " [8 9]]\n",
      "[[ 0  1  2  3  4  5  6  7]\n",
      " [ 8  9 10 11 12 13 14 15]]\n",
      "[[  8   9  10  11  12  13  14  15]\n",
      " [ 24  29  34  39  44  49  54  59]\n",
      " [ 40  49  58  67  76  85  94 103]\n",
      " [ 56  69  82  95 108 121 134 147]\n",
      " [ 72  89 106 123 140 157 174 191]]\n"
     ]
    }
   ],
   "source": [
    " # 创建数组 1\n",
    "arr1 = np.arange(10).reshape(5,2)\n",
    "print(arr1)\n",
    " # 创建数组 2\n",
    "arr2 = np.arange(16).reshape(2,8)\n",
    "print(arr2)\n",
    " # 矩阵乘积\n",
    "print( np.dot(arr1,arr2) )"
   ]
  },
  {
   "cell_type": "code",
   "execution_count": 99,
   "id": "78752ce3",
   "metadata": {},
   "outputs": [
    {
     "name": "stdout",
     "output_type": "stream",
     "text": [
      "原数组是： [-10   0  10]\n",
      "绝对值是： [10  0 10]\n"
     ]
    }
   ],
   "source": [
    " # 绝对值函数\n",
    "arr_v = np.array( [-10, 0, 10] )\n",
    "abs_v = np.abs(arr_v)\n",
    "print( '原数组是：' , arr_v )\n",
    "print( '绝对值是：' , abs_v )"
   ]
  },
  {
   "cell_type": "code",
   "execution_count": 100,
   "id": "656b52f2",
   "metadata": {},
   "outputs": [
    {
     "name": "stdout",
     "output_type": "stream",
     "text": [
      "原数组是： [0.         1.57079633 3.14159265]\n",
      "正弦值是： [0.0000000e+00 1.0000000e+00 1.2246468e-16]\n",
      "余弦值是： [ 1.000000e+00  6.123234e-17 -1.000000e+00]\n",
      "正切值是： [ 0.00000000e+00  1.63312394e+16 -1.22464680e-16]\n"
     ]
    }
   ],
   "source": [
    " # 三角函数\n",
    "theta = np.arange(3) * np.pi / 2\n",
    "sin_v = np.sin(theta)\n",
    "cos_v = np.cos(theta)\n",
    "tan_v = np.tan(theta)\n",
    "print( '原数组是：' , theta )\n",
    "print( '正弦值是：' , sin_v )\n",
    "print( '余弦值是：' , cos_v )\n",
    "print( '正切值是：' , tan_v )"
   ]
  },
  {
   "cell_type": "code",
   "execution_count": 101,
   "id": "a72179ec",
   "metadata": {},
   "outputs": [
    {
     "name": "stdout",
     "output_type": "stream",
     "text": [
      "x = [1 2 3]\n",
      "e^x = [ 2.71828183  7.3890561  20.08553692]\n",
      "2^x = [2 4 8]\n",
      "10^x =  [  10  100 1000]\n"
     ]
    }
   ],
   "source": [
    " # 指数函数\n",
    "x = np.arange(1,4)\n",
    "print( 'x =' , x )\n",
    "print( 'e^x =' , np.exp(x) )\n",
    "print( '2^x =' , 2**x )\n",
    "print( '10^x = ' , 10**x )"
   ]
  },
  {
   "cell_type": "code",
   "execution_count": 102,
   "id": "4c77e636",
   "metadata": {},
   "outputs": [
    {
     "name": "stdout",
     "output_type": "stream",
     "text": [
      "x = [   1   10  100 1000]\n",
      "ln(x) = [0.         2.30258509 4.60517019 6.90775528]\n",
      "log2(x) = [0.         3.32192809 6.64385619 9.96578428]\n",
      "log10(x) = [0. 1. 2. 3.]\n"
     ]
    }
   ],
   "source": [
    "# 对数函数\n",
    "x = np.array( [1,10,100,1000] )\n",
    "print( 'x =' , x )\n",
    "print( 'ln(x) =' , np.log(x) )\n",
    "print( 'log2(x) =' , np.log(x) / np.log(2) )\n",
    "print( 'log10(x) =' , np.log(x) / np.log(10) )"
   ]
  },
  {
   "cell_type": "code",
   "execution_count": 103,
   "id": "8a1fbfb4",
   "metadata": {},
   "outputs": [
    {
     "name": "stdout",
     "output_type": "stream",
     "text": [
      "[[0.5000897  0.89956061 0.273812  ]\n",
      " [0.95217016 0.23106834 0.82784374]]\n",
      "按维度一求最大值： [0.95217016 0.89956061 0.82784374]\n",
      "按维度二求最大值： [0.89956061 0.95217016]\n",
      "整体求最大值： 0.9521701564399846\n"
     ]
    }
   ],
   "source": [
    " # 最大值函数 np.max( )与最小值函数 np.min( )\n",
    "arr = np.random.random((2,3))\n",
    "print( arr )\n",
    "print( '按维度一求最大值：' , np.max(arr,axis=0) )\n",
    "print( '按维度二求最大值：' , np.max(arr,axis=1) )\n",
    "print( '整体求最大值：' , np.max(arr) )"
   ]
  },
  {
   "cell_type": "code",
   "execution_count": 104,
   "id": "d246fa90",
   "metadata": {},
   "outputs": [
    {
     "name": "stdout",
     "output_type": "stream",
     "text": [
      "[[0 1 2 3 4]\n",
      " [5 6 7 8 9]]\n",
      "按维度一求和： [ 5  7  9 11 13]\n",
      "按维度二求和： [10 35]\n",
      "整体求和： 45\n"
     ]
    }
   ],
   "source": [
    " # 求和函数 np.sum( )与求积函数 np.prod( )\n",
    "arr = np.arange(10).reshape(2,5)\n",
    "print( arr )\n",
    "print( '按维度一求和：' , np.sum(arr,axis=0) )\n",
    "print( '按维度二求和：' , np.sum(arr,axis=1) )\n",
    "print( '整体求和：' , np.sum(arr) )"
   ]
  },
  {
   "cell_type": "code",
   "execution_count": 105,
   "id": "8bcbc371",
   "metadata": {},
   "outputs": [
    {
     "name": "stdout",
     "output_type": "stream",
     "text": [
      "[[0 1 2 3 4]\n",
      " [5 6 7 8 9]]\n",
      "按维度一求平均： [2.5 3.5 4.5 5.5 6.5]\n",
      "按维度二求平均： [2. 7.]\n",
      "整体求平均： 4.5\n"
     ]
    }
   ],
   "source": [
    "# 均值函数 np.mean( )与标准差函数 np.std( )\n",
    "arr = np.arange(10).reshape(2,5)\n",
    "print( arr )\n",
    "print( '按维度一求平均：' , np.mean(arr,axis=0) )\n",
    "print( '按维度二求平均：' , np.mean(arr,axis=1) )\n",
    "print( '整体求平均：' , np.mean(arr) )"
   ]
  },
  {
   "cell_type": "code",
   "execution_count": 106,
   "id": "e226055c",
   "metadata": {},
   "outputs": [
    {
     "name": "stdout",
     "output_type": "stream",
     "text": [
      "[[1 2 3]\n",
      " [4 5 6]]\n",
      "[[False False False]\n",
      " [ True  True  True]]\n"
     ]
    }
   ],
   "source": [
    "# 创建数组\n",
    "arr = np.arange(1,7).reshape(2,3)\n",
    "print(arr)\n",
    "# 数组与数字作比较\n",
    "print( arr >= 4 )"
   ]
  },
  {
   "cell_type": "code",
   "execution_count": 107,
   "id": "a76e11cd",
   "metadata": {},
   "outputs": [
    {
     "name": "stdout",
     "output_type": "stream",
     "text": [
      "[1 2 3 4 5]\n",
      "[5 4 3 2 1]\n",
      "[False False False  True  True]\n"
     ]
    }
   ],
   "source": [
    "# 创建同维数组\n",
    "arr1 = np.arange(1,6)\n",
    "arr2 = np.flipud(arr1)\n",
    "print(arr1)\n",
    "print(arr2)\n",
    " # 同维度数组作比较\n",
    "print( arr1 > arr2)"
   ]
  },
  {
   "cell_type": "code",
   "execution_count": 108,
   "id": "35084ee6",
   "metadata": {},
   "outputs": [
    {
     "name": "stdout",
     "output_type": "stream",
     "text": [
      "[1 2 3 4 5 6 7 8 9]\n",
      "[ True  True  True False False False  True  True  True]\n"
     ]
    }
   ],
   "source": [
    "# 创建数组\n",
    "arr = np.arange(1,10)\n",
    "print(arr)\n",
    "# 多个条件\n",
    "print( (arr < 4) | (arr > 6) )"
   ]
  },
  {
   "cell_type": "code",
   "execution_count": 109,
   "id": "54d76c97",
   "metadata": {},
   "outputs": [
    {
     "name": "stdout",
     "output_type": "stream",
     "text": [
      "6895\n"
     ]
    }
   ],
   "source": [
    "# 创建一个形状为 10000 的标准正态分布数组\n",
    "arr = np.random.normal( 0,1,10000 )\n",
    "# 统计该分布中绝对值小于 1 的元素个数\n",
    "num = np.sum( np.abs(arr) < 1 ) \n",
    "print( num )"
   ]
  },
  {
   "cell_type": "code",
   "execution_count": 110,
   "id": "dcd37854",
   "metadata": {},
   "outputs": [
    {
     "name": "stdout",
     "output_type": "stream",
     "text": [
      "[1 2 3 4 5 6 7 8 9]\n",
      "[9 8 7 6 5 4 3 2 1]\n",
      "True\n"
     ]
    }
   ],
   "source": [
    "# 创建同维数组\n",
    "arr1 = np.arange(1,10)\n",
    "arr2 = np.flipud(arr1)\n",
    "print(arr1)\n",
    "print(arr2)\n",
    "# 统计这两个数组里是否有共同元素\n",
    "print( np.any( arr1 == arr2 ) )"
   ]
  },
  {
   "cell_type": "code",
   "execution_count": 111,
   "id": "cdc97bb2",
   "metadata": {},
   "outputs": [
    {
     "name": "stdout",
     "output_type": "stream",
     "text": [
      "False\n"
     ]
    }
   ],
   "source": [
    " # 模拟英语六级的成绩，创建 100000 个样本\n",
    "arr = np.random.normal( 500,70,100000 )\n",
    " # 判断是否所有考生的分数都高于 250\n",
    "print( np.all( arr > 250 ) )"
   ]
  },
  {
   "cell_type": "code",
   "execution_count": 112,
   "id": "6d6669a7",
   "metadata": {},
   "outputs": [
    {
     "name": "stdout",
     "output_type": "stream",
     "text": [
      "[[ 1  2  3  4]\n",
      " [ 5  6  7  8]\n",
      " [ 9 10 11 12]]\n"
     ]
    }
   ],
   "source": [
    "# 创建数组\n",
    "arr = np.arange(1,13).reshape(3,4)\n",
    "print(arr)"
   ]
  },
  {
   "cell_type": "code",
   "execution_count": 113,
   "id": "e1b2b6a5",
   "metadata": {},
   "outputs": [
    {
     "name": "stdout",
     "output_type": "stream",
     "text": [
      "[[False False False False]\n",
      " [ True  True  True  True]\n",
      " [ True  True  True  True]]\n"
     ]
    }
   ],
   "source": [
    "# 数组与数字作比较\n",
    "print( arr > 4 )"
   ]
  },
  {
   "cell_type": "code",
   "execution_count": 114,
   "id": "c3286715",
   "metadata": {},
   "outputs": [
    {
     "name": "stdout",
     "output_type": "stream",
     "text": [
      "[ 5  6  7  8  9 10 11 12]\n"
     ]
    }
   ],
   "source": [
    "# 筛选出 arr > 4 的元素\n",
    "print( arr[ arr > 4 ] )"
   ]
  },
  {
   "cell_type": "code",
   "execution_count": 115,
   "id": "b262f9ad",
   "metadata": {},
   "outputs": [
    {
     "name": "stdout",
     "output_type": "stream",
     "text": [
      "[1 2 3 4 5 6 7 8 9]\n",
      "[9 8 7 6 5 4 3 2 1]\n",
      "[False False False False False  True  True  True  True]\n",
      "[6 7 8 9]\n",
      "[4 3 2 1]\n"
     ]
    }
   ],
   "source": [
    " # 创建同维数组\n",
    "arr1 = np.arange(1,10)\n",
    "arr2 = np.flipud(arr1)\n",
    "print(arr1)\n",
    "print(arr2)\n",
    "# 同维度数组作比较\n",
    "print( arr1 > arr2)\n",
    "# 筛选出 arr1 > arr2 位置上的元素\n",
    "print( arr1[ arr1 > arr2 ] )\n",
    "print( arr2[ arr1 > arr2 ] )"
   ]
  },
  {
   "cell_type": "code",
   "execution_count": 116,
   "id": "d982f389",
   "metadata": {},
   "outputs": [
    {
     "name": "stdout",
     "output_type": "stream",
     "text": [
      "(array([131, 176, 282, 470, 481, 493, 531, 638, 859, 874, 881, 925, 982],\n",
      "      dtype=int64),)\n",
      "(array([493], dtype=int64),)\n"
     ]
    }
   ],
   "source": [
    "# 模拟英语六级成绩的随机数组，取 10000 个样本\n",
    "arr = np.random.normal( 500,70,1000 )\n",
    "# 找出六级成绩超过 650 的元素所在位置\n",
    "print( np.where( arr > 650 ) )\n",
    "# 找出六级成绩最高分的元素所在位置\n",
    "print( np.where( arr == np.max(arr) ) )"
   ]
  },
  {
   "cell_type": "code",
   "execution_count": null,
   "id": "6a850cdf",
   "metadata": {},
   "outputs": [],
   "source": []
  }
 ],
 "metadata": {
  "kernelspec": {
   "display_name": "DL",
   "language": "python",
   "name": "dl"
  },
  "language_info": {
   "codemirror_mode": {
    "name": "ipython",
    "version": 3
   },
   "file_extension": ".py",
   "mimetype": "text/x-python",
   "name": "python",
   "nbconvert_exporter": "python",
   "pygments_lexer": "ipython3",
   "version": "3.11.4"
  }
 },
 "nbformat": 4,
 "nbformat_minor": 5
}
