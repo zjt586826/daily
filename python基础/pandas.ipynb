{
 "cells": [
  {
   "cell_type": "code",
   "execution_count": 1,
   "id": "36fcd98f",
   "metadata": {},
   "outputs": [],
   "source": [
    "import pandas as pd"
   ]
  },
  {
   "cell_type": "code",
   "execution_count": 2,
   "id": "979ce3e1",
   "metadata": {},
   "outputs": [],
   "source": [
    "#创建字典\n",
    "dict_v={'a':0,'b':0.25,'c':0.5,'d':0.75,'e':1}"
   ]
  },
  {
   "cell_type": "code",
   "execution_count": 3,
   "id": "70dd00e7",
   "metadata": {},
   "outputs": [
    {
     "data": {
      "text/plain": [
       "a    0.00\n",
       "b    0.25\n",
       "c    0.50\n",
       "d    0.75\n",
       "e    1.00\n",
       "dtype: float64"
      ]
     },
     "execution_count": 3,
     "metadata": {},
     "output_type": "execute_result"
    }
   ],
   "source": [
    "#用字典创建对象\n",
    "sr=pd.Series(dict_v)\n",
    "sr"
   ]
  },
  {
   "cell_type": "code",
   "execution_count": 4,
   "id": "61395ec6",
   "metadata": {},
   "outputs": [],
   "source": [
    "#先定义键与值\n",
    "v=[0,0.25,0.5,0.75,1]\n",
    "k=['a','b','c','d','e']"
   ]
  },
  {
   "cell_type": "code",
   "execution_count": 5,
   "id": "ae8fe114",
   "metadata": {},
   "outputs": [
    {
     "data": {
      "text/plain": [
       "a    0.00\n",
       "b    0.25\n",
       "c    0.50\n",
       "d    0.75\n",
       "e    1.00\n",
       "dtype: float64"
      ]
     },
     "execution_count": 5,
     "metadata": {},
     "output_type": "execute_result"
    }
   ],
   "source": [
    "#用列表创建对象\n",
    "sr=pd.Series(v,index=k)\n",
    "sr"
   ]
  },
  {
   "cell_type": "code",
   "execution_count": 6,
   "id": "2ca0a756",
   "metadata": {},
   "outputs": [],
   "source": [
    "import numpy as np\n",
    "import pandas as pd"
   ]
  },
  {
   "cell_type": "code",
   "execution_count": 7,
   "id": "4895ec81",
   "metadata": {},
   "outputs": [
    {
     "data": {
      "text/plain": [
       "1 号    53\n",
       "2 号    64\n",
       "3 号    72\n",
       "4 号    82\n",
       "dtype: int32"
      ]
     },
     "execution_count": 7,
     "metadata": {},
     "output_type": "execute_result"
    }
   ],
   "source": [
    "# 用数组创建 sr\n",
    "v = np.array( [ 53, 64, 72, 82 ] )\n",
    "k = ['1 号', '2 号', '3 号', '4 号']\n",
    "sr = pd.Series( v, index=k )\n",
    "sr"
   ]
  },
  {
   "cell_type": "code",
   "execution_count": 8,
   "id": "95b48901",
   "metadata": {},
   "outputs": [
    {
     "data": {
      "text/plain": [
       "array([53, 64, 72, 82])"
      ]
     },
     "execution_count": 8,
     "metadata": {},
     "output_type": "execute_result"
    }
   ],
   "source": [
    "# 查看 values 属性\n",
    "sr.values"
   ]
  },
  {
   "cell_type": "code",
   "execution_count": 9,
   "id": "1d5d526b",
   "metadata": {},
   "outputs": [
    {
     "data": {
      "text/plain": [
       "Index(['1 号', '2 号', '3 号', '4 号'], dtype='object')"
      ]
     },
     "execution_count": 9,
     "metadata": {},
     "output_type": "execute_result"
    }
   ],
   "source": [
    "# 查看 index 属性\n",
    "sr.index"
   ]
  },
  {
   "cell_type": "code",
   "execution_count": 10,
   "id": "bff19975",
   "metadata": {},
   "outputs": [],
   "source": [
    "import pandas as pd\n",
    "import torch"
   ]
  },
  {
   "cell_type": "code",
   "execution_count": 11,
   "id": "a0b639d2",
   "metadata": {},
   "outputs": [
    {
     "data": {
      "text/plain": [
       "1号    53\n",
       "2号    64\n",
       "3号    72\n",
       "4号    82\n",
       "dtype: int64"
      ]
     },
     "execution_count": 11,
     "metadata": {},
     "output_type": "execute_result"
    }
   ],
   "source": [
    "#用张量创建sr\n",
    "v=torch.tensor([53,64,72,82])\n",
    "k=['1号','2号','3号','4号']\n",
    "sr=pd.Series(v,index=k)\n",
    "sr"
   ]
  },
  {
   "cell_type": "code",
   "execution_count": 12,
   "id": "2765f3df",
   "metadata": {},
   "outputs": [
    {
     "data": {
      "text/plain": [
       "array([53, 64, 72, 82], dtype=int64)"
      ]
     },
     "execution_count": 12,
     "metadata": {},
     "output_type": "execute_result"
    }
   ],
   "source": [
    "#查看values的属性\n",
    "sr.values"
   ]
  },
  {
   "cell_type": "code",
   "execution_count": 13,
   "id": "e085b0b9",
   "metadata": {},
   "outputs": [
    {
     "data": {
      "text/plain": [
       "1号    53\n",
       "2号    64\n",
       "3号    72\n",
       "4号    82\n",
       "dtype: int64"
      ]
     },
     "execution_count": 13,
     "metadata": {},
     "output_type": "execute_result"
    }
   ],
   "source": [
    "#创建sr1,各个病人的年龄\n",
    "v1=[53,64,72,82]\n",
    "i=['1号','2号','3号','4号']\n",
    "sr1=pd.Series(v1,index=i)\n",
    "sr1"
   ]
  },
  {
   "cell_type": "code",
   "execution_count": 14,
   "id": "f2e1464f",
   "metadata": {},
   "outputs": [
    {
     "data": {
      "text/plain": [
       "1号    女\n",
       "2号    男\n",
       "3号    男\n",
       "4号    女\n",
       "dtype: object"
      ]
     },
     "execution_count": 14,
     "metadata": {},
     "output_type": "execute_result"
    }
   ],
   "source": [
    "#创建sr2，各个病人的性别\n",
    "v2=['女','男','男','女']\n",
    "i=['1号','2号','3号','4号']\n",
    "sr2=pd.Series(v2,index=i)\n",
    "sr2"
   ]
  },
  {
   "cell_type": "code",
   "execution_count": 15,
   "id": "5a2687f7",
   "metadata": {},
   "outputs": [
    {
     "data": {
      "text/html": [
       "<div>\n",
       "<style scoped>\n",
       "    .dataframe tbody tr th:only-of-type {\n",
       "        vertical-align: middle;\n",
       "    }\n",
       "\n",
       "    .dataframe tbody tr th {\n",
       "        vertical-align: top;\n",
       "    }\n",
       "\n",
       "    .dataframe thead th {\n",
       "        text-align: right;\n",
       "    }\n",
       "</style>\n",
       "<table border=\"1\" class=\"dataframe\">\n",
       "  <thead>\n",
       "    <tr style=\"text-align: right;\">\n",
       "      <th></th>\n",
       "      <th>年龄</th>\n",
       "      <th>性别</th>\n",
       "    </tr>\n",
       "  </thead>\n",
       "  <tbody>\n",
       "    <tr>\n",
       "      <th>1号</th>\n",
       "      <td>53</td>\n",
       "      <td>女</td>\n",
       "    </tr>\n",
       "    <tr>\n",
       "      <th>2号</th>\n",
       "      <td>64</td>\n",
       "      <td>男</td>\n",
       "    </tr>\n",
       "    <tr>\n",
       "      <th>3号</th>\n",
       "      <td>72</td>\n",
       "      <td>男</td>\n",
       "    </tr>\n",
       "    <tr>\n",
       "      <th>4号</th>\n",
       "      <td>82</td>\n",
       "      <td>女</td>\n",
       "    </tr>\n",
       "  </tbody>\n",
       "</table>\n",
       "</div>"
      ],
      "text/plain": [
       "    年龄 性别\n",
       "1号  53  女\n",
       "2号  64  男\n",
       "3号  72  男\n",
       "4号  82  女"
      ]
     },
     "execution_count": 15,
     "metadata": {},
     "output_type": "execute_result"
    }
   ],
   "source": [
    "#创建df对象\n",
    "df=pd.DataFrame({'年龄':sr1,'性别':sr2})\n",
    "df"
   ]
  },
  {
   "cell_type": "code",
   "execution_count": 16,
   "id": "b538f874",
   "metadata": {},
   "outputs": [
    {
     "data": {
      "text/html": [
       "<div>\n",
       "<style scoped>\n",
       "    .dataframe tbody tr th:only-of-type {\n",
       "        vertical-align: middle;\n",
       "    }\n",
       "\n",
       "    .dataframe tbody tr th {\n",
       "        vertical-align: top;\n",
       "    }\n",
       "\n",
       "    .dataframe thead th {\n",
       "        text-align: right;\n",
       "    }\n",
       "</style>\n",
       "<table border=\"1\" class=\"dataframe\">\n",
       "  <thead>\n",
       "    <tr style=\"text-align: right;\">\n",
       "      <th></th>\n",
       "      <th>年龄</th>\n",
       "      <th>性别</th>\n",
       "    </tr>\n",
       "  </thead>\n",
       "  <tbody>\n",
       "    <tr>\n",
       "      <th>1号</th>\n",
       "      <td>53</td>\n",
       "      <td>女</td>\n",
       "    </tr>\n",
       "    <tr>\n",
       "      <th>2号</th>\n",
       "      <td>64</td>\n",
       "      <td>男</td>\n",
       "    </tr>\n",
       "    <tr>\n",
       "      <th>3号</th>\n",
       "      <td>72</td>\n",
       "      <td>男</td>\n",
       "    </tr>\n",
       "    <tr>\n",
       "      <th>4号</th>\n",
       "      <td>82</td>\n",
       "      <td>女</td>\n",
       "    </tr>\n",
       "  </tbody>\n",
       "</table>\n",
       "</div>"
      ],
      "text/plain": [
       "    年龄 性别\n",
       "1号  53  女\n",
       "2号  64  男\n",
       "3号  72  男\n",
       "4号  82  女"
      ]
     },
     "execution_count": 16,
     "metadata": {},
     "output_type": "execute_result"
    }
   ],
   "source": [
    "#设定键值\n",
    "v=np.array([[53,'女'],[64,'男'],[72,'男'],[82,'女']])\n",
    "i=['1号','2号','3号','4号']\n",
    "c=['年龄','性别']\n",
    "#数组创建法\n",
    "df=pd.DataFrame(v,index=i,columns=c)\n",
    "df"
   ]
  },
  {
   "cell_type": "code",
   "execution_count": 17,
   "id": "e0a73378",
   "metadata": {},
   "outputs": [
    {
     "data": {
      "text/plain": [
       "array([['53', '女'],\n",
       "       ['64', '男'],\n",
       "       ['72', '男'],\n",
       "       ['82', '女']], dtype=object)"
      ]
     },
     "execution_count": 17,
     "metadata": {},
     "output_type": "execute_result"
    }
   ],
   "source": [
    "#查看values属性\n",
    "df.values"
   ]
  },
  {
   "cell_type": "code",
   "execution_count": 18,
   "id": "46875d5d",
   "metadata": {},
   "outputs": [
    {
     "data": {
      "text/plain": [
       "Index(['1号', '2号', '3号', '4号'], dtype='object')"
      ]
     },
     "execution_count": 18,
     "metadata": {},
     "output_type": "execute_result"
    }
   ],
   "source": [
    "# 查看 index 属性\n",
    "df.index"
   ]
  },
  {
   "cell_type": "code",
   "execution_count": 19,
   "id": "f1255472",
   "metadata": {},
   "outputs": [
    {
     "data": {
      "text/plain": [
       "Index(['年龄', '性别'], dtype='object')"
      ]
     },
     "execution_count": 19,
     "metadata": {},
     "output_type": "execute_result"
    }
   ],
   "source": [
    " # 查看 columns 属性\n",
    "df.columns"
   ]
  },
  {
   "cell_type": "code",
   "execution_count": 20,
   "id": "eef9276c",
   "metadata": {},
   "outputs": [
    {
     "name": "stdout",
     "output_type": "stream",
     "text": [
      "[['53' '女']\n",
      " ['64' '男']\n",
      " ['72' '男']\n",
      " ['82' '女']]\n"
     ]
    }
   ],
   "source": [
    "# 提取完整的数组\n",
    "arr = df.values\n",
    "print(arr)"
   ]
  },
  {
   "cell_type": "code",
   "execution_count": 21,
   "id": "6acfb467",
   "metadata": {},
   "outputs": [
    {
     "name": "stdout",
     "output_type": "stream",
     "text": [
      "[53 64 72 82]\n"
     ]
    }
   ],
   "source": [
    "# 提取第[0]列，并转化为一个整数型数组\n",
    "arr = arr[:,0].astype(int)\n",
    "print(arr)"
   ]
  },
  {
   "cell_type": "code",
   "execution_count": 22,
   "id": "9662d716",
   "metadata": {},
   "outputs": [
    {
     "data": {
      "text/plain": [
       "1 号    53\n",
       "2 号    64\n",
       "3 号    72\n",
       "4 号    82\n",
       "dtype: int64"
      ]
     },
     "execution_count": 22,
     "metadata": {},
     "output_type": "execute_result"
    }
   ],
   "source": [
    "# 创建 sr\n",
    "v = [ 53, 64, 72, 82 ]\n",
    "k = ['1 号', '2 号', '3 号', '4 号']\n",
    "sr = pd.Series( v, index=k )\n",
    "sr"
   ]
  },
  {
   "cell_type": "code",
   "execution_count": 23,
   "id": "2bb4ad18",
   "metadata": {},
   "outputs": [
    {
     "data": {
      "text/plain": [
       "72"
      ]
     },
     "execution_count": 23,
     "metadata": {},
     "output_type": "execute_result"
    }
   ],
   "source": [
    "# 访问元素\n",
    "sr.loc[ '3 号' ]"
   ]
  },
  {
   "cell_type": "code",
   "execution_count": 24,
   "id": "a465cbb3",
   "metadata": {},
   "outputs": [
    {
     "data": {
      "text/plain": [
       "72"
      ]
     },
     "execution_count": 24,
     "metadata": {},
     "output_type": "execute_result"
    }
   ],
   "source": [
    "# 访问元素\n",
    "sr.iloc[ 2 ]"
   ]
  },
  {
   "cell_type": "code",
   "execution_count": 25,
   "id": "3c248534",
   "metadata": {},
   "outputs": [
    {
     "data": {
      "text/plain": [
       "1 号    53\n",
       "3 号    72\n",
       "dtype: int64"
      ]
     },
     "execution_count": 25,
     "metadata": {},
     "output_type": "execute_result"
    }
   ],
   "source": [
    "# 花式索引\n",
    "sr.loc[ [ '1 号', '3 号' ] ]"
   ]
  },
  {
   "cell_type": "code",
   "execution_count": 26,
   "id": "a074ebbc",
   "metadata": {},
   "outputs": [
    {
     "data": {
      "text/plain": [
       "1 号    53\n",
       "3 号    72\n",
       "dtype: int64"
      ]
     },
     "execution_count": 26,
     "metadata": {},
     "output_type": "execute_result"
    }
   ],
   "source": [
    "# 花式索引\n",
    "sr.iloc[ [ 0, 2 ] ]"
   ]
  },
  {
   "cell_type": "code",
   "execution_count": 27,
   "id": "b0fae2d0",
   "metadata": {},
   "outputs": [
    {
     "data": {
      "text/plain": [
       "1 号     53\n",
       "2 号     64\n",
       "3 号    100\n",
       "4 号     82\n",
       "dtype: int64"
      ]
     },
     "execution_count": 27,
     "metadata": {},
     "output_type": "execute_result"
    }
   ],
   "source": [
    " # 修改元素\n",
    "sr.loc[ '3 号' ] = 100\n",
    "sr"
   ]
  },
  {
   "cell_type": "code",
   "execution_count": 28,
   "id": "5cef2e26",
   "metadata": {},
   "outputs": [
    {
     "data": {
      "text/plain": [
       "1 号     53\n",
       "2 号     64\n",
       "3 号    100\n",
       "4 号     82\n",
       "dtype: int64"
      ]
     },
     "execution_count": 28,
     "metadata": {},
     "output_type": "execute_result"
    }
   ],
   "source": [
    "# 修改元素\n",
    "sr.iloc[ 2 ] = 100\n",
    "sr"
   ]
  },
  {
   "cell_type": "code",
   "execution_count": 29,
   "id": "53642c31",
   "metadata": {},
   "outputs": [
    {
     "data": {
      "text/plain": [
       "1 号    53\n",
       "2 号    64\n",
       "3 号    72\n",
       "4 号    82\n",
       "dtype: int64"
      ]
     },
     "execution_count": 29,
     "metadata": {},
     "output_type": "execute_result"
    }
   ],
   "source": [
    "# 创建 sr\n",
    "v = [ 53, 64, 72, 82 ]\n",
    "k = ['1 号', '2 号', '3 号', '4 号']\n",
    "sr = pd.Series( v, index=k )\n",
    "sr"
   ]
  },
  {
   "cell_type": "code",
   "execution_count": 30,
   "id": "ff8fb9d9",
   "metadata": {},
   "outputs": [
    {
     "data": {
      "text/plain": [
       "1 号    53\n",
       "2 号    64\n",
       "3 号    72\n",
       "dtype: int64"
      ]
     },
     "execution_count": 30,
     "metadata": {},
     "output_type": "execute_result"
    }
   ],
   "source": [
    " # 访问切片\n",
    "sr.loc[ '1 号':'3 号' ]"
   ]
  },
  {
   "cell_type": "code",
   "execution_count": 31,
   "id": "d75da013",
   "metadata": {},
   "outputs": [
    {
     "data": {
      "text/plain": [
       "1 号    53\n",
       "2 号    64\n",
       "3 号    72\n",
       "dtype: int64"
      ]
     },
     "execution_count": 31,
     "metadata": {},
     "output_type": "execute_result"
    }
   ],
   "source": [
    "# 访问切片\n",
    "sr.iloc[ 0:3 ]"
   ]
  },
  {
   "cell_type": "code",
   "execution_count": 32,
   "id": "91c9d838",
   "metadata": {},
   "outputs": [
    {
     "data": {
      "text/plain": [
       "1 号    100\n",
       "2 号     64\n",
       "3 号     72\n",
       "4 号     82\n",
       "dtype: int64"
      ]
     },
     "execution_count": 32,
     "metadata": {},
     "output_type": "execute_result"
    }
   ],
   "source": [
    "# 切片仅是视图\n",
    "cut = sr.loc[ '1 号':'3 号' ]\n",
    "cut.loc['1 号'] = 100\n",
    "sr"
   ]
  },
  {
   "cell_type": "code",
   "execution_count": 33,
   "id": "3605b683",
   "metadata": {},
   "outputs": [
    {
     "data": {
      "text/plain": [
       "1 号    100\n",
       "2 号     64\n",
       "3 号     72\n",
       "4 号     82\n",
       "dtype: int64"
      ]
     },
     "execution_count": 33,
     "metadata": {},
     "output_type": "execute_result"
    }
   ],
   "source": [
    "# 切片仅是视图\n",
    "cut = sr.iloc[ 0:3 ]\n",
    "cut.iloc[0] = 100\n",
    "sr"
   ]
  },
  {
   "cell_type": "code",
   "execution_count": 34,
   "id": "1cafeaea",
   "metadata": {},
   "outputs": [
    {
     "data": {
      "text/plain": [
       "1 号    100\n",
       "2 号     64\n",
       "3 号    200\n",
       "4 号     82\n",
       "dtype: int64"
      ]
     },
     "execution_count": 34,
     "metadata": {},
     "output_type": "execute_result"
    }
   ],
   "source": [
    "# 对象赋值仅是绑定\n",
    "cut = sr\n",
    "cut.loc['3 号'] = 200\n",
    "sr"
   ]
  },
  {
   "cell_type": "code",
   "execution_count": 35,
   "id": "cb1f90f1",
   "metadata": {},
   "outputs": [
    {
     "data": {
      "text/plain": [
       "1 号    100\n",
       "2 号     64\n",
       "3 号    200\n",
       "4 号     82\n",
       "dtype: int64"
      ]
     },
     "execution_count": 35,
     "metadata": {},
     "output_type": "execute_result"
    }
   ],
   "source": [
    " # 对象赋值仅是绑定\n",
    "cut = sr\n",
    "cut.iloc[2] = 200\n",
    "sr"
   ]
  },
  {
   "cell_type": "code",
   "execution_count": 36,
   "id": "7aaac58c",
   "metadata": {},
   "outputs": [
    {
     "data": {
      "text/html": [
       "<div>\n",
       "<style scoped>\n",
       "    .dataframe tbody tr th:only-of-type {\n",
       "        vertical-align: middle;\n",
       "    }\n",
       "\n",
       "    .dataframe tbody tr th {\n",
       "        vertical-align: top;\n",
       "    }\n",
       "\n",
       "    .dataframe thead th {\n",
       "        text-align: right;\n",
       "    }\n",
       "</style>\n",
       "<table border=\"1\" class=\"dataframe\">\n",
       "  <thead>\n",
       "    <tr style=\"text-align: right;\">\n",
       "      <th></th>\n",
       "      <th>年龄</th>\n",
       "      <th>性别</th>\n",
       "    </tr>\n",
       "  </thead>\n",
       "  <tbody>\n",
       "    <tr>\n",
       "      <th>1 号</th>\n",
       "      <td>53</td>\n",
       "      <td>女</td>\n",
       "    </tr>\n",
       "    <tr>\n",
       "      <th>2 号</th>\n",
       "      <td>64</td>\n",
       "      <td>男</td>\n",
       "    </tr>\n",
       "    <tr>\n",
       "      <th>3 号</th>\n",
       "      <td>72</td>\n",
       "      <td>男</td>\n",
       "    </tr>\n",
       "    <tr>\n",
       "      <th>4 号</th>\n",
       "      <td>82</td>\n",
       "      <td>女</td>\n",
       "    </tr>\n",
       "  </tbody>\n",
       "</table>\n",
       "</div>"
      ],
      "text/plain": [
       "     年龄 性别\n",
       "1 号  53  女\n",
       "2 号  64  男\n",
       "3 号  72  男\n",
       "4 号  82  女"
      ]
     },
     "execution_count": 36,
     "metadata": {},
     "output_type": "execute_result"
    }
   ],
   "source": [
    " # 字典创建法\n",
    "i = [ '1 号', '2 号', '3 号', '4 号' ]\n",
    "v1 = [ 53, 64, 72, 82 ]\n",
    "v2 = [ '女', '男', '男', '女' ]\n",
    "sr1 = pd.Series( v1, index=i )\n",
    "sr2 = pd.Series( v2, index=i )\n",
    "df = pd.DataFrame( { '年龄':sr1, '性别':sr2 } )\n",
    "df"
   ]
  },
  {
   "cell_type": "code",
   "execution_count": 37,
   "id": "974daed1",
   "metadata": {},
   "outputs": [
    {
     "data": {
      "text/plain": [
       "53"
      ]
     },
     "execution_count": 37,
     "metadata": {},
     "output_type": "execute_result"
    }
   ],
   "source": [
    " # 访问元素\n",
    "df.loc[ '1 号', '年龄' ]"
   ]
  },
  {
   "cell_type": "code",
   "execution_count": 38,
   "id": "7e0a5b77",
   "metadata": {},
   "outputs": [
    {
     "data": {
      "text/plain": [
       "53"
      ]
     },
     "execution_count": 38,
     "metadata": {},
     "output_type": "execute_result"
    }
   ],
   "source": [
    " # 访问元素\n",
    "df.iloc[ 0, 0 ]"
   ]
  },
  {
   "cell_type": "code",
   "execution_count": 39,
   "id": "0a76da2a",
   "metadata": {},
   "outputs": [
    {
     "data": {
      "text/html": [
       "<div>\n",
       "<style scoped>\n",
       "    .dataframe tbody tr th:only-of-type {\n",
       "        vertical-align: middle;\n",
       "    }\n",
       "\n",
       "    .dataframe tbody tr th {\n",
       "        vertical-align: top;\n",
       "    }\n",
       "\n",
       "    .dataframe thead th {\n",
       "        text-align: right;\n",
       "    }\n",
       "</style>\n",
       "<table border=\"1\" class=\"dataframe\">\n",
       "  <thead>\n",
       "    <tr style=\"text-align: right;\">\n",
       "      <th></th>\n",
       "      <th>性别</th>\n",
       "      <th>年龄</th>\n",
       "    </tr>\n",
       "  </thead>\n",
       "  <tbody>\n",
       "    <tr>\n",
       "      <th>1 号</th>\n",
       "      <td>女</td>\n",
       "      <td>53</td>\n",
       "    </tr>\n",
       "    <tr>\n",
       "      <th>3 号</th>\n",
       "      <td>男</td>\n",
       "      <td>72</td>\n",
       "    </tr>\n",
       "  </tbody>\n",
       "</table>\n",
       "</div>"
      ],
      "text/plain": [
       "    性别  年龄\n",
       "1 号  女  53\n",
       "3 号  男  72"
      ]
     },
     "execution_count": 39,
     "metadata": {},
     "output_type": "execute_result"
    }
   ],
   "source": [
    "# 花式索引\n",
    "df.loc[ ['1 号', '3 号'] , ['性别','年龄'] ]"
   ]
  },
  {
   "cell_type": "code",
   "execution_count": 40,
   "id": "77d3ab75",
   "metadata": {},
   "outputs": [
    {
     "data": {
      "text/html": [
       "<div>\n",
       "<style scoped>\n",
       "    .dataframe tbody tr th:only-of-type {\n",
       "        vertical-align: middle;\n",
       "    }\n",
       "\n",
       "    .dataframe tbody tr th {\n",
       "        vertical-align: top;\n",
       "    }\n",
       "\n",
       "    .dataframe thead th {\n",
       "        text-align: right;\n",
       "    }\n",
       "</style>\n",
       "<table border=\"1\" class=\"dataframe\">\n",
       "  <thead>\n",
       "    <tr style=\"text-align: right;\">\n",
       "      <th></th>\n",
       "      <th>性别</th>\n",
       "      <th>年龄</th>\n",
       "    </tr>\n",
       "  </thead>\n",
       "  <tbody>\n",
       "    <tr>\n",
       "      <th>1 号</th>\n",
       "      <td>女</td>\n",
       "      <td>53</td>\n",
       "    </tr>\n",
       "    <tr>\n",
       "      <th>3 号</th>\n",
       "      <td>男</td>\n",
       "      <td>72</td>\n",
       "    </tr>\n",
       "  </tbody>\n",
       "</table>\n",
       "</div>"
      ],
      "text/plain": [
       "    性别  年龄\n",
       "1 号  女  53\n",
       "3 号  男  72"
      ]
     },
     "execution_count": 40,
     "metadata": {},
     "output_type": "execute_result"
    }
   ],
   "source": [
    "# 花式索引\n",
    "df.iloc[ [0,2], [1,0] ]"
   ]
  },
  {
   "cell_type": "code",
   "execution_count": 41,
   "id": "58d78fee",
   "metadata": {},
   "outputs": [
    {
     "data": {
      "text/html": [
       "<div>\n",
       "<style scoped>\n",
       "    .dataframe tbody tr th:only-of-type {\n",
       "        vertical-align: middle;\n",
       "    }\n",
       "\n",
       "    .dataframe tbody tr th {\n",
       "        vertical-align: top;\n",
       "    }\n",
       "\n",
       "    .dataframe thead th {\n",
       "        text-align: right;\n",
       "    }\n",
       "</style>\n",
       "<table border=\"1\" class=\"dataframe\">\n",
       "  <thead>\n",
       "    <tr style=\"text-align: right;\">\n",
       "      <th></th>\n",
       "      <th>年龄</th>\n",
       "      <th>性别</th>\n",
       "    </tr>\n",
       "  </thead>\n",
       "  <tbody>\n",
       "    <tr>\n",
       "      <th>1 号</th>\n",
       "      <td>53</td>\n",
       "      <td>女</td>\n",
       "    </tr>\n",
       "    <tr>\n",
       "      <th>2 号</th>\n",
       "      <td>64</td>\n",
       "      <td>男</td>\n",
       "    </tr>\n",
       "    <tr>\n",
       "      <th>3 号</th>\n",
       "      <td>100</td>\n",
       "      <td>男</td>\n",
       "    </tr>\n",
       "    <tr>\n",
       "      <th>4 号</th>\n",
       "      <td>82</td>\n",
       "      <td>女</td>\n",
       "    </tr>\n",
       "  </tbody>\n",
       "</table>\n",
       "</div>"
      ],
      "text/plain": [
       "      年龄 性别\n",
       "1 号   53  女\n",
       "2 号   64  男\n",
       "3 号  100  男\n",
       "4 号   82  女"
      ]
     },
     "execution_count": 41,
     "metadata": {},
     "output_type": "execute_result"
    }
   ],
   "source": [
    " # 修改元素\n",
    "df.loc[ '3 号', '年龄' ] = 100\n",
    "df"
   ]
  },
  {
   "cell_type": "code",
   "execution_count": 42,
   "id": "45b238cc",
   "metadata": {},
   "outputs": [
    {
     "data": {
      "text/html": [
       "<div>\n",
       "<style scoped>\n",
       "    .dataframe tbody tr th:only-of-type {\n",
       "        vertical-align: middle;\n",
       "    }\n",
       "\n",
       "    .dataframe tbody tr th {\n",
       "        vertical-align: top;\n",
       "    }\n",
       "\n",
       "    .dataframe thead th {\n",
       "        text-align: right;\n",
       "    }\n",
       "</style>\n",
       "<table border=\"1\" class=\"dataframe\">\n",
       "  <thead>\n",
       "    <tr style=\"text-align: right;\">\n",
       "      <th></th>\n",
       "      <th>年龄</th>\n",
       "      <th>性别</th>\n",
       "    </tr>\n",
       "  </thead>\n",
       "  <tbody>\n",
       "    <tr>\n",
       "      <th>1 号</th>\n",
       "      <td>53</td>\n",
       "      <td>女</td>\n",
       "    </tr>\n",
       "    <tr>\n",
       "      <th>2 号</th>\n",
       "      <td>64</td>\n",
       "      <td>男</td>\n",
       "    </tr>\n",
       "    <tr>\n",
       "      <th>3 号</th>\n",
       "      <td>100</td>\n",
       "      <td>男</td>\n",
       "    </tr>\n",
       "    <tr>\n",
       "      <th>4 号</th>\n",
       "      <td>82</td>\n",
       "      <td>女</td>\n",
       "    </tr>\n",
       "  </tbody>\n",
       "</table>\n",
       "</div>"
      ],
      "text/plain": [
       "      年龄 性别\n",
       "1 号   53  女\n",
       "2 号   64  男\n",
       "3 号  100  男\n",
       "4 号   82  女"
      ]
     },
     "execution_count": 42,
     "metadata": {},
     "output_type": "execute_result"
    }
   ],
   "source": [
    "# 修改元素\n",
    "df.iloc[ 2, 0 ] = 100\n",
    "df"
   ]
  },
  {
   "cell_type": "code",
   "execution_count": 43,
   "id": "f7a6856b",
   "metadata": {},
   "outputs": [
    {
     "data": {
      "text/html": [
       "<div>\n",
       "<style scoped>\n",
       "    .dataframe tbody tr th:only-of-type {\n",
       "        vertical-align: middle;\n",
       "    }\n",
       "\n",
       "    .dataframe tbody tr th {\n",
       "        vertical-align: top;\n",
       "    }\n",
       "\n",
       "    .dataframe thead th {\n",
       "        text-align: right;\n",
       "    }\n",
       "</style>\n",
       "<table border=\"1\" class=\"dataframe\">\n",
       "  <thead>\n",
       "    <tr style=\"text-align: right;\">\n",
       "      <th></th>\n",
       "      <th>年龄</th>\n",
       "      <th>性别</th>\n",
       "    </tr>\n",
       "  </thead>\n",
       "  <tbody>\n",
       "    <tr>\n",
       "      <th>1 号</th>\n",
       "      <td>53</td>\n",
       "      <td>女</td>\n",
       "    </tr>\n",
       "    <tr>\n",
       "      <th>2 号</th>\n",
       "      <td>64</td>\n",
       "      <td>男</td>\n",
       "    </tr>\n",
       "    <tr>\n",
       "      <th>3 号</th>\n",
       "      <td>72</td>\n",
       "      <td>男</td>\n",
       "    </tr>\n",
       "    <tr>\n",
       "      <th>4 号</th>\n",
       "      <td>82</td>\n",
       "      <td>女</td>\n",
       "    </tr>\n",
       "  </tbody>\n",
       "</table>\n",
       "</div>"
      ],
      "text/plain": [
       "     年龄 性别\n",
       "1 号  53  女\n",
       "2 号  64  男\n",
       "3 号  72  男\n",
       "4 号  82  女"
      ]
     },
     "execution_count": 43,
     "metadata": {},
     "output_type": "execute_result"
    }
   ],
   "source": [
    " # 数组创建法\n",
    "v = [ [53, '女'], [64, '男'], [72, '男'], [82, '女'] ]\n",
    "i = [ '1 号', '2 号', '3 号', '4 号' ]\n",
    "c = [ '年龄', '性别' ]\n",
    "df = pd.DataFrame( v, index=i, columns=c )\n",
    "df"
   ]
  },
  {
   "cell_type": "code",
   "execution_count": 44,
   "id": "644b0a3c",
   "metadata": {},
   "outputs": [
    {
     "data": {
      "text/plain": [
       "1 号    53\n",
       "2 号    64\n",
       "3 号    72\n",
       "Name: 年龄, dtype: int64"
      ]
     },
     "execution_count": 44,
     "metadata": {},
     "output_type": "execute_result"
    }
   ],
   "source": [
    "# 切片\n",
    "df.loc[ '1 号':'3 号' , '年龄' ]"
   ]
  },
  {
   "cell_type": "code",
   "execution_count": 45,
   "id": "1f467292",
   "metadata": {},
   "outputs": [
    {
     "data": {
      "text/plain": [
       "1 号    女\n",
       "2 号    男\n",
       "3 号    男\n",
       "Name: 性别, dtype: object"
      ]
     },
     "execution_count": 45,
     "metadata": {},
     "output_type": "execute_result"
    }
   ],
   "source": [
    "# 切片\n",
    "df.iloc[ 0:3 , 1 ]"
   ]
  },
  {
   "cell_type": "code",
   "execution_count": 46,
   "id": "9cd93847",
   "metadata": {},
   "outputs": [
    {
     "data": {
      "text/plain": [
       "年龄    72\n",
       "性别     男\n",
       "Name: 3 号, dtype: object"
      ]
     },
     "execution_count": 46,
     "metadata": {},
     "output_type": "execute_result"
    }
   ],
   "source": [
    "# 提取二维对象的行\n",
    "df.loc[ '3 号' , : ]"
   ]
  },
  {
   "cell_type": "code",
   "execution_count": 47,
   "id": "cbd95bb4",
   "metadata": {},
   "outputs": [
    {
     "data": {
      "text/plain": [
       "年龄    72\n",
       "性别     男\n",
       "Name: 3 号, dtype: object"
      ]
     },
     "execution_count": 47,
     "metadata": {},
     "output_type": "execute_result"
    }
   ],
   "source": [
    "# 提取二维对象的行\n",
    "df.iloc[ 2 , : ]"
   ]
  },
  {
   "cell_type": "code",
   "execution_count": 48,
   "id": "af124aaa",
   "metadata": {},
   "outputs": [
    {
     "data": {
      "text/plain": [
       "1 号    53\n",
       "2 号    64\n",
       "3 号    72\n",
       "4 号    82\n",
       "Name: 年龄, dtype: int64"
      ]
     },
     "execution_count": 48,
     "metadata": {},
     "output_type": "execute_result"
    }
   ],
   "source": [
    "# 提取矩阵对象的列\n",
    "df.loc[ : , '年龄' ]"
   ]
  },
  {
   "cell_type": "code",
   "execution_count": 49,
   "id": "a4edac8d",
   "metadata": {},
   "outputs": [
    {
     "data": {
      "text/plain": [
       "1 号    53\n",
       "2 号    64\n",
       "3 号    72\n",
       "4 号    82\n",
       "Name: 年龄, dtype: int64"
      ]
     },
     "execution_count": 49,
     "metadata": {},
     "output_type": "execute_result"
    }
   ],
   "source": [
    "# 提取矩阵对象的列\n",
    "df.iloc[ : , 0 ]"
   ]
  },
  {
   "cell_type": "code",
   "execution_count": 50,
   "id": "388b6bd5",
   "metadata": {},
   "outputs": [
    {
     "data": {
      "text/html": [
       "<div>\n",
       "<style scoped>\n",
       "    .dataframe tbody tr th:only-of-type {\n",
       "        vertical-align: middle;\n",
       "    }\n",
       "\n",
       "    .dataframe tbody tr th {\n",
       "        vertical-align: top;\n",
       "    }\n",
       "\n",
       "    .dataframe thead th {\n",
       "        text-align: right;\n",
       "    }\n",
       "</style>\n",
       "<table border=\"1\" class=\"dataframe\">\n",
       "  <thead>\n",
       "    <tr style=\"text-align: right;\">\n",
       "      <th></th>\n",
       "      <th>1 号</th>\n",
       "      <th>2 号</th>\n",
       "      <th>3 号</th>\n",
       "      <th>4 号</th>\n",
       "    </tr>\n",
       "  </thead>\n",
       "  <tbody>\n",
       "    <tr>\n",
       "      <th>年龄</th>\n",
       "      <td>53</td>\n",
       "      <td>64</td>\n",
       "      <td>72</td>\n",
       "      <td>82</td>\n",
       "    </tr>\n",
       "    <tr>\n",
       "      <th>性别</th>\n",
       "      <td>女</td>\n",
       "      <td>男</td>\n",
       "      <td>男</td>\n",
       "      <td>女</td>\n",
       "    </tr>\n",
       "  </tbody>\n",
       "</table>\n",
       "</div>"
      ],
      "text/plain": [
       "   1 号 2 号 3 号 4 号\n",
       "年龄  53  64  72  82\n",
       "性别   女   男   男   女"
      ]
     },
     "execution_count": 50,
     "metadata": {},
     "output_type": "execute_result"
    }
   ],
   "source": [
    " # 创建畸形 df\n",
    "v = [ [53, 64, 72, 82], [ '女', '男', '男', '女' ] ]\n",
    "i = [ '年龄', '性别' ]\n",
    "c = [ '1 号', '2 号', '3 号', '4 号' ]\n",
    "df = pd.DataFrame( v, index=i, columns=c )\n",
    "df"
   ]
  },
  {
   "cell_type": "code",
   "execution_count": 51,
   "id": "91a64812",
   "metadata": {},
   "outputs": [
    {
     "data": {
      "text/html": [
       "<div>\n",
       "<style scoped>\n",
       "    .dataframe tbody tr th:only-of-type {\n",
       "        vertical-align: middle;\n",
       "    }\n",
       "\n",
       "    .dataframe tbody tr th {\n",
       "        vertical-align: top;\n",
       "    }\n",
       "\n",
       "    .dataframe thead th {\n",
       "        text-align: right;\n",
       "    }\n",
       "</style>\n",
       "<table border=\"1\" class=\"dataframe\">\n",
       "  <thead>\n",
       "    <tr style=\"text-align: right;\">\n",
       "      <th></th>\n",
       "      <th>年龄</th>\n",
       "      <th>性别</th>\n",
       "    </tr>\n",
       "  </thead>\n",
       "  <tbody>\n",
       "    <tr>\n",
       "      <th>1 号</th>\n",
       "      <td>53</td>\n",
       "      <td>女</td>\n",
       "    </tr>\n",
       "    <tr>\n",
       "      <th>2 号</th>\n",
       "      <td>64</td>\n",
       "      <td>男</td>\n",
       "    </tr>\n",
       "    <tr>\n",
       "      <th>3 号</th>\n",
       "      <td>72</td>\n",
       "      <td>男</td>\n",
       "    </tr>\n",
       "    <tr>\n",
       "      <th>4 号</th>\n",
       "      <td>82</td>\n",
       "      <td>女</td>\n",
       "    </tr>\n",
       "  </tbody>\n",
       "</table>\n",
       "</div>"
      ],
      "text/plain": [
       "     年龄 性别\n",
       "1 号  53  女\n",
       "2 号  64  男\n",
       "3 号  72  男\n",
       "4 号  82  女"
      ]
     },
     "execution_count": 51,
     "metadata": {},
     "output_type": "execute_result"
    }
   ],
   "source": [
    "# 转置\n",
    "df = df.T\n",
    "df"
   ]
  },
  {
   "cell_type": "code",
   "execution_count": 52,
   "id": "06525859",
   "metadata": {},
   "outputs": [
    {
     "data": {
      "text/html": [
       "<div>\n",
       "<style scoped>\n",
       "    .dataframe tbody tr th:only-of-type {\n",
       "        vertical-align: middle;\n",
       "    }\n",
       "\n",
       "    .dataframe tbody tr th {\n",
       "        vertical-align: top;\n",
       "    }\n",
       "\n",
       "    .dataframe thead th {\n",
       "        text-align: right;\n",
       "    }\n",
       "</style>\n",
       "<table border=\"1\" class=\"dataframe\">\n",
       "  <thead>\n",
       "    <tr style=\"text-align: right;\">\n",
       "      <th></th>\n",
       "      <th>性别</th>\n",
       "      <th>年龄</th>\n",
       "    </tr>\n",
       "  </thead>\n",
       "  <tbody>\n",
       "    <tr>\n",
       "      <th>1 号</th>\n",
       "      <td>女</td>\n",
       "      <td>53</td>\n",
       "    </tr>\n",
       "    <tr>\n",
       "      <th>2 号</th>\n",
       "      <td>男</td>\n",
       "      <td>64</td>\n",
       "    </tr>\n",
       "    <tr>\n",
       "      <th>3 号</th>\n",
       "      <td>男</td>\n",
       "      <td>72</td>\n",
       "    </tr>\n",
       "    <tr>\n",
       "      <th>4 号</th>\n",
       "      <td>女</td>\n",
       "      <td>82</td>\n",
       "    </tr>\n",
       "  </tbody>\n",
       "</table>\n",
       "</div>"
      ],
      "text/plain": [
       "    性别  年龄\n",
       "1 号  女  53\n",
       "2 号  男  64\n",
       "3 号  男  72\n",
       "4 号  女  82"
      ]
     },
     "execution_count": 52,
     "metadata": {},
     "output_type": "execute_result"
    }
   ],
   "source": [
    " # 左右翻转\n",
    "df = df.iloc[ : , : : -1 ]\n",
    "df"
   ]
  },
  {
   "cell_type": "code",
   "execution_count": 53,
   "id": "41ac9f95",
   "metadata": {},
   "outputs": [
    {
     "data": {
      "text/html": [
       "<div>\n",
       "<style scoped>\n",
       "    .dataframe tbody tr th:only-of-type {\n",
       "        vertical-align: middle;\n",
       "    }\n",
       "\n",
       "    .dataframe tbody tr th {\n",
       "        vertical-align: top;\n",
       "    }\n",
       "\n",
       "    .dataframe thead th {\n",
       "        text-align: right;\n",
       "    }\n",
       "</style>\n",
       "<table border=\"1\" class=\"dataframe\">\n",
       "  <thead>\n",
       "    <tr style=\"text-align: right;\">\n",
       "      <th></th>\n",
       "      <th>性别</th>\n",
       "      <th>年龄</th>\n",
       "    </tr>\n",
       "  </thead>\n",
       "  <tbody>\n",
       "    <tr>\n",
       "      <th>4 号</th>\n",
       "      <td>女</td>\n",
       "      <td>82</td>\n",
       "    </tr>\n",
       "    <tr>\n",
       "      <th>3 号</th>\n",
       "      <td>男</td>\n",
       "      <td>72</td>\n",
       "    </tr>\n",
       "    <tr>\n",
       "      <th>2 号</th>\n",
       "      <td>男</td>\n",
       "      <td>64</td>\n",
       "    </tr>\n",
       "    <tr>\n",
       "      <th>1 号</th>\n",
       "      <td>女</td>\n",
       "      <td>53</td>\n",
       "    </tr>\n",
       "  </tbody>\n",
       "</table>\n",
       "</div>"
      ],
      "text/plain": [
       "    性别  年龄\n",
       "4 号  女  82\n",
       "3 号  男  72\n",
       "2 号  男  64\n",
       "1 号  女  53"
      ]
     },
     "execution_count": 53,
     "metadata": {},
     "output_type": "execute_result"
    }
   ],
   "source": [
    "# 上下翻转\n",
    "df = df.iloc[ : : -1 , : ]\n",
    "df"
   ]
  },
  {
   "cell_type": "code",
   "execution_count": 54,
   "id": "efdde488",
   "metadata": {},
   "outputs": [
    {
     "data": {
      "text/plain": [
       "(1 号    10\n",
       " 2 号    20\n",
       " 3 号    30\n",
       " 4 号    40\n",
       " dtype: int64,\n",
       " 1 号    女\n",
       " 2 号    男\n",
       " 3 号    男\n",
       " 4 号    女\n",
       " dtype: object,\n",
       " 1 号    1\n",
       " 2 号    2\n",
       " 3 号    3\n",
       " 4 号    4\n",
       " dtype: int64)"
      ]
     },
     "execution_count": 54,
     "metadata": {},
     "output_type": "execute_result"
    }
   ],
   "source": [
    "# 数组法创建 sr\n",
    "i = [ '1 号', '2 号', '3 号', '4 号' ]\n",
    "v1 = [ 10, 20, 30, 40 ]\n",
    "v2 = [ '女', '男', '男', '女' ]\n",
    "v3 = [ 1, 2, 3, 4 ]\n",
    "sr1 = pd.Series( v1, index=i )\n",
    "sr2 = pd.Series( v2, index=i )\n",
    "sr3 = pd.Series( v3, index=i )\n",
    "sr1, sr2, sr3"
   ]
  },
  {
   "cell_type": "code",
   "execution_count": 55,
   "id": "655595ef",
   "metadata": {},
   "outputs": [
    {
     "data": {
      "text/html": [
       "<div>\n",
       "<style scoped>\n",
       "    .dataframe tbody tr th:only-of-type {\n",
       "        vertical-align: middle;\n",
       "    }\n",
       "\n",
       "    .dataframe tbody tr th {\n",
       "        vertical-align: top;\n",
       "    }\n",
       "\n",
       "    .dataframe thead th {\n",
       "        text-align: right;\n",
       "    }\n",
       "</style>\n",
       "<table border=\"1\" class=\"dataframe\">\n",
       "  <thead>\n",
       "    <tr style=\"text-align: right;\">\n",
       "      <th></th>\n",
       "      <th>年龄</th>\n",
       "      <th>性别</th>\n",
       "    </tr>\n",
       "  </thead>\n",
       "  <tbody>\n",
       "    <tr>\n",
       "      <th>1 号</th>\n",
       "      <td>10</td>\n",
       "      <td>女</td>\n",
       "    </tr>\n",
       "    <tr>\n",
       "      <th>2 号</th>\n",
       "      <td>20</td>\n",
       "      <td>男</td>\n",
       "    </tr>\n",
       "    <tr>\n",
       "      <th>3 号</th>\n",
       "      <td>30</td>\n",
       "      <td>男</td>\n",
       "    </tr>\n",
       "    <tr>\n",
       "      <th>4 号</th>\n",
       "      <td>40</td>\n",
       "      <td>女</td>\n",
       "    </tr>\n",
       "  </tbody>\n",
       "</table>\n",
       "</div>"
      ],
      "text/plain": [
       "     年龄 性别\n",
       "1 号  10  女\n",
       "2 号  20  男\n",
       "3 号  30  男\n",
       "4 号  40  女"
      ]
     },
     "execution_count": 55,
     "metadata": {},
     "output_type": "execute_result"
    }
   ],
   "source": [
    "# 字典法创建 df\n",
    "df = pd.DataFrame( { '年龄':sr1, '性别':sr2 } )\n",
    "df"
   ]
  },
  {
   "cell_type": "code",
   "execution_count": 56,
   "id": "1a788fbd",
   "metadata": {},
   "outputs": [
    {
     "data": {
      "text/html": [
       "<div>\n",
       "<style scoped>\n",
       "    .dataframe tbody tr th:only-of-type {\n",
       "        vertical-align: middle;\n",
       "    }\n",
       "\n",
       "    .dataframe tbody tr th {\n",
       "        vertical-align: top;\n",
       "    }\n",
       "\n",
       "    .dataframe thead th {\n",
       "        text-align: right;\n",
       "    }\n",
       "</style>\n",
       "<table border=\"1\" class=\"dataframe\">\n",
       "  <thead>\n",
       "    <tr style=\"text-align: right;\">\n",
       "      <th></th>\n",
       "      <th>年龄</th>\n",
       "      <th>性别</th>\n",
       "      <th>牌照</th>\n",
       "    </tr>\n",
       "  </thead>\n",
       "  <tbody>\n",
       "    <tr>\n",
       "      <th>1 号</th>\n",
       "      <td>10</td>\n",
       "      <td>女</td>\n",
       "      <td>1</td>\n",
       "    </tr>\n",
       "    <tr>\n",
       "      <th>2 号</th>\n",
       "      <td>20</td>\n",
       "      <td>男</td>\n",
       "      <td>2</td>\n",
       "    </tr>\n",
       "    <tr>\n",
       "      <th>3 号</th>\n",
       "      <td>30</td>\n",
       "      <td>男</td>\n",
       "      <td>3</td>\n",
       "    </tr>\n",
       "    <tr>\n",
       "      <th>4 号</th>\n",
       "      <td>40</td>\n",
       "      <td>女</td>\n",
       "      <td>4</td>\n",
       "    </tr>\n",
       "  </tbody>\n",
       "</table>\n",
       "</div>"
      ],
      "text/plain": [
       "     年龄 性别  牌照\n",
       "1 号  10  女   1\n",
       "2 号  20  男   2\n",
       "3 号  30  男   3\n",
       "4 号  40  女   4"
      ]
     },
     "execution_count": 56,
     "metadata": {},
     "output_type": "execute_result"
    }
   ],
   "source": [
    "# 把 sr 并入 df 中\n",
    "df['牌照'] = sr3\n",
    "df"
   ]
  },
  {
   "cell_type": "code",
   "execution_count": 57,
   "id": "8e5400c2",
   "metadata": {},
   "outputs": [
    {
     "data": {
      "text/plain": [
       "1 号    10\n",
       "2 号    20\n",
       "3 号    30\n",
       "4 号    40\n",
       "Name: 年龄, dtype: int64"
      ]
     },
     "execution_count": 57,
     "metadata": {},
     "output_type": "execute_result"
    }
   ],
   "source": [
    "# 把 df['年龄']分离成 sr4\n",
    "sr4 = df['年龄']\n",
    "sr4"
   ]
  },
  {
   "cell_type": "code",
   "execution_count": 58,
   "id": "0edabeae",
   "metadata": {},
   "outputs": [
    {
     "data": {
      "text/plain": [
       "(1 号    10\n",
       " 2 号    20\n",
       " 3 号    30\n",
       " 4 号    40\n",
       " dtype: int64,\n",
       " 4 号    40\n",
       " 5 号    50\n",
       " 6 号    60\n",
       " dtype: int64)"
      ]
     },
     "execution_count": 58,
     "metadata": {},
     "output_type": "execute_result"
    }
   ],
   "source": [
    "# 创建 sr1 和 sr2\n",
    "v1 = [10, 20, 30, 40]\n",
    "v2 = [40, 50, 60]\n",
    "k1 = [ '1 号', '2 号', '3 号', '4 号' ]\n",
    "k2 = [ '4 号', '5 号', '6 号' ]\n",
    "sr1 = pd.Series( v1, index= k1 )\n",
    "sr2 = pd.Series( v2, index= k2 )\n",
    "sr1, sr2"
   ]
  },
  {
   "cell_type": "code",
   "execution_count": 59,
   "id": "6dbe12df",
   "metadata": {},
   "outputs": [
    {
     "data": {
      "text/plain": [
       "1 号    10\n",
       "2 号    20\n",
       "3 号    30\n",
       "4 号    40\n",
       "4 号    40\n",
       "5 号    50\n",
       "6 号    60\n",
       "dtype: int64"
      ]
     },
     "execution_count": 59,
     "metadata": {},
     "output_type": "execute_result"
    }
   ],
   "source": [
    "# 合并\n",
    "pd.concat( [sr1, sr2] )"
   ]
  },
  {
   "cell_type": "code",
   "execution_count": 60,
   "id": "21ce08ae",
   "metadata": {},
   "outputs": [
    {
     "data": {
      "text/plain": [
       "(1 号    10\n",
       " 2 号    20\n",
       " 3 号    30\n",
       " dtype: int64,\n",
       " 1 号    女\n",
       " 2 号    男\n",
       " 3 号    男\n",
       " dtype: object)"
      ]
     },
     "execution_count": 60,
     "metadata": {},
     "output_type": "execute_result"
    }
   ],
   "source": [
    " # 创建 sr1 与 sr2\n",
    "v1 = [ 10, 20, 30]\n",
    "v2 = [ '女', '男', '男']\n",
    "sr1 = pd.Series( v1, index=[ '1 号', '2 号', '3 号'] )\n",
    "sr2 = pd.Series( v2, index=[ '1 号', '2 号', '3 号'] )\n",
    "sr1, sr2"
   ]
  },
  {
   "cell_type": "code",
   "execution_count": 61,
   "id": "5259419d",
   "metadata": {},
   "outputs": [
    {
     "data": {
      "text/html": [
       "<div>\n",
       "<style scoped>\n",
       "    .dataframe tbody tr th:only-of-type {\n",
       "        vertical-align: middle;\n",
       "    }\n",
       "\n",
       "    .dataframe tbody tr th {\n",
       "        vertical-align: top;\n",
       "    }\n",
       "\n",
       "    .dataframe thead th {\n",
       "        text-align: right;\n",
       "    }\n",
       "</style>\n",
       "<table border=\"1\" class=\"dataframe\">\n",
       "  <thead>\n",
       "    <tr style=\"text-align: right;\">\n",
       "      <th></th>\n",
       "      <th>年龄</th>\n",
       "      <th>性别</th>\n",
       "    </tr>\n",
       "  </thead>\n",
       "  <tbody>\n",
       "    <tr>\n",
       "      <th>1 号</th>\n",
       "      <td>10</td>\n",
       "      <td>女</td>\n",
       "    </tr>\n",
       "    <tr>\n",
       "      <th>2 号</th>\n",
       "      <td>20</td>\n",
       "      <td>男</td>\n",
       "    </tr>\n",
       "    <tr>\n",
       "      <th>3 号</th>\n",
       "      <td>30</td>\n",
       "      <td>男</td>\n",
       "    </tr>\n",
       "  </tbody>\n",
       "</table>\n",
       "</div>"
      ],
      "text/plain": [
       "     年龄 性别\n",
       "1 号  10  女\n",
       "2 号  20  男\n",
       "3 号  30  男"
      ]
     },
     "execution_count": 61,
     "metadata": {},
     "output_type": "execute_result"
    }
   ],
   "source": [
    "# 创建 df\n",
    "df = pd.DataFrame( { '年龄':sr1, '性别':sr2 } )\n",
    "df"
   ]
  },
  {
   "cell_type": "code",
   "execution_count": 62,
   "id": "4b91632c",
   "metadata": {},
   "outputs": [
    {
     "data": {
      "text/html": [
       "<div>\n",
       "<style scoped>\n",
       "    .dataframe tbody tr th:only-of-type {\n",
       "        vertical-align: middle;\n",
       "    }\n",
       "\n",
       "    .dataframe tbody tr th {\n",
       "        vertical-align: top;\n",
       "    }\n",
       "\n",
       "    .dataframe thead th {\n",
       "        text-align: right;\n",
       "    }\n",
       "</style>\n",
       "<table border=\"1\" class=\"dataframe\">\n",
       "  <thead>\n",
       "    <tr style=\"text-align: right;\">\n",
       "      <th></th>\n",
       "      <th>年龄</th>\n",
       "      <th>性别</th>\n",
       "      <th>牌照</th>\n",
       "    </tr>\n",
       "  </thead>\n",
       "  <tbody>\n",
       "    <tr>\n",
       "      <th>1 号</th>\n",
       "      <td>10</td>\n",
       "      <td>女</td>\n",
       "      <td>1</td>\n",
       "    </tr>\n",
       "    <tr>\n",
       "      <th>2 号</th>\n",
       "      <td>20</td>\n",
       "      <td>男</td>\n",
       "      <td>2</td>\n",
       "    </tr>\n",
       "    <tr>\n",
       "      <th>3 号</th>\n",
       "      <td>30</td>\n",
       "      <td>男</td>\n",
       "      <td>3</td>\n",
       "    </tr>\n",
       "  </tbody>\n",
       "</table>\n",
       "</div>"
      ],
      "text/plain": [
       "     年龄 性别  牌照\n",
       "1 号  10  女   1\n",
       "2 号  20  男   2\n",
       "3 号  30  男   3"
      ]
     },
     "execution_count": 62,
     "metadata": {},
     "output_type": "execute_result"
    }
   ],
   "source": [
    "# 加上一列\n",
    "df['牌照'] = [1, 2, 3]\n",
    "df"
   ]
  },
  {
   "cell_type": "code",
   "execution_count": 63,
   "id": "fd9aecda",
   "metadata": {},
   "outputs": [
    {
     "data": {
      "text/html": [
       "<div>\n",
       "<style scoped>\n",
       "    .dataframe tbody tr th:only-of-type {\n",
       "        vertical-align: middle;\n",
       "    }\n",
       "\n",
       "    .dataframe tbody tr th {\n",
       "        vertical-align: top;\n",
       "    }\n",
       "\n",
       "    .dataframe thead th {\n",
       "        text-align: right;\n",
       "    }\n",
       "</style>\n",
       "<table border=\"1\" class=\"dataframe\">\n",
       "  <thead>\n",
       "    <tr style=\"text-align: right;\">\n",
       "      <th></th>\n",
       "      <th>年龄</th>\n",
       "      <th>性别</th>\n",
       "      <th>牌照</th>\n",
       "    </tr>\n",
       "  </thead>\n",
       "  <tbody>\n",
       "    <tr>\n",
       "      <th>1 号</th>\n",
       "      <td>10</td>\n",
       "      <td>女</td>\n",
       "      <td>1</td>\n",
       "    </tr>\n",
       "    <tr>\n",
       "      <th>2 号</th>\n",
       "      <td>20</td>\n",
       "      <td>男</td>\n",
       "      <td>2</td>\n",
       "    </tr>\n",
       "    <tr>\n",
       "      <th>3 号</th>\n",
       "      <td>30</td>\n",
       "      <td>男</td>\n",
       "      <td>3</td>\n",
       "    </tr>\n",
       "    <tr>\n",
       "      <th>4 号</th>\n",
       "      <td>40</td>\n",
       "      <td>女</td>\n",
       "      <td>4</td>\n",
       "    </tr>\n",
       "  </tbody>\n",
       "</table>\n",
       "</div>"
      ],
      "text/plain": [
       "     年龄 性别  牌照\n",
       "1 号  10  女   1\n",
       "2 号  20  男   2\n",
       "3 号  30  男   3\n",
       "4 号  40  女   4"
      ]
     },
     "execution_count": 63,
     "metadata": {},
     "output_type": "execute_result"
    }
   ],
   "source": [
    " # 加上一行\n",
    "df.loc['4 号'] = [40, '女', 4]\n",
    "df"
   ]
  },
  {
   "cell_type": "code",
   "execution_count": 64,
   "id": "c142c0dc",
   "metadata": {},
   "outputs": [
    {
     "data": {
      "text/plain": [
       "(     年龄 性别\n",
       " 1 号  10  女\n",
       " 2 号  20  男\n",
       " 3 号  30  男\n",
       " 4 号  40  女,\n",
       "      牌照 ikun\n",
       " 1 号   1    是\n",
       " 2 号   2    是\n",
       " 3 号   3    是\n",
       " 4 号   4    否,\n",
       "      年龄 性别  牌照 ikun\n",
       " 5 号  50  男   5    是\n",
       " 6 号  60  女   6    是)"
      ]
     },
     "execution_count": 64,
     "metadata": {},
     "output_type": "execute_result"
    }
   ],
   "source": [
    "# 设定 df1、df2、df3\n",
    "v1 = [ [10, '女'], [20, '男'], [30, '男'], [40, '女'] ]\n",
    "v2 = [ [1, '是'], [2, '是'], [3, '是'], [4, '否'] ]\n",
    "v3 = [ [50, '男', 5, '是'], [60, '女', 6, '是'] ]\n",
    "i1 = [ '1 号', '2 号', '3 号', '4 号' ]\n",
    "i2 = [ '1 号', '2 号', '3 号', '4 号' ]\n",
    "i3 = [ '5 号', '6 号' ]\n",
    "c1 = [ '年龄', '性别' ]\n",
    "c2 = [ '牌照', 'ikun' ]\n",
    "c3 = [ '年龄', '性别', '牌照', 'ikun' ]\n",
    "df1 = pd.DataFrame( v1, index=i1, columns=c1 )\n",
    "df2 = pd.DataFrame( v2, index=i2, columns=c2 )\n",
    "df3 = pd.DataFrame( v3, index=i3, columns=c3 )\n",
    "df1, df2, df3"
   ]
  },
  {
   "cell_type": "code",
   "execution_count": 65,
   "id": "93cbe80f",
   "metadata": {},
   "outputs": [
    {
     "data": {
      "text/html": [
       "<div>\n",
       "<style scoped>\n",
       "    .dataframe tbody tr th:only-of-type {\n",
       "        vertical-align: middle;\n",
       "    }\n",
       "\n",
       "    .dataframe tbody tr th {\n",
       "        vertical-align: top;\n",
       "    }\n",
       "\n",
       "    .dataframe thead th {\n",
       "        text-align: right;\n",
       "    }\n",
       "</style>\n",
       "<table border=\"1\" class=\"dataframe\">\n",
       "  <thead>\n",
       "    <tr style=\"text-align: right;\">\n",
       "      <th></th>\n",
       "      <th>年龄</th>\n",
       "      <th>性别</th>\n",
       "      <th>牌照</th>\n",
       "      <th>ikun</th>\n",
       "    </tr>\n",
       "  </thead>\n",
       "  <tbody>\n",
       "    <tr>\n",
       "      <th>1 号</th>\n",
       "      <td>10</td>\n",
       "      <td>女</td>\n",
       "      <td>1</td>\n",
       "      <td>是</td>\n",
       "    </tr>\n",
       "    <tr>\n",
       "      <th>2 号</th>\n",
       "      <td>20</td>\n",
       "      <td>男</td>\n",
       "      <td>2</td>\n",
       "      <td>是</td>\n",
       "    </tr>\n",
       "    <tr>\n",
       "      <th>3 号</th>\n",
       "      <td>30</td>\n",
       "      <td>男</td>\n",
       "      <td>3</td>\n",
       "      <td>是</td>\n",
       "    </tr>\n",
       "    <tr>\n",
       "      <th>4 号</th>\n",
       "      <td>40</td>\n",
       "      <td>女</td>\n",
       "      <td>4</td>\n",
       "      <td>否</td>\n",
       "    </tr>\n",
       "  </tbody>\n",
       "</table>\n",
       "</div>"
      ],
      "text/plain": [
       "     年龄 性别  牌照 ikun\n",
       "1 号  10  女   1    是\n",
       "2 号  20  男   2    是\n",
       "3 号  30  男   3    是\n",
       "4 号  40  女   4    否"
      ]
     },
     "execution_count": 65,
     "metadata": {},
     "output_type": "execute_result"
    }
   ],
   "source": [
    "# 合并列对象（添加列特征）\n",
    "df = pd.concat( [df1,df2], axis=1 )\n",
    "df"
   ]
  },
  {
   "cell_type": "code",
   "execution_count": 66,
   "id": "8a9818a8",
   "metadata": {},
   "outputs": [
    {
     "data": {
      "text/html": [
       "<div>\n",
       "<style scoped>\n",
       "    .dataframe tbody tr th:only-of-type {\n",
       "        vertical-align: middle;\n",
       "    }\n",
       "\n",
       "    .dataframe tbody tr th {\n",
       "        vertical-align: top;\n",
       "    }\n",
       "\n",
       "    .dataframe thead th {\n",
       "        text-align: right;\n",
       "    }\n",
       "</style>\n",
       "<table border=\"1\" class=\"dataframe\">\n",
       "  <thead>\n",
       "    <tr style=\"text-align: right;\">\n",
       "      <th></th>\n",
       "      <th>年龄</th>\n",
       "      <th>性别</th>\n",
       "      <th>牌照</th>\n",
       "      <th>ikun</th>\n",
       "    </tr>\n",
       "  </thead>\n",
       "  <tbody>\n",
       "    <tr>\n",
       "      <th>1 号</th>\n",
       "      <td>10</td>\n",
       "      <td>女</td>\n",
       "      <td>1</td>\n",
       "      <td>是</td>\n",
       "    </tr>\n",
       "    <tr>\n",
       "      <th>2 号</th>\n",
       "      <td>20</td>\n",
       "      <td>男</td>\n",
       "      <td>2</td>\n",
       "      <td>是</td>\n",
       "    </tr>\n",
       "    <tr>\n",
       "      <th>3 号</th>\n",
       "      <td>30</td>\n",
       "      <td>男</td>\n",
       "      <td>3</td>\n",
       "      <td>是</td>\n",
       "    </tr>\n",
       "    <tr>\n",
       "      <th>4 号</th>\n",
       "      <td>40</td>\n",
       "      <td>女</td>\n",
       "      <td>4</td>\n",
       "      <td>否</td>\n",
       "    </tr>\n",
       "    <tr>\n",
       "      <th>5 号</th>\n",
       "      <td>50</td>\n",
       "      <td>男</td>\n",
       "      <td>5</td>\n",
       "      <td>是</td>\n",
       "    </tr>\n",
       "    <tr>\n",
       "      <th>6 号</th>\n",
       "      <td>60</td>\n",
       "      <td>女</td>\n",
       "      <td>6</td>\n",
       "      <td>是</td>\n",
       "    </tr>\n",
       "  </tbody>\n",
       "</table>\n",
       "</div>"
      ],
      "text/plain": [
       "     年龄 性别  牌照 ikun\n",
       "1 号  10  女   1    是\n",
       "2 号  20  男   2    是\n",
       "3 号  30  男   3    是\n",
       "4 号  40  女   4    否\n",
       "5 号  50  男   5    是\n",
       "6 号  60  女   6    是"
      ]
     },
     "execution_count": 66,
     "metadata": {},
     "output_type": "execute_result"
    }
   ],
   "source": [
    "# 合并行对象（添加行个体）\n",
    "df = pd.concat( [df,df3] )\n",
    "df"
   ]
  },
  {
   "cell_type": "code",
   "execution_count": 67,
   "id": "2ef0a832",
   "metadata": {},
   "outputs": [
    {
     "data": {
      "text/plain": [
       "1 号    53\n",
       "2 号    64\n",
       "3 号    72\n",
       "dtype: int64"
      ]
     },
     "execution_count": 67,
     "metadata": {},
     "output_type": "execute_result"
    }
   ],
   "source": [
    "# 创建 sr\n",
    "sr = pd.Series( [ 53, 64, 72 ] , index=['1 号', '2 号', '3 号'] )\n",
    "sr"
   ]
  },
  {
   "cell_type": "code",
   "execution_count": 68,
   "id": "88a9238c",
   "metadata": {},
   "outputs": [
    {
     "data": {
      "text/html": [
       "<div>\n",
       "<style scoped>\n",
       "    .dataframe tbody tr th:only-of-type {\n",
       "        vertical-align: middle;\n",
       "    }\n",
       "\n",
       "    .dataframe tbody tr th {\n",
       "        vertical-align: top;\n",
       "    }\n",
       "\n",
       "    .dataframe thead th {\n",
       "        text-align: right;\n",
       "    }\n",
       "</style>\n",
       "<table border=\"1\" class=\"dataframe\">\n",
       "  <thead>\n",
       "    <tr style=\"text-align: right;\">\n",
       "      <th></th>\n",
       "      <th>年龄</th>\n",
       "      <th>性别</th>\n",
       "    </tr>\n",
       "  </thead>\n",
       "  <tbody>\n",
       "    <tr>\n",
       "      <th>1 号</th>\n",
       "      <td>53</td>\n",
       "      <td>女</td>\n",
       "    </tr>\n",
       "    <tr>\n",
       "      <th>2 号</th>\n",
       "      <td>64</td>\n",
       "      <td>男</td>\n",
       "    </tr>\n",
       "    <tr>\n",
       "      <th>3 号</th>\n",
       "      <td>72</td>\n",
       "      <td>男</td>\n",
       "    </tr>\n",
       "  </tbody>\n",
       "</table>\n",
       "</div>"
      ],
      "text/plain": [
       "     年龄 性别\n",
       "1 号  53  女\n",
       "2 号  64  男\n",
       "3 号  72  男"
      ]
     },
     "execution_count": 68,
     "metadata": {},
     "output_type": "execute_result"
    }
   ],
   "source": [
    "# 创建 df\n",
    "v = [ [53, '女'], [64, '男'], [72, '男'] ]\n",
    "df = pd.DataFrame( v, index=[ '1 号', '2 号', '3 号' ], columns=[ '年龄', '性别' ] )\n",
    "df"
   ]
  },
  {
   "cell_type": "code",
   "execution_count": 69,
   "id": "d8135e70",
   "metadata": {},
   "outputs": [
    {
     "data": {
      "text/plain": [
       "1 号    63\n",
       "2 号    74\n",
       "3 号    82\n",
       "dtype: int64"
      ]
     },
     "execution_count": 69,
     "metadata": {},
     "output_type": "execute_result"
    }
   ],
   "source": [
    "sr = sr + 10\n",
    "sr"
   ]
  },
  {
   "cell_type": "code",
   "execution_count": 70,
   "id": "4ac65e9d",
   "metadata": {},
   "outputs": [
    {
     "data": {
      "text/html": [
       "<div>\n",
       "<style scoped>\n",
       "    .dataframe tbody tr th:only-of-type {\n",
       "        vertical-align: middle;\n",
       "    }\n",
       "\n",
       "    .dataframe tbody tr th {\n",
       "        vertical-align: top;\n",
       "    }\n",
       "\n",
       "    .dataframe thead th {\n",
       "        text-align: right;\n",
       "    }\n",
       "</style>\n",
       "<table border=\"1\" class=\"dataframe\">\n",
       "  <thead>\n",
       "    <tr style=\"text-align: right;\">\n",
       "      <th></th>\n",
       "      <th>年龄</th>\n",
       "      <th>性别</th>\n",
       "    </tr>\n",
       "  </thead>\n",
       "  <tbody>\n",
       "    <tr>\n",
       "      <th>1 号</th>\n",
       "      <td>63</td>\n",
       "      <td>女</td>\n",
       "    </tr>\n",
       "    <tr>\n",
       "      <th>2 号</th>\n",
       "      <td>74</td>\n",
       "      <td>男</td>\n",
       "    </tr>\n",
       "    <tr>\n",
       "      <th>3 号</th>\n",
       "      <td>82</td>\n",
       "      <td>男</td>\n",
       "    </tr>\n",
       "  </tbody>\n",
       "</table>\n",
       "</div>"
      ],
      "text/plain": [
       "     年龄 性别\n",
       "1 号  63  女\n",
       "2 号  74  男\n",
       "3 号  82  男"
      ]
     },
     "execution_count": 70,
     "metadata": {},
     "output_type": "execute_result"
    }
   ],
   "source": [
    "df['年龄'] = df['年龄'] + 10\n",
    "df"
   ]
  },
  {
   "cell_type": "code",
   "execution_count": 71,
   "id": "7cfd58a4",
   "metadata": {},
   "outputs": [
    {
     "data": {
      "text/plain": [
       "1 号    630\n",
       "2 号    740\n",
       "3 号    820\n",
       "dtype: int64"
      ]
     },
     "execution_count": 71,
     "metadata": {},
     "output_type": "execute_result"
    }
   ],
   "source": [
    "sr = sr * 10\n",
    "sr"
   ]
  },
  {
   "cell_type": "code",
   "execution_count": 72,
   "id": "71e2187a",
   "metadata": {},
   "outputs": [
    {
     "data": {
      "text/html": [
       "<div>\n",
       "<style scoped>\n",
       "    .dataframe tbody tr th:only-of-type {\n",
       "        vertical-align: middle;\n",
       "    }\n",
       "\n",
       "    .dataframe tbody tr th {\n",
       "        vertical-align: top;\n",
       "    }\n",
       "\n",
       "    .dataframe thead th {\n",
       "        text-align: right;\n",
       "    }\n",
       "</style>\n",
       "<table border=\"1\" class=\"dataframe\">\n",
       "  <thead>\n",
       "    <tr style=\"text-align: right;\">\n",
       "      <th></th>\n",
       "      <th>年龄</th>\n",
       "      <th>性别</th>\n",
       "    </tr>\n",
       "  </thead>\n",
       "  <tbody>\n",
       "    <tr>\n",
       "      <th>1 号</th>\n",
       "      <td>630</td>\n",
       "      <td>女</td>\n",
       "    </tr>\n",
       "    <tr>\n",
       "      <th>2 号</th>\n",
       "      <td>740</td>\n",
       "      <td>男</td>\n",
       "    </tr>\n",
       "    <tr>\n",
       "      <th>3 号</th>\n",
       "      <td>820</td>\n",
       "      <td>男</td>\n",
       "    </tr>\n",
       "  </tbody>\n",
       "</table>\n",
       "</div>"
      ],
      "text/plain": [
       "      年龄 性别\n",
       "1 号  630  女\n",
       "2 号  740  男\n",
       "3 号  820  男"
      ]
     },
     "execution_count": 72,
     "metadata": {},
     "output_type": "execute_result"
    }
   ],
   "source": [
    "df['年龄'] = df['年龄'] * 10\n",
    "df"
   ]
  },
  {
   "cell_type": "code",
   "execution_count": 73,
   "id": "9229d333",
   "metadata": {},
   "outputs": [
    {
     "data": {
      "text/plain": [
       "1 号    396900\n",
       "2 号    547600\n",
       "3 号    672400\n",
       "dtype: int64"
      ]
     },
     "execution_count": 73,
     "metadata": {},
     "output_type": "execute_result"
    }
   ],
   "source": [
    "sr = sr ** 2\n",
    "sr"
   ]
  },
  {
   "cell_type": "code",
   "execution_count": 74,
   "id": "551efd81",
   "metadata": {},
   "outputs": [
    {
     "data": {
      "text/html": [
       "<div>\n",
       "<style scoped>\n",
       "    .dataframe tbody tr th:only-of-type {\n",
       "        vertical-align: middle;\n",
       "    }\n",
       "\n",
       "    .dataframe tbody tr th {\n",
       "        vertical-align: top;\n",
       "    }\n",
       "\n",
       "    .dataframe thead th {\n",
       "        text-align: right;\n",
       "    }\n",
       "</style>\n",
       "<table border=\"1\" class=\"dataframe\">\n",
       "  <thead>\n",
       "    <tr style=\"text-align: right;\">\n",
       "      <th></th>\n",
       "      <th>年龄</th>\n",
       "      <th>性别</th>\n",
       "    </tr>\n",
       "  </thead>\n",
       "  <tbody>\n",
       "    <tr>\n",
       "      <th>1 号</th>\n",
       "      <td>396900</td>\n",
       "      <td>女</td>\n",
       "    </tr>\n",
       "    <tr>\n",
       "      <th>2 号</th>\n",
       "      <td>547600</td>\n",
       "      <td>男</td>\n",
       "    </tr>\n",
       "    <tr>\n",
       "      <th>3 号</th>\n",
       "      <td>672400</td>\n",
       "      <td>男</td>\n",
       "    </tr>\n",
       "  </tbody>\n",
       "</table>\n",
       "</div>"
      ],
      "text/plain": [
       "         年龄 性别\n",
       "1 号  396900  女\n",
       "2 号  547600  男\n",
       "3 号  672400  男"
      ]
     },
     "execution_count": 74,
     "metadata": {},
     "output_type": "execute_result"
    }
   ],
   "source": [
    "df['年龄'] = df['年龄'] ** 2\n",
    "df"
   ]
  },
  {
   "cell_type": "code",
   "execution_count": 75,
   "id": "b6e4cece",
   "metadata": {},
   "outputs": [
    {
     "data": {
      "text/plain": [
       "1 号    10\n",
       "2 号    20\n",
       "3 号    30\n",
       "4 号    40\n",
       "dtype: int64"
      ]
     },
     "execution_count": 75,
     "metadata": {},
     "output_type": "execute_result"
    }
   ],
   "source": [
    "# 创建 sr1\n",
    "v1 = [10, 20, 30, 40]\n",
    "k1 = [ '1 号', '2 号', '3 号', '4 号' ]\n",
    "sr1 = pd.Series( v1, index= k1 )\n",
    "sr1"
   ]
  },
  {
   "cell_type": "code",
   "execution_count": 76,
   "id": "066470e5",
   "metadata": {},
   "outputs": [
    {
     "data": {
      "text/plain": [
       "1 号    1\n",
       "2 号    2\n",
       "3 号    3\n",
       "dtype: int64"
      ]
     },
     "execution_count": 76,
     "metadata": {},
     "output_type": "execute_result"
    }
   ],
   "source": [
    "# 创建 sr2\n",
    "v2 = [1, 2, 3 ]\n",
    "k2 = [ '1 号', '2 号', '3 号' ]\n",
    "sr2 = pd.Series( v2, index= k2 )\n",
    "sr2"
   ]
  },
  {
   "cell_type": "code",
   "execution_count": 77,
   "id": "18c7ae4f",
   "metadata": {},
   "outputs": [
    {
     "data": {
      "text/plain": [
       "1 号    11.0\n",
       "2 号    22.0\n",
       "3 号    33.0\n",
       "4 号     NaN\n",
       "dtype: float64"
      ]
     },
     "execution_count": 77,
     "metadata": {},
     "output_type": "execute_result"
    }
   ],
   "source": [
    "sr1 + sr2 # 加法 "
   ]
  },
  {
   "cell_type": "code",
   "execution_count": 78,
   "id": "8d5ad547",
   "metadata": {},
   "outputs": [
    {
     "data": {
      "text/plain": [
       "1 号     9.0\n",
       "2 号    18.0\n",
       "3 号    27.0\n",
       "4 号     NaN\n",
       "dtype: float64"
      ]
     },
     "execution_count": 78,
     "metadata": {},
     "output_type": "execute_result"
    }
   ],
   "source": [
    "sr1 - sr2 # 减法"
   ]
  },
  {
   "cell_type": "code",
   "execution_count": 79,
   "id": "268e56cd",
   "metadata": {},
   "outputs": [
    {
     "data": {
      "text/plain": [
       "1 号    10.0\n",
       "2 号    40.0\n",
       "3 号    90.0\n",
       "4 号     NaN\n",
       "dtype: float64"
      ]
     },
     "execution_count": 79,
     "metadata": {},
     "output_type": "execute_result"
    }
   ],
   "source": [
    " sr1 * sr2 # 乘法 "
   ]
  },
  {
   "cell_type": "code",
   "execution_count": 80,
   "id": "687d487c",
   "metadata": {},
   "outputs": [
    {
     "data": {
      "text/plain": [
       "1 号    10.0\n",
       "2 号    10.0\n",
       "3 号    10.0\n",
       "4 号     NaN\n",
       "dtype: float64"
      ]
     },
     "execution_count": 80,
     "metadata": {},
     "output_type": "execute_result"
    }
   ],
   "source": [
    " sr1 / sr2 # 除法\n"
   ]
  },
  {
   "cell_type": "code",
   "execution_count": 81,
   "id": "503352c3",
   "metadata": {},
   "outputs": [
    {
     "data": {
      "text/plain": [
       "1 号       10.0\n",
       "2 号      400.0\n",
       "3 号    27000.0\n",
       "4 号        NaN\n",
       "dtype: float64"
      ]
     },
     "execution_count": 81,
     "metadata": {},
     "output_type": "execute_result"
    }
   ],
   "source": [
    " sr1 ** sr2 # 幂方"
   ]
  },
  {
   "cell_type": "code",
   "execution_count": 82,
   "id": "a44a0780",
   "metadata": {},
   "outputs": [
    {
     "data": {
      "text/plain": [
       "(     年龄 性别\n",
       " 1 号  10  女\n",
       " 2 号  20  男\n",
       " 3 号  30  男\n",
       " 4 号  40  女,\n",
       "      牌照\n",
       " 1 号   1\n",
       " 2 号   2\n",
       " 3 号   3\n",
       " 6 号   6)"
      ]
     },
     "execution_count": 82,
     "metadata": {},
     "output_type": "execute_result"
    }
   ],
   "source": [
    "# 设定 df1 和 df2\n",
    "v1 = [ [10, '女'], [20, '男'], [30, '男'], [40, '女'] ]\n",
    "v2 = [ 1, 2 ,3, 6 ]\n",
    "i1 = [ '1 号', '2 号', '3 号', '4 号' ]; c1 = [ '年龄', '性别' ]\n",
    "i2 = [ '1 号', '2 号', '3 号', '6 号' ]; c2 = [ '牌照' ]\n",
    "df1 = pd.DataFrame( v1, index=i1, columns=c1 )\n",
    "df2 = pd.DataFrame( v2, index=i2, columns=c2 )\n",
    "df1, df2"
   ]
  },
  {
   "cell_type": "code",
   "execution_count": 83,
   "id": "ca8e80f4",
   "metadata": {},
   "outputs": [
    {
     "data": {
      "text/html": [
       "<div>\n",
       "<style scoped>\n",
       "    .dataframe tbody tr th:only-of-type {\n",
       "        vertical-align: middle;\n",
       "    }\n",
       "\n",
       "    .dataframe tbody tr th {\n",
       "        vertical-align: top;\n",
       "    }\n",
       "\n",
       "    .dataframe thead th {\n",
       "        text-align: right;\n",
       "    }\n",
       "</style>\n",
       "<table border=\"1\" class=\"dataframe\">\n",
       "  <thead>\n",
       "    <tr style=\"text-align: right;\">\n",
       "      <th></th>\n",
       "      <th>年龄</th>\n",
       "      <th>性别</th>\n",
       "      <th>加法</th>\n",
       "    </tr>\n",
       "  </thead>\n",
       "  <tbody>\n",
       "    <tr>\n",
       "      <th>1 号</th>\n",
       "      <td>10</td>\n",
       "      <td>女</td>\n",
       "      <td>11.0</td>\n",
       "    </tr>\n",
       "    <tr>\n",
       "      <th>2 号</th>\n",
       "      <td>20</td>\n",
       "      <td>男</td>\n",
       "      <td>22.0</td>\n",
       "    </tr>\n",
       "    <tr>\n",
       "      <th>3 号</th>\n",
       "      <td>30</td>\n",
       "      <td>男</td>\n",
       "      <td>33.0</td>\n",
       "    </tr>\n",
       "    <tr>\n",
       "      <th>4 号</th>\n",
       "      <td>40</td>\n",
       "      <td>女</td>\n",
       "      <td>NaN</td>\n",
       "    </tr>\n",
       "  </tbody>\n",
       "</table>\n",
       "</div>"
      ],
      "text/plain": [
       "     年龄 性别    加法\n",
       "1 号  10  女  11.0\n",
       "2 号  20  男  22.0\n",
       "3 号  30  男  33.0\n",
       "4 号  40  女   NaN"
      ]
     },
     "execution_count": 83,
     "metadata": {},
     "output_type": "execute_result"
    }
   ],
   "source": [
    "# 加法\n",
    "df1['加法'] = df1['年龄'] + df2['牌照']\n",
    "df1"
   ]
  },
  {
   "cell_type": "code",
   "execution_count": 84,
   "id": "6b371a59",
   "metadata": {},
   "outputs": [],
   "source": [
    "# 减法、乘法、除法、幂方\n",
    "df1['减法'] = df1['年龄'] - df2['牌照']\n",
    "df1['乘法'] = df1['年龄'] * df2['牌照']\n",
    "df1['除法'] = df1['年龄'] / df2['牌照']\n",
    "df1['幂方'] = df1['年龄'] ** df2['牌照']"
   ]
  },
  {
   "cell_type": "code",
   "execution_count": 85,
   "id": "1a1709d2",
   "metadata": {},
   "outputs": [
    {
     "data": {
      "text/plain": [
       "1 号    53.0\n",
       "2 号     NaN\n",
       "3 号    72.0\n",
       "4 号    82.0\n",
       "dtype: float64"
      ]
     },
     "execution_count": 85,
     "metadata": {},
     "output_type": "execute_result"
    }
   ],
   "source": [
    " # 创建 sr\n",
    "v = [ 53, None, 72, 82 ]\n",
    "k = ['1 号', '2 号', '3 号', '4 号']\n",
    "sr = pd.Series( v, index=k )\n",
    "sr"
   ]
  },
  {
   "cell_type": "code",
   "execution_count": 86,
   "id": "c0998a78",
   "metadata": {},
   "outputs": [
    {
     "data": {
      "text/html": [
       "<div>\n",
       "<style scoped>\n",
       "    .dataframe tbody tr th:only-of-type {\n",
       "        vertical-align: middle;\n",
       "    }\n",
       "\n",
       "    .dataframe tbody tr th {\n",
       "        vertical-align: top;\n",
       "    }\n",
       "\n",
       "    .dataframe thead th {\n",
       "        text-align: right;\n",
       "    }\n",
       "</style>\n",
       "<table border=\"1\" class=\"dataframe\">\n",
       "  <thead>\n",
       "    <tr style=\"text-align: right;\">\n",
       "      <th></th>\n",
       "      <th>年龄</th>\n",
       "      <th>牌照</th>\n",
       "    </tr>\n",
       "  </thead>\n",
       "  <tbody>\n",
       "    <tr>\n",
       "      <th>1 号</th>\n",
       "      <td>NaN</td>\n",
       "      <td>1.0</td>\n",
       "    </tr>\n",
       "    <tr>\n",
       "      <th>2 号</th>\n",
       "      <td>64.0</td>\n",
       "      <td>NaN</td>\n",
       "    </tr>\n",
       "    <tr>\n",
       "      <th>3 号</th>\n",
       "      <td>72.0</td>\n",
       "      <td>3.0</td>\n",
       "    </tr>\n",
       "    <tr>\n",
       "      <th>4 号</th>\n",
       "      <td>82.0</td>\n",
       "      <td>4.0</td>\n",
       "    </tr>\n",
       "  </tbody>\n",
       "</table>\n",
       "</div>"
      ],
      "text/plain": [
       "       年龄   牌照\n",
       "1 号   NaN  1.0\n",
       "2 号  64.0  NaN\n",
       "3 号  72.0  3.0\n",
       "4 号  82.0  4.0"
      ]
     },
     "execution_count": 86,
     "metadata": {},
     "output_type": "execute_result"
    }
   ],
   "source": [
    " # 创建 df\n",
    "v = [ [None, 1], [64, None], [72, 3], [82, 4] ]\n",
    "i = [ '1 号', '2 号', '3 号', '4 号' ]\n",
    "c = [ '年龄', '牌照' ]\n",
    "df = pd.DataFrame( v, index=i, columns=c )\n",
    "df"
   ]
  },
  {
   "cell_type": "code",
   "execution_count": 87,
   "id": "403cd13f",
   "metadata": {},
   "outputs": [
    {
     "data": {
      "text/plain": [
       "1 号    False\n",
       "2 号     True\n",
       "3 号    False\n",
       "4 号    False\n",
       "dtype: bool"
      ]
     },
     "execution_count": 87,
     "metadata": {},
     "output_type": "execute_result"
    }
   ],
   "source": [
    "# 发现 sr 的缺失值\n",
    "sr.isnull()"
   ]
  },
  {
   "cell_type": "code",
   "execution_count": 88,
   "id": "b91fdccc",
   "metadata": {},
   "outputs": [
    {
     "data": {
      "text/html": [
       "<div>\n",
       "<style scoped>\n",
       "    .dataframe tbody tr th:only-of-type {\n",
       "        vertical-align: middle;\n",
       "    }\n",
       "\n",
       "    .dataframe tbody tr th {\n",
       "        vertical-align: top;\n",
       "    }\n",
       "\n",
       "    .dataframe thead th {\n",
       "        text-align: right;\n",
       "    }\n",
       "</style>\n",
       "<table border=\"1\" class=\"dataframe\">\n",
       "  <thead>\n",
       "    <tr style=\"text-align: right;\">\n",
       "      <th></th>\n",
       "      <th>年龄</th>\n",
       "      <th>牌照</th>\n",
       "    </tr>\n",
       "  </thead>\n",
       "  <tbody>\n",
       "    <tr>\n",
       "      <th>1 号</th>\n",
       "      <td>True</td>\n",
       "      <td>False</td>\n",
       "    </tr>\n",
       "    <tr>\n",
       "      <th>2 号</th>\n",
       "      <td>False</td>\n",
       "      <td>True</td>\n",
       "    </tr>\n",
       "    <tr>\n",
       "      <th>3 号</th>\n",
       "      <td>False</td>\n",
       "      <td>False</td>\n",
       "    </tr>\n",
       "    <tr>\n",
       "      <th>4 号</th>\n",
       "      <td>False</td>\n",
       "      <td>False</td>\n",
       "    </tr>\n",
       "  </tbody>\n",
       "</table>\n",
       "</div>"
      ],
      "text/plain": [
       "        年龄     牌照\n",
       "1 号   True  False\n",
       "2 号  False   True\n",
       "3 号  False  False\n",
       "4 号  False  False"
      ]
     },
     "execution_count": 88,
     "metadata": {},
     "output_type": "execute_result"
    }
   ],
   "source": [
    "# 发现 df 的缺失值\n",
    "df.isnull()"
   ]
  },
  {
   "cell_type": "code",
   "execution_count": 89,
   "id": "09e2b8a2",
   "metadata": {},
   "outputs": [
    {
     "data": {
      "text/plain": [
       "1 号    53.0\n",
       "2 号     NaN\n",
       "3 号    72.0\n",
       "4 号    82.0\n",
       "dtype: float64"
      ]
     },
     "execution_count": 89,
     "metadata": {},
     "output_type": "execute_result"
    }
   ],
   "source": [
    "# 创建 sr\n",
    "v = [ 53, None, 72, 82 ]\n",
    "k = ['1 号', '2 号', '3 号', '4 号']\n",
    "sr = pd.Series( v, index=k )\n",
    "sr"
   ]
  },
  {
   "cell_type": "code",
   "execution_count": 90,
   "id": "ee63e053",
   "metadata": {},
   "outputs": [
    {
     "data": {
      "text/html": [
       "<div>\n",
       "<style scoped>\n",
       "    .dataframe tbody tr th:only-of-type {\n",
       "        vertical-align: middle;\n",
       "    }\n",
       "\n",
       "    .dataframe tbody tr th {\n",
       "        vertical-align: top;\n",
       "    }\n",
       "\n",
       "    .dataframe thead th {\n",
       "        text-align: right;\n",
       "    }\n",
       "</style>\n",
       "<table border=\"1\" class=\"dataframe\">\n",
       "  <thead>\n",
       "    <tr style=\"text-align: right;\">\n",
       "      <th></th>\n",
       "      <th>年龄</th>\n",
       "      <th>牌照</th>\n",
       "    </tr>\n",
       "  </thead>\n",
       "  <tbody>\n",
       "    <tr>\n",
       "      <th>1 号</th>\n",
       "      <td>NaN</td>\n",
       "      <td>NaN</td>\n",
       "    </tr>\n",
       "    <tr>\n",
       "      <th>2 号</th>\n",
       "      <td>64.0</td>\n",
       "      <td>NaN</td>\n",
       "    </tr>\n",
       "    <tr>\n",
       "      <th>3 号</th>\n",
       "      <td>72.0</td>\n",
       "      <td>3.0</td>\n",
       "    </tr>\n",
       "    <tr>\n",
       "      <th>4 号</th>\n",
       "      <td>82.0</td>\n",
       "      <td>4.0</td>\n",
       "    </tr>\n",
       "  </tbody>\n",
       "</table>\n",
       "</div>"
      ],
      "text/plain": [
       "       年龄   牌照\n",
       "1 号   NaN  NaN\n",
       "2 号  64.0  NaN\n",
       "3 号  72.0  3.0\n",
       "4 号  82.0  4.0"
      ]
     },
     "execution_count": 90,
     "metadata": {},
     "output_type": "execute_result"
    }
   ],
   "source": [
    "# 创建 df\n",
    "v = [ [None, None], [64, None], [72, 3], [82, 4] ]\n",
    "i = [ '1 号', '2 号', '3 号', '4 号' ]\n",
    "c = [ '年龄', '牌照' ]\n",
    "df = pd.DataFrame( v, index=i, columns=c )\n",
    "df"
   ]
  },
  {
   "cell_type": "code",
   "execution_count": 91,
   "id": "f6fd6532",
   "metadata": {},
   "outputs": [
    {
     "data": {
      "text/plain": [
       "1 号    53.0\n",
       "3 号    72.0\n",
       "4 号    82.0\n",
       "dtype: float64"
      ]
     },
     "execution_count": 91,
     "metadata": {},
     "output_type": "execute_result"
    }
   ],
   "source": [
    "# 剔除 sr 的缺失值\n",
    "sr.dropna()"
   ]
  },
  {
   "cell_type": "code",
   "execution_count": 92,
   "id": "d59babf5",
   "metadata": {},
   "outputs": [
    {
     "data": {
      "text/html": [
       "<div>\n",
       "<style scoped>\n",
       "    .dataframe tbody tr th:only-of-type {\n",
       "        vertical-align: middle;\n",
       "    }\n",
       "\n",
       "    .dataframe tbody tr th {\n",
       "        vertical-align: top;\n",
       "    }\n",
       "\n",
       "    .dataframe thead th {\n",
       "        text-align: right;\n",
       "    }\n",
       "</style>\n",
       "<table border=\"1\" class=\"dataframe\">\n",
       "  <thead>\n",
       "    <tr style=\"text-align: right;\">\n",
       "      <th></th>\n",
       "      <th>年龄</th>\n",
       "      <th>牌照</th>\n",
       "    </tr>\n",
       "  </thead>\n",
       "  <tbody>\n",
       "    <tr>\n",
       "      <th>3 号</th>\n",
       "      <td>72.0</td>\n",
       "      <td>3.0</td>\n",
       "    </tr>\n",
       "    <tr>\n",
       "      <th>4 号</th>\n",
       "      <td>82.0</td>\n",
       "      <td>4.0</td>\n",
       "    </tr>\n",
       "  </tbody>\n",
       "</table>\n",
       "</div>"
      ],
      "text/plain": [
       "       年龄   牌照\n",
       "3 号  72.0  3.0\n",
       "4 号  82.0  4.0"
      ]
     },
     "execution_count": 92,
     "metadata": {},
     "output_type": "execute_result"
    }
   ],
   "source": [
    "# 剔除 df 含缺失值的行\n",
    "df.dropna()"
   ]
  },
  {
   "cell_type": "code",
   "execution_count": 93,
   "id": "0244ea12",
   "metadata": {},
   "outputs": [
    {
     "data": {
      "text/html": [
       "<div>\n",
       "<style scoped>\n",
       "    .dataframe tbody tr th:only-of-type {\n",
       "        vertical-align: middle;\n",
       "    }\n",
       "\n",
       "    .dataframe tbody tr th {\n",
       "        vertical-align: top;\n",
       "    }\n",
       "\n",
       "    .dataframe thead th {\n",
       "        text-align: right;\n",
       "    }\n",
       "</style>\n",
       "<table border=\"1\" class=\"dataframe\">\n",
       "  <thead>\n",
       "    <tr style=\"text-align: right;\">\n",
       "      <th></th>\n",
       "      <th>年龄</th>\n",
       "      <th>牌照</th>\n",
       "    </tr>\n",
       "  </thead>\n",
       "  <tbody>\n",
       "    <tr>\n",
       "      <th>2 号</th>\n",
       "      <td>64.0</td>\n",
       "      <td>NaN</td>\n",
       "    </tr>\n",
       "    <tr>\n",
       "      <th>3 号</th>\n",
       "      <td>72.0</td>\n",
       "      <td>3.0</td>\n",
       "    </tr>\n",
       "    <tr>\n",
       "      <th>4 号</th>\n",
       "      <td>82.0</td>\n",
       "      <td>4.0</td>\n",
       "    </tr>\n",
       "  </tbody>\n",
       "</table>\n",
       "</div>"
      ],
      "text/plain": [
       "       年龄   牌照\n",
       "2 号  64.0  NaN\n",
       "3 号  72.0  3.0\n",
       "4 号  82.0  4.0"
      ]
     },
     "execution_count": 93,
     "metadata": {},
     "output_type": "execute_result"
    }
   ],
   "source": [
    " # 剔除 df 全是 NaN 的个体\n",
    "df.dropna(how='all')"
   ]
  },
  {
   "cell_type": "code",
   "execution_count": 94,
   "id": "b25f3014",
   "metadata": {},
   "outputs": [
    {
     "data": {
      "text/plain": [
       "1 号    53.0\n",
       "2 号     NaN\n",
       "3 号    72.0\n",
       "4 号    82.0\n",
       "dtype: float64"
      ]
     },
     "execution_count": 94,
     "metadata": {},
     "output_type": "execute_result"
    }
   ],
   "source": [
    "# 创建 sr\n",
    "v = [ 53, None, 72, 82 ] \n",
    "sr = pd.Series( v, index=['1 号', '2 号', '3 号', '4 号'] )\n",
    "sr"
   ]
  },
  {
   "cell_type": "code",
   "execution_count": 95,
   "id": "bbc0e426",
   "metadata": {},
   "outputs": [
    {
     "data": {
      "text/plain": [
       "1 号    53.0\n",
       "2 号     0.0\n",
       "3 号    72.0\n",
       "4 号    82.0\n",
       "dtype: float64"
      ]
     },
     "execution_count": 95,
     "metadata": {},
     "output_type": "execute_result"
    }
   ],
   "source": [
    "# 用常数（0）填充\n",
    "sr.fillna(0)"
   ]
  },
  {
   "cell_type": "code",
   "execution_count": 96,
   "id": "edae53fa",
   "metadata": {},
   "outputs": [
    {
     "data": {
      "text/plain": [
       "1 号    53.0\n",
       "2 号    69.0\n",
       "3 号    72.0\n",
       "4 号    82.0\n",
       "dtype: float64"
      ]
     },
     "execution_count": 96,
     "metadata": {},
     "output_type": "execute_result"
    }
   ],
   "source": [
    " # 用常数（均值）填充\n",
    "import numpy as np\n",
    "sr.fillna(np.mean(sr))"
   ]
  },
  {
   "cell_type": "code",
   "execution_count": 97,
   "id": "cec2c448",
   "metadata": {},
   "outputs": [
    {
     "data": {
      "text/plain": [
       "1 号    53.0\n",
       "2 号    53.0\n",
       "3 号    72.0\n",
       "4 号    82.0\n",
       "dtype: float64"
      ]
     },
     "execution_count": 97,
     "metadata": {},
     "output_type": "execute_result"
    }
   ],
   "source": [
    " # 用前值填充\n",
    "sr.fillna(method='ffill')"
   ]
  },
  {
   "cell_type": "code",
   "execution_count": 98,
   "id": "89f857c2",
   "metadata": {},
   "outputs": [
    {
     "data": {
      "text/plain": [
       "1 号    53.0\n",
       "2 号    72.0\n",
       "3 号    72.0\n",
       "4 号    82.0\n",
       "dtype: float64"
      ]
     },
     "execution_count": 98,
     "metadata": {},
     "output_type": "execute_result"
    }
   ],
   "source": [
    " # 用后值填充\n",
    "sr.fillna(method='bfill')"
   ]
  },
  {
   "cell_type": "code",
   "execution_count": 99,
   "id": "7834c02f",
   "metadata": {},
   "outputs": [
    {
     "data": {
      "text/html": [
       "<div>\n",
       "<style scoped>\n",
       "    .dataframe tbody tr th:only-of-type {\n",
       "        vertical-align: middle;\n",
       "    }\n",
       "\n",
       "    .dataframe tbody tr th {\n",
       "        vertical-align: top;\n",
       "    }\n",
       "\n",
       "    .dataframe thead th {\n",
       "        text-align: right;\n",
       "    }\n",
       "</style>\n",
       "<table border=\"1\" class=\"dataframe\">\n",
       "  <thead>\n",
       "    <tr style=\"text-align: right;\">\n",
       "      <th></th>\n",
       "      <th>年龄</th>\n",
       "      <th>牌照</th>\n",
       "    </tr>\n",
       "  </thead>\n",
       "  <tbody>\n",
       "    <tr>\n",
       "      <th>1 号</th>\n",
       "      <td>NaN</td>\n",
       "      <td>NaN</td>\n",
       "    </tr>\n",
       "    <tr>\n",
       "      <th>2 号</th>\n",
       "      <td>64.0</td>\n",
       "      <td>NaN</td>\n",
       "    </tr>\n",
       "    <tr>\n",
       "      <th>3 号</th>\n",
       "      <td>72.0</td>\n",
       "      <td>3.0</td>\n",
       "    </tr>\n",
       "    <tr>\n",
       "      <th>4 号</th>\n",
       "      <td>82.0</td>\n",
       "      <td>4.0</td>\n",
       "    </tr>\n",
       "  </tbody>\n",
       "</table>\n",
       "</div>"
      ],
      "text/plain": [
       "       年龄   牌照\n",
       "1 号   NaN  NaN\n",
       "2 号  64.0  NaN\n",
       "3 号  72.0  3.0\n",
       "4 号  82.0  4.0"
      ]
     },
     "execution_count": 99,
     "metadata": {},
     "output_type": "execute_result"
    }
   ],
   "source": [
    " # 设定 df\n",
    "v = [ [None, None], [64, None], [72, 3], [82, 4] ]\n",
    "i = [ '1 号', '2 号', '3 号', '4 号' ]; c = [ '年龄', '牌照' ]\n",
    "df = pd.DataFrame( v, index=i, columns=c )\n",
    "df"
   ]
  },
  {
   "cell_type": "code",
   "execution_count": 100,
   "id": "065952f4",
   "metadata": {},
   "outputs": [
    {
     "data": {
      "text/html": [
       "<div>\n",
       "<style scoped>\n",
       "    .dataframe tbody tr th:only-of-type {\n",
       "        vertical-align: middle;\n",
       "    }\n",
       "\n",
       "    .dataframe tbody tr th {\n",
       "        vertical-align: top;\n",
       "    }\n",
       "\n",
       "    .dataframe thead th {\n",
       "        text-align: right;\n",
       "    }\n",
       "</style>\n",
       "<table border=\"1\" class=\"dataframe\">\n",
       "  <thead>\n",
       "    <tr style=\"text-align: right;\">\n",
       "      <th></th>\n",
       "      <th>年龄</th>\n",
       "      <th>牌照</th>\n",
       "    </tr>\n",
       "  </thead>\n",
       "  <tbody>\n",
       "    <tr>\n",
       "      <th>1 号</th>\n",
       "      <td>0.0</td>\n",
       "      <td>0.0</td>\n",
       "    </tr>\n",
       "    <tr>\n",
       "      <th>2 号</th>\n",
       "      <td>64.0</td>\n",
       "      <td>0.0</td>\n",
       "    </tr>\n",
       "    <tr>\n",
       "      <th>3 号</th>\n",
       "      <td>72.0</td>\n",
       "      <td>3.0</td>\n",
       "    </tr>\n",
       "    <tr>\n",
       "      <th>4 号</th>\n",
       "      <td>82.0</td>\n",
       "      <td>4.0</td>\n",
       "    </tr>\n",
       "  </tbody>\n",
       "</table>\n",
       "</div>"
      ],
      "text/plain": [
       "       年龄   牌照\n",
       "1 号   0.0  0.0\n",
       "2 号  64.0  0.0\n",
       "3 号  72.0  3.0\n",
       "4 号  82.0  4.0"
      ]
     },
     "execution_count": 100,
     "metadata": {},
     "output_type": "execute_result"
    }
   ],
   "source": [
    " # 用常数（0）填充\n",
    "df.fillna(0)"
   ]
  },
  {
   "cell_type": "code",
   "execution_count": 101,
   "id": "d2bd599f",
   "metadata": {},
   "outputs": [
    {
     "data": {
      "text/html": [
       "<div>\n",
       "<style scoped>\n",
       "    .dataframe tbody tr th:only-of-type {\n",
       "        vertical-align: middle;\n",
       "    }\n",
       "\n",
       "    .dataframe tbody tr th {\n",
       "        vertical-align: top;\n",
       "    }\n",
       "\n",
       "    .dataframe thead th {\n",
       "        text-align: right;\n",
       "    }\n",
       "</style>\n",
       "<table border=\"1\" class=\"dataframe\">\n",
       "  <thead>\n",
       "    <tr style=\"text-align: right;\">\n",
       "      <th></th>\n",
       "      <th>年龄</th>\n",
       "      <th>牌照</th>\n",
       "    </tr>\n",
       "  </thead>\n",
       "  <tbody>\n",
       "    <tr>\n",
       "      <th>1 号</th>\n",
       "      <td>45.0</td>\n",
       "      <td>45.0</td>\n",
       "    </tr>\n",
       "    <tr>\n",
       "      <th>2 号</th>\n",
       "      <td>64.0</td>\n",
       "      <td>45.0</td>\n",
       "    </tr>\n",
       "    <tr>\n",
       "      <th>3 号</th>\n",
       "      <td>72.0</td>\n",
       "      <td>3.0</td>\n",
       "    </tr>\n",
       "    <tr>\n",
       "      <th>4 号</th>\n",
       "      <td>82.0</td>\n",
       "      <td>4.0</td>\n",
       "    </tr>\n",
       "  </tbody>\n",
       "</table>\n",
       "</div>"
      ],
      "text/plain": [
       "       年龄    牌照\n",
       "1 号  45.0  45.0\n",
       "2 号  64.0  45.0\n",
       "3 号  72.0   3.0\n",
       "4 号  82.0   4.0"
      ]
     },
     "execution_count": 101,
     "metadata": {},
     "output_type": "execute_result"
    }
   ],
   "source": [
    "# 用常数（均值）填充\n",
    "import numpy as np\n",
    "df.fillna( np.mean(df) )"
   ]
  },
  {
   "cell_type": "code",
   "execution_count": 102,
   "id": "a654880e",
   "metadata": {},
   "outputs": [
    {
     "data": {
      "text/html": [
       "<div>\n",
       "<style scoped>\n",
       "    .dataframe tbody tr th:only-of-type {\n",
       "        vertical-align: middle;\n",
       "    }\n",
       "\n",
       "    .dataframe tbody tr th {\n",
       "        vertical-align: top;\n",
       "    }\n",
       "\n",
       "    .dataframe thead th {\n",
       "        text-align: right;\n",
       "    }\n",
       "</style>\n",
       "<table border=\"1\" class=\"dataframe\">\n",
       "  <thead>\n",
       "    <tr style=\"text-align: right;\">\n",
       "      <th></th>\n",
       "      <th>年龄</th>\n",
       "      <th>牌照</th>\n",
       "    </tr>\n",
       "  </thead>\n",
       "  <tbody>\n",
       "    <tr>\n",
       "      <th>1 号</th>\n",
       "      <td>NaN</td>\n",
       "      <td>NaN</td>\n",
       "    </tr>\n",
       "    <tr>\n",
       "      <th>2 号</th>\n",
       "      <td>64.0</td>\n",
       "      <td>NaN</td>\n",
       "    </tr>\n",
       "    <tr>\n",
       "      <th>3 号</th>\n",
       "      <td>72.0</td>\n",
       "      <td>3.0</td>\n",
       "    </tr>\n",
       "    <tr>\n",
       "      <th>4 号</th>\n",
       "      <td>82.0</td>\n",
       "      <td>4.0</td>\n",
       "    </tr>\n",
       "  </tbody>\n",
       "</table>\n",
       "</div>"
      ],
      "text/plain": [
       "       年龄   牌照\n",
       "1 号   NaN  NaN\n",
       "2 号  64.0  NaN\n",
       "3 号  72.0  3.0\n",
       "4 号  82.0  4.0"
      ]
     },
     "execution_count": 102,
     "metadata": {},
     "output_type": "execute_result"
    }
   ],
   "source": [
    " # 用前值填充\n",
    "df.fillna(method='ffill')"
   ]
  },
  {
   "cell_type": "code",
   "execution_count": 103,
   "id": "a5b4510d",
   "metadata": {},
   "outputs": [
    {
     "data": {
      "text/html": [
       "<div>\n",
       "<style scoped>\n",
       "    .dataframe tbody tr th:only-of-type {\n",
       "        vertical-align: middle;\n",
       "    }\n",
       "\n",
       "    .dataframe tbody tr th {\n",
       "        vertical-align: top;\n",
       "    }\n",
       "\n",
       "    .dataframe thead th {\n",
       "        text-align: right;\n",
       "    }\n",
       "</style>\n",
       "<table border=\"1\" class=\"dataframe\">\n",
       "  <thead>\n",
       "    <tr style=\"text-align: right;\">\n",
       "      <th></th>\n",
       "      <th>年龄</th>\n",
       "      <th>牌照</th>\n",
       "    </tr>\n",
       "  </thead>\n",
       "  <tbody>\n",
       "    <tr>\n",
       "      <th>1 号</th>\n",
       "      <td>64.0</td>\n",
       "      <td>3.0</td>\n",
       "    </tr>\n",
       "    <tr>\n",
       "      <th>2 号</th>\n",
       "      <td>64.0</td>\n",
       "      <td>3.0</td>\n",
       "    </tr>\n",
       "    <tr>\n",
       "      <th>3 号</th>\n",
       "      <td>72.0</td>\n",
       "      <td>3.0</td>\n",
       "    </tr>\n",
       "    <tr>\n",
       "      <th>4 号</th>\n",
       "      <td>82.0</td>\n",
       "      <td>4.0</td>\n",
       "    </tr>\n",
       "  </tbody>\n",
       "</table>\n",
       "</div>"
      ],
      "text/plain": [
       "       年龄   牌照\n",
       "1 号  64.0  3.0\n",
       "2 号  64.0  3.0\n",
       "3 号  72.0  3.0\n",
       "4 号  82.0  4.0"
      ]
     },
     "execution_count": 103,
     "metadata": {},
     "output_type": "execute_result"
    }
   ],
   "source": [
    "# 用后值填充\n",
    "df.fillna(method='bfill')"
   ]
  },
  {
   "cell_type": "code",
   "execution_count": 104,
   "id": "ed84c11a",
   "metadata": {},
   "outputs": [
    {
     "data": {
      "text/html": [
       "<div>\n",
       "<style scoped>\n",
       "    .dataframe tbody tr th:only-of-type {\n",
       "        vertical-align: middle;\n",
       "    }\n",
       "\n",
       "    .dataframe tbody tr th {\n",
       "        vertical-align: top;\n",
       "    }\n",
       "\n",
       "    .dataframe thead th {\n",
       "        text-align: right;\n",
       "    }\n",
       "</style>\n",
       "<table border=\"1\" class=\"dataframe\">\n",
       "  <thead>\n",
       "    <tr style=\"text-align: right;\">\n",
       "      <th></th>\n",
       "      <th>age</th>\n",
       "      <th>gender</th>\n",
       "      <th>num</th>\n",
       "      <th>kun</th>\n",
       "    </tr>\n",
       "  </thead>\n",
       "  <tbody>\n",
       "    <tr>\n",
       "      <th>1号</th>\n",
       "      <td>10.0</td>\n",
       "      <td>女</td>\n",
       "      <td>1</td>\n",
       "      <td>是</td>\n",
       "    </tr>\n",
       "    <tr>\n",
       "      <th>2号</th>\n",
       "      <td>20.0</td>\n",
       "      <td>男</td>\n",
       "      <td>2</td>\n",
       "      <td>是</td>\n",
       "    </tr>\n",
       "    <tr>\n",
       "      <th>3号</th>\n",
       "      <td>30.0</td>\n",
       "      <td>男</td>\n",
       "      <td>3</td>\n",
       "      <td>是</td>\n",
       "    </tr>\n",
       "    <tr>\n",
       "      <th>4号</th>\n",
       "      <td>40.0</td>\n",
       "      <td>女</td>\n",
       "      <td>4</td>\n",
       "      <td>否</td>\n",
       "    </tr>\n",
       "    <tr>\n",
       "      <th>5号</th>\n",
       "      <td>50.0</td>\n",
       "      <td>男</td>\n",
       "      <td>5</td>\n",
       "      <td>是</td>\n",
       "    </tr>\n",
       "    <tr>\n",
       "      <th>6号</th>\n",
       "      <td>60.0</td>\n",
       "      <td>女</td>\n",
       "      <td>6</td>\n",
       "      <td>是</td>\n",
       "    </tr>\n",
       "  </tbody>\n",
       "</table>\n",
       "</div>"
      ],
      "text/plain": [
       "     age gender  num kun\n",
       "1号  10.0      女    1   是\n",
       "2号  20.0      男    2   是\n",
       "3号  30.0      男    3   是\n",
       "4号  40.0      女    4   否\n",
       "5号  50.0      男    5   是\n",
       "6号  60.0      女    6   是"
      ]
     },
     "execution_count": 104,
     "metadata": {},
     "output_type": "execute_result"
    }
   ],
   "source": [
    " # 导入 Pandas 对象\n",
    "df = pd.read_csv('Data.csv', index_col=0)\n",
    "df"
   ]
  },
  {
   "cell_type": "code",
   "execution_count": 105,
   "id": "40d24d9c",
   "metadata": {},
   "outputs": [
    {
     "data": {
      "text/plain": [
       "array([[10.0, '女', 1, '是'],\n",
       "       [20.0, '男', 2, '是'],\n",
       "       [30.0, '男', 3, '是'],\n",
       "       [40.0, '女', 4, '否'],\n",
       "       [50.0, '男', 5, '是'],\n",
       "       [60.0, '女', 6, '是']], dtype=object)"
      ]
     },
     "execution_count": 105,
     "metadata": {},
     "output_type": "execute_result"
    }
   ],
   "source": [
    "# 提取纯数组\n",
    "arr = df.values\n",
    "arr"
   ]
  },
  {
   "cell_type": "code",
   "execution_count": 106,
   "id": "b7fb1112",
   "metadata": {},
   "outputs": [],
   "source": [
    "# 导入 Pandas 对象\n",
    "df=pd.read_csv('行星数据.csv', index_col=0)"
   ]
  },
  {
   "cell_type": "code",
   "execution_count": 107,
   "id": "a13efd1f",
   "metadata": {},
   "outputs": [
    {
     "data": {
      "text/html": [
       "<div>\n",
       "<style scoped>\n",
       "    .dataframe tbody tr th:only-of-type {\n",
       "        vertical-align: middle;\n",
       "    }\n",
       "\n",
       "    .dataframe tbody tr th {\n",
       "        vertical-align: top;\n",
       "    }\n",
       "\n",
       "    .dataframe thead th {\n",
       "        text-align: right;\n",
       "    }\n",
       "</style>\n",
       "<table border=\"1\" class=\"dataframe\">\n",
       "  <thead>\n",
       "    <tr style=\"text-align: right;\">\n",
       "      <th></th>\n",
       "      <th>发现时间</th>\n",
       "      <th>发现数量</th>\n",
       "      <th>观测方法</th>\n",
       "      <th>行星质量</th>\n",
       "      <th>距地距离</th>\n",
       "      <th>轨道周期</th>\n",
       "    </tr>\n",
       "  </thead>\n",
       "  <tbody>\n",
       "    <tr>\n",
       "      <th>0</th>\n",
       "      <td>1989</td>\n",
       "      <td>1</td>\n",
       "      <td>径向速度</td>\n",
       "      <td>11.680</td>\n",
       "      <td>40.57</td>\n",
       "      <td>83.8880</td>\n",
       "    </tr>\n",
       "    <tr>\n",
       "      <th>1</th>\n",
       "      <td>1992</td>\n",
       "      <td>3</td>\n",
       "      <td>脉冲星计时</td>\n",
       "      <td>NaN</td>\n",
       "      <td>NaN</td>\n",
       "      <td>25.2620</td>\n",
       "    </tr>\n",
       "    <tr>\n",
       "      <th>2</th>\n",
       "      <td>1992</td>\n",
       "      <td>3</td>\n",
       "      <td>脉冲星计时</td>\n",
       "      <td>NaN</td>\n",
       "      <td>NaN</td>\n",
       "      <td>66.5419</td>\n",
       "    </tr>\n",
       "    <tr>\n",
       "      <th>3</th>\n",
       "      <td>1994</td>\n",
       "      <td>3</td>\n",
       "      <td>脉冲星计时</td>\n",
       "      <td>NaN</td>\n",
       "      <td>NaN</td>\n",
       "      <td>98.2114</td>\n",
       "    </tr>\n",
       "    <tr>\n",
       "      <th>4</th>\n",
       "      <td>1995</td>\n",
       "      <td>1</td>\n",
       "      <td>径向速度</td>\n",
       "      <td>0.472</td>\n",
       "      <td>15.36</td>\n",
       "      <td>4.2308</td>\n",
       "    </tr>\n",
       "  </tbody>\n",
       "</table>\n",
       "</div>"
      ],
      "text/plain": [
       "   发现时间  发现数量   观测方法    行星质量   距地距离     轨道周期\n",
       "0  1989     1   径向速度  11.680  40.57  83.8880\n",
       "1  1992     3  脉冲星计时     NaN    NaN  25.2620\n",
       "2  1992     3  脉冲星计时     NaN    NaN  66.5419\n",
       "3  1994     3  脉冲星计时     NaN    NaN  98.2114\n",
       "4  1995     1   径向速度   0.472  15.36   4.2308"
      ]
     },
     "execution_count": 107,
     "metadata": {},
     "output_type": "execute_result"
    }
   ],
   "source": [
    "#仅输出前五行\n",
    "df.head()"
   ]
  },
  {
   "cell_type": "code",
   "execution_count": 108,
   "id": "501b7a23",
   "metadata": {},
   "outputs": [
    {
     "data": {
      "text/plain": [
       "发现时间        2014\n",
       "发现数量           7\n",
       "观测方法      轨道亮度调制\n",
       "行星质量        25.0\n",
       "距地距离      8500.0\n",
       "轨道周期    730000.0\n",
       "dtype: object"
      ]
     },
     "execution_count": 108,
     "metadata": {},
     "output_type": "execute_result"
    }
   ],
   "source": [
    "#最大值函数 np.max( )\n",
    "df.max()"
   ]
  },
  {
   "cell_type": "code",
   "execution_count": 109,
   "id": "b8c0fec3",
   "metadata": {},
   "outputs": [
    {
     "data": {
      "text/plain": [
       "发现时间      1989\n",
       "发现数量         1\n",
       "观测方法        凌日\n",
       "行星质量    0.0036\n",
       "距地距离      1.35\n",
       "轨道周期    0.0907\n",
       "dtype: object"
      ]
     },
     "execution_count": 109,
     "metadata": {},
     "output_type": "execute_result"
    }
   ],
   "source": [
    "# 最小值函数 np.min( )\n",
    "df.min()"
   ]
  },
  {
   "cell_type": "code",
   "execution_count": 110,
   "id": "1d73d3cb",
   "metadata": {},
   "outputs": [
    {
     "data": {
      "text/plain": [
       "发现时间                                              2079388\n",
       "发现数量                                                 1848\n",
       "观测方法    径向速度脉冲星计时脉冲星计时脉冲星计时径向速度径向速度径向速度径向速度径向速度径向速度径向速...\n",
       "行星质量                                           1353.37638\n",
       "距地距离                                            213367.98\n",
       "轨道周期                                         1986894.2555\n",
       "dtype: object"
      ]
     },
     "execution_count": 110,
     "metadata": {},
     "output_type": "execute_result"
    }
   ],
   "source": [
    "# 求和函数 np.sum( )\n",
    "df.sum()"
   ]
  },
  {
   "cell_type": "code",
   "execution_count": 111,
   "id": "50cb974c",
   "metadata": {},
   "outputs": [],
   "source": [
    "# 均值函数 np.mean( )\n",
    "#df.mean()"
   ]
  },
  {
   "cell_type": "code",
   "execution_count": 112,
   "id": "6b8507b0",
   "metadata": {},
   "outputs": [],
   "source": [
    "# 标准差函数 np.std( )\n",
    "#df.std()"
   ]
  },
  {
   "cell_type": "code",
   "execution_count": 113,
   "id": "c19f15ed",
   "metadata": {},
   "outputs": [
    {
     "data": {
      "text/html": [
       "<div>\n",
       "<style scoped>\n",
       "    .dataframe tbody tr th:only-of-type {\n",
       "        vertical-align: middle;\n",
       "    }\n",
       "\n",
       "    .dataframe tbody tr th {\n",
       "        vertical-align: top;\n",
       "    }\n",
       "\n",
       "    .dataframe thead th {\n",
       "        text-align: right;\n",
       "    }\n",
       "</style>\n",
       "<table border=\"1\" class=\"dataframe\">\n",
       "  <thead>\n",
       "    <tr style=\"text-align: right;\">\n",
       "      <th></th>\n",
       "      <th>发现时间</th>\n",
       "      <th>发现数量</th>\n",
       "      <th>行星质量</th>\n",
       "      <th>距地距离</th>\n",
       "      <th>轨道周期</th>\n",
       "    </tr>\n",
       "  </thead>\n",
       "  <tbody>\n",
       "    <tr>\n",
       "      <th>count</th>\n",
       "      <td>1035.000000</td>\n",
       "      <td>1035.000000</td>\n",
       "      <td>513.000000</td>\n",
       "      <td>808.000000</td>\n",
       "      <td>992.000000</td>\n",
       "    </tr>\n",
       "    <tr>\n",
       "      <th>mean</th>\n",
       "      <td>2009.070531</td>\n",
       "      <td>1.785507</td>\n",
       "      <td>2.638161</td>\n",
       "      <td>264.069282</td>\n",
       "      <td>2002.917596</td>\n",
       "    </tr>\n",
       "    <tr>\n",
       "      <th>std</th>\n",
       "      <td>3.972567</td>\n",
       "      <td>1.240976</td>\n",
       "      <td>3.818617</td>\n",
       "      <td>733.116493</td>\n",
       "      <td>26014.728304</td>\n",
       "    </tr>\n",
       "    <tr>\n",
       "      <th>min</th>\n",
       "      <td>1989.000000</td>\n",
       "      <td>1.000000</td>\n",
       "      <td>0.003600</td>\n",
       "      <td>1.350000</td>\n",
       "      <td>0.090700</td>\n",
       "    </tr>\n",
       "    <tr>\n",
       "      <th>25%</th>\n",
       "      <td>2007.000000</td>\n",
       "      <td>1.000000</td>\n",
       "      <td>0.229000</td>\n",
       "      <td>32.560000</td>\n",
       "      <td>5.442575</td>\n",
       "    </tr>\n",
       "    <tr>\n",
       "      <th>50%</th>\n",
       "      <td>2010.000000</td>\n",
       "      <td>1.000000</td>\n",
       "      <td>1.260000</td>\n",
       "      <td>55.250000</td>\n",
       "      <td>39.979500</td>\n",
       "    </tr>\n",
       "    <tr>\n",
       "      <th>75%</th>\n",
       "      <td>2012.000000</td>\n",
       "      <td>2.000000</td>\n",
       "      <td>3.040000</td>\n",
       "      <td>178.500000</td>\n",
       "      <td>526.005000</td>\n",
       "    </tr>\n",
       "    <tr>\n",
       "      <th>max</th>\n",
       "      <td>2014.000000</td>\n",
       "      <td>7.000000</td>\n",
       "      <td>25.000000</td>\n",
       "      <td>8500.000000</td>\n",
       "      <td>730000.000000</td>\n",
       "    </tr>\n",
       "  </tbody>\n",
       "</table>\n",
       "</div>"
      ],
      "text/plain": [
       "              发现时间         发现数量        行星质量         距地距离           轨道周期\n",
       "count  1035.000000  1035.000000  513.000000   808.000000     992.000000\n",
       "mean   2009.070531     1.785507    2.638161   264.069282    2002.917596\n",
       "std       3.972567     1.240976    3.818617   733.116493   26014.728304\n",
       "min    1989.000000     1.000000    0.003600     1.350000       0.090700\n",
       "25%    2007.000000     1.000000    0.229000    32.560000       5.442575\n",
       "50%    2010.000000     1.000000    1.260000    55.250000      39.979500\n",
       "75%    2012.000000     2.000000    3.040000   178.500000     526.005000\n",
       "max    2014.000000     7.000000   25.000000  8500.000000  730000.000000"
      ]
     },
     "execution_count": 113,
     "metadata": {},
     "output_type": "execute_result"
    }
   ],
   "source": [
    "#查看所有聚合函数信息\n",
    "df.describe()\n",
    "#第 1 行 count 是计数项，统计每个特征的有效数量（即排除缺失值），从 count\n",
    "#可以看出，行星质量的缺失值比较多，需要考虑一定的办法填充或舍弃。\n",
    "#第 2 行至第 3 行的 mean 与 std 统计每列特征的均值与标准差。\n",
    "#第 4 行至第 8 行的 min、25%、50%、75%、max 的意思是五个分位点，即\n",
    "#把数组从小到大排序后，0%、25%、50%、75%、100%五个位置上的数值的取值。\n",
    "#显然，50%分位点即中位数。"
   ]
  },
  {
   "cell_type": "code",
   "execution_count": 114,
   "id": "bcdd13c9",
   "metadata": {},
   "outputs": [
    {
     "data": {
      "text/html": [
       "<div>\n",
       "<style scoped>\n",
       "    .dataframe tbody tr th:only-of-type {\n",
       "        vertical-align: middle;\n",
       "    }\n",
       "\n",
       "    .dataframe tbody tr th {\n",
       "        vertical-align: top;\n",
       "    }\n",
       "\n",
       "    .dataframe thead th {\n",
       "        text-align: right;\n",
       "    }\n",
       "</style>\n",
       "<table border=\"1\" class=\"dataframe\">\n",
       "  <thead>\n",
       "    <tr style=\"text-align: right;\">\n",
       "      <th></th>\n",
       "      <th>性别</th>\n",
       "      <th>年龄</th>\n",
       "      <th>船舱等级</th>\n",
       "      <th>费用</th>\n",
       "      <th>是否生还</th>\n",
       "    </tr>\n",
       "  </thead>\n",
       "  <tbody>\n",
       "    <tr>\n",
       "      <th>0</th>\n",
       "      <td>男</td>\n",
       "      <td>22.0</td>\n",
       "      <td>三等</td>\n",
       "      <td>7.2500</td>\n",
       "      <td>0</td>\n",
       "    </tr>\n",
       "    <tr>\n",
       "      <th>1</th>\n",
       "      <td>女</td>\n",
       "      <td>38.0</td>\n",
       "      <td>一等</td>\n",
       "      <td>71.2833</td>\n",
       "      <td>1</td>\n",
       "    </tr>\n",
       "    <tr>\n",
       "      <th>2</th>\n",
       "      <td>女</td>\n",
       "      <td>26.0</td>\n",
       "      <td>三等</td>\n",
       "      <td>7.9250</td>\n",
       "      <td>1</td>\n",
       "    </tr>\n",
       "    <tr>\n",
       "      <th>3</th>\n",
       "      <td>女</td>\n",
       "      <td>35.0</td>\n",
       "      <td>一等</td>\n",
       "      <td>53.1000</td>\n",
       "      <td>1</td>\n",
       "    </tr>\n",
       "    <tr>\n",
       "      <th>4</th>\n",
       "      <td>男</td>\n",
       "      <td>35.0</td>\n",
       "      <td>三等</td>\n",
       "      <td>8.0500</td>\n",
       "      <td>0</td>\n",
       "    </tr>\n",
       "  </tbody>\n",
       "</table>\n",
       "</div>"
      ],
      "text/plain": [
       "  性别    年龄 船舱等级       费用  是否生还\n",
       "0  男  22.0   三等   7.2500     0\n",
       "1  女  38.0   一等  71.2833     1\n",
       "2  女  26.0   三等   7.9250     1\n",
       "3  女  35.0   一等  53.1000     1\n",
       "4  男  35.0   三等   8.0500     0"
      ]
     },
     "execution_count": 114,
     "metadata": {},
     "output_type": "execute_result"
    }
   ],
   "source": [
    " # 导入 Pandas 对象\n",
    "df = pd.read_csv('泰坦尼克.csv', index_col=0)\n",
    "df.head()"
   ]
  },
  {
   "cell_type": "code",
   "execution_count": 115,
   "id": "69b10105",
   "metadata": {},
   "outputs": [
    {
     "data": {
      "text/html": [
       "<div>\n",
       "<style scoped>\n",
       "    .dataframe tbody tr th:only-of-type {\n",
       "        vertical-align: middle;\n",
       "    }\n",
       "\n",
       "    .dataframe tbody tr th {\n",
       "        vertical-align: top;\n",
       "    }\n",
       "\n",
       "    .dataframe thead th {\n",
       "        text-align: right;\n",
       "    }\n",
       "</style>\n",
       "<table border=\"1\" class=\"dataframe\">\n",
       "  <thead>\n",
       "    <tr style=\"text-align: right;\">\n",
       "      <th></th>\n",
       "      <th>是否生还</th>\n",
       "    </tr>\n",
       "    <tr>\n",
       "      <th>性别</th>\n",
       "      <th></th>\n",
       "    </tr>\n",
       "  </thead>\n",
       "  <tbody>\n",
       "    <tr>\n",
       "      <th>女</th>\n",
       "      <td>0.742038</td>\n",
       "    </tr>\n",
       "    <tr>\n",
       "      <th>男</th>\n",
       "      <td>0.188908</td>\n",
       "    </tr>\n",
       "  </tbody>\n",
       "</table>\n",
       "</div>"
      ],
      "text/plain": [
       "        是否生还\n",
       "性别          \n",
       "女   0.742038\n",
       "男   0.188908"
      ]
     },
     "execution_count": 115,
     "metadata": {},
     "output_type": "execute_result"
    }
   ],
   "source": [
    "# 一个特征：性别\n",
    "df.pivot_table('是否生还', index='性别')"
   ]
  },
  {
   "cell_type": "code",
   "execution_count": 116,
   "id": "9e30cdef",
   "metadata": {},
   "outputs": [
    {
     "data": {
      "text/html": [
       "<div>\n",
       "<style scoped>\n",
       "    .dataframe tbody tr th:only-of-type {\n",
       "        vertical-align: middle;\n",
       "    }\n",
       "\n",
       "    .dataframe tbody tr th {\n",
       "        vertical-align: top;\n",
       "    }\n",
       "\n",
       "    .dataframe thead th {\n",
       "        text-align: right;\n",
       "    }\n",
       "</style>\n",
       "<table border=\"1\" class=\"dataframe\">\n",
       "  <thead>\n",
       "    <tr style=\"text-align: right;\">\n",
       "      <th>船舱等级</th>\n",
       "      <th>一等</th>\n",
       "      <th>三等</th>\n",
       "      <th>二等</th>\n",
       "    </tr>\n",
       "    <tr>\n",
       "      <th>性别</th>\n",
       "      <th></th>\n",
       "      <th></th>\n",
       "      <th></th>\n",
       "    </tr>\n",
       "  </thead>\n",
       "  <tbody>\n",
       "    <tr>\n",
       "      <th>女</th>\n",
       "      <td>0.968085</td>\n",
       "      <td>0.500000</td>\n",
       "      <td>0.921053</td>\n",
       "    </tr>\n",
       "    <tr>\n",
       "      <th>男</th>\n",
       "      <td>0.368852</td>\n",
       "      <td>0.135447</td>\n",
       "      <td>0.157407</td>\n",
       "    </tr>\n",
       "  </tbody>\n",
       "</table>\n",
       "</div>"
      ],
      "text/plain": [
       "船舱等级        一等        三等        二等\n",
       "性别                                \n",
       "女     0.968085  0.500000  0.921053\n",
       "男     0.368852  0.135447  0.157407"
      ]
     },
     "execution_count": 116,
     "metadata": {},
     "output_type": "execute_result"
    }
   ],
   "source": [
    "# 两个特征：性别、船舱等级\n",
    "df.pivot_table('是否生还', index='性别', columns='船舱等级')"
   ]
  },
  {
   "cell_type": "code",
   "execution_count": 117,
   "id": "dcc7027b",
   "metadata": {},
   "outputs": [
    {
     "data": {
      "text/html": [
       "<div>\n",
       "<style scoped>\n",
       "    .dataframe tbody tr th:only-of-type {\n",
       "        vertical-align: middle;\n",
       "    }\n",
       "\n",
       "    .dataframe tbody tr th {\n",
       "        vertical-align: top;\n",
       "    }\n",
       "\n",
       "    .dataframe thead th {\n",
       "        text-align: right;\n",
       "    }\n",
       "</style>\n",
       "<table border=\"1\" class=\"dataframe\">\n",
       "  <thead>\n",
       "    <tr style=\"text-align: right;\">\n",
       "      <th></th>\n",
       "      <th>船舱等级</th>\n",
       "      <th>一等</th>\n",
       "      <th>三等</th>\n",
       "      <th>二等</th>\n",
       "    </tr>\n",
       "    <tr>\n",
       "      <th>性别</th>\n",
       "      <th>年龄</th>\n",
       "      <th></th>\n",
       "      <th></th>\n",
       "      <th></th>\n",
       "    </tr>\n",
       "  </thead>\n",
       "  <tbody>\n",
       "    <tr>\n",
       "      <th rowspan=\"2\" valign=\"top\">女</th>\n",
       "      <th>(0, 18]</th>\n",
       "      <td>0.909091</td>\n",
       "      <td>0.511628</td>\n",
       "      <td>1.000000</td>\n",
       "    </tr>\n",
       "    <tr>\n",
       "      <th>(18, 120]</th>\n",
       "      <td>0.972973</td>\n",
       "      <td>0.423729</td>\n",
       "      <td>0.900000</td>\n",
       "    </tr>\n",
       "    <tr>\n",
       "      <th rowspan=\"2\" valign=\"top\">男</th>\n",
       "      <th>(0, 18]</th>\n",
       "      <td>0.800000</td>\n",
       "      <td>0.215686</td>\n",
       "      <td>0.600000</td>\n",
       "    </tr>\n",
       "    <tr>\n",
       "      <th>(18, 120]</th>\n",
       "      <td>0.375000</td>\n",
       "      <td>0.133663</td>\n",
       "      <td>0.071429</td>\n",
       "    </tr>\n",
       "  </tbody>\n",
       "</table>\n",
       "</div>"
      ],
      "text/plain": [
       "船舱等级                一等        三等        二等\n",
       "性别 年龄                                     \n",
       "女  (0, 18]    0.909091  0.511628  1.000000\n",
       "   (18, 120]  0.972973  0.423729  0.900000\n",
       "男  (0, 18]    0.800000  0.215686  0.600000\n",
       "   (18, 120]  0.375000  0.133663  0.071429"
      ]
     },
     "execution_count": 117,
     "metadata": {},
     "output_type": "execute_result"
    }
   ],
   "source": [
    "# 三个特征：性别、船舱等级、年龄\n",
    "age = pd.cut( df['年龄'], [0,18,120] ) # 以 18 岁为分水岭\n",
    "df.pivot_table('是否生还', index= ['性别', age], columns='船舱等级')"
   ]
  },
  {
   "cell_type": "code",
   "execution_count": 118,
   "id": "a693a57c",
   "metadata": {},
   "outputs": [
    {
     "data": {
      "text/html": [
       "<div>\n",
       "<style scoped>\n",
       "    .dataframe tbody tr th:only-of-type {\n",
       "        vertical-align: middle;\n",
       "    }\n",
       "\n",
       "    .dataframe tbody tr th {\n",
       "        vertical-align: top;\n",
       "    }\n",
       "\n",
       "    .dataframe thead tr th {\n",
       "        text-align: left;\n",
       "    }\n",
       "\n",
       "    .dataframe thead tr:last-of-type th {\n",
       "        text-align: right;\n",
       "    }\n",
       "</style>\n",
       "<table border=\"1\" class=\"dataframe\">\n",
       "  <thead>\n",
       "    <tr>\n",
       "      <th></th>\n",
       "      <th>性别</th>\n",
       "      <th colspan=\"2\" halign=\"left\">女</th>\n",
       "      <th colspan=\"2\" halign=\"left\">男</th>\n",
       "    </tr>\n",
       "    <tr>\n",
       "      <th></th>\n",
       "      <th>年龄</th>\n",
       "      <th>(0, 18]</th>\n",
       "      <th>(18, 120]</th>\n",
       "      <th>(0, 18]</th>\n",
       "      <th>(18, 120]</th>\n",
       "    </tr>\n",
       "    <tr>\n",
       "      <th>船舱等级</th>\n",
       "      <th>费用</th>\n",
       "      <th></th>\n",
       "      <th></th>\n",
       "      <th></th>\n",
       "      <th></th>\n",
       "    </tr>\n",
       "  </thead>\n",
       "  <tbody>\n",
       "    <tr>\n",
       "      <th rowspan=\"2\" valign=\"top\">一等</th>\n",
       "      <th>(-0.001, 14.454]</th>\n",
       "      <td>NaN</td>\n",
       "      <td>NaN</td>\n",
       "      <td>NaN</td>\n",
       "      <td>0.000000</td>\n",
       "    </tr>\n",
       "    <tr>\n",
       "      <th>(14.454, 512.329]</th>\n",
       "      <td>0.909091</td>\n",
       "      <td>0.972973</td>\n",
       "      <td>0.800000</td>\n",
       "      <td>0.391304</td>\n",
       "    </tr>\n",
       "    <tr>\n",
       "      <th rowspan=\"2\" valign=\"top\">三等</th>\n",
       "      <th>(-0.001, 14.454]</th>\n",
       "      <td>0.714286</td>\n",
       "      <td>0.444444</td>\n",
       "      <td>0.260870</td>\n",
       "      <td>0.125000</td>\n",
       "    </tr>\n",
       "    <tr>\n",
       "      <th>(14.454, 512.329]</th>\n",
       "      <td>0.318182</td>\n",
       "      <td>0.391304</td>\n",
       "      <td>0.178571</td>\n",
       "      <td>0.192308</td>\n",
       "    </tr>\n",
       "    <tr>\n",
       "      <th rowspan=\"2\" valign=\"top\">二等</th>\n",
       "      <th>(-0.001, 14.454]</th>\n",
       "      <td>1.000000</td>\n",
       "      <td>0.880000</td>\n",
       "      <td>0.000000</td>\n",
       "      <td>0.098039</td>\n",
       "    </tr>\n",
       "    <tr>\n",
       "      <th>(14.454, 512.329]</th>\n",
       "      <td>1.000000</td>\n",
       "      <td>0.914286</td>\n",
       "      <td>0.818182</td>\n",
       "      <td>0.030303</td>\n",
       "    </tr>\n",
       "  </tbody>\n",
       "</table>\n",
       "</div>"
      ],
      "text/plain": [
       "性别                             女                   男          \n",
       "年龄                       (0, 18] (18, 120]   (0, 18] (18, 120]\n",
       "船舱等级 费用                                                       \n",
       "一等   (-0.001, 14.454]        NaN       NaN       NaN  0.000000\n",
       "     (14.454, 512.329]  0.909091  0.972973  0.800000  0.391304\n",
       "三等   (-0.001, 14.454]   0.714286  0.444444  0.260870  0.125000\n",
       "     (14.454, 512.329]  0.318182  0.391304  0.178571  0.192308\n",
       "二等   (-0.001, 14.454]   1.000000  0.880000  0.000000  0.098039\n",
       "     (14.454, 512.329]  1.000000  0.914286  0.818182  0.030303"
      ]
     },
     "execution_count": 118,
     "metadata": {},
     "output_type": "execute_result"
    }
   ],
   "source": [
    " # 四个特征：性别、船舱等级、年龄、费用\n",
    "fare = pd.qcut( df['费用'], 2 ) # 将费用自动分为两部分\n",
    "df.pivot_table('是否生还', index= ['船舱等级',fare], columns=['性别', age])"
   ]
  },
  {
   "cell_type": "code",
   "execution_count": null,
   "id": "f679bfcc",
   "metadata": {},
   "outputs": [],
   "source": []
  }
 ],
 "metadata": {
  "kernelspec": {
   "display_name": "DL",
   "language": "python",
   "name": "dl"
  },
  "language_info": {
   "codemirror_mode": {
    "name": "ipython",
    "version": 3
   },
   "file_extension": ".py",
   "mimetype": "text/x-python",
   "name": "python",
   "nbconvert_exporter": "python",
   "pygments_lexer": "ipython3",
   "version": "3.11.4"
  }
 },
 "nbformat": 4,
 "nbformat_minor": 5
}
