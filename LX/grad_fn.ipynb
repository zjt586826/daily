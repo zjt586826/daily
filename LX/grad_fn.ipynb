{
 "cells": [
  {
   "cell_type": "code",
   "execution_count": 1,
   "id": "b075d809",
   "metadata": {},
   "outputs": [
    {
     "name": "stdout",
     "output_type": "stream",
     "text": [
      "tensor([[1., 1.],\n",
      "        [1., 1.]], requires_grad=True) None\n"
     ]
    }
   ],
   "source": [
    "import torch\n",
    "from torch.autograd import variable\n",
    "x=torch.ones(2,2,requires_grad=True)\n",
    "print(x,x.grad_fn)"
   ]
  },
  {
   "cell_type": "code",
   "execution_count": 2,
   "id": "d59d8f58",
   "metadata": {},
   "outputs": [
    {
     "name": "stdout",
     "output_type": "stream",
     "text": [
      "<AddBackward0 object at 0x000001409DD550F0>\n"
     ]
    }
   ],
   "source": [
    "m=x+2\n",
    "print(m.grad_fn)"
   ]
  },
  {
   "cell_type": "code",
   "execution_count": 3,
   "id": "bc9e26c8",
   "metadata": {},
   "outputs": [
    {
     "name": "stdout",
     "output_type": "stream",
     "text": [
      "(tensor([[1., 1.],\n",
      "        [1., 1.]], requires_grad=True), None)\n"
     ]
    }
   ],
   "source": [
    "print(m.grad_fn(x))#对变量x求梯度"
   ]
  },
  {
   "cell_type": "code",
   "execution_count": 4,
   "id": "c9f5d7fe",
   "metadata": {},
   "outputs": [
    {
     "name": "stdout",
     "output_type": "stream",
     "text": [
      "None\n"
     ]
    }
   ],
   "source": [
    "x2=torch.ones(2,2)\n",
    "m=x2+2\n",
    "print(m.grad_fn)"
   ]
  }
 ],
 "metadata": {
  "kernelspec": {
   "display_name": "DL",
   "language": "python",
   "name": "dl"
  },
  "language_info": {
   "codemirror_mode": {
    "name": "ipython",
    "version": 3
   },
   "file_extension": ".py",
   "mimetype": "text/x-python",
   "name": "python",
   "nbconvert_exporter": "python",
   "pygments_lexer": "ipython3",
   "version": "3.11.4"
  }
 },
 "nbformat": 4,
 "nbformat_minor": 5
}
