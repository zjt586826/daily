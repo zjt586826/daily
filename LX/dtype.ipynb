{
 "cells": [
  {
   "cell_type": "code",
   "execution_count": 1,
   "id": "f02ac908",
   "metadata": {},
   "outputs": [
    {
     "name": "stdout",
     "output_type": "stream",
     "text": [
      "torch.float32\n",
      "torch.float32\n",
      "torch.float64\n",
      "torch.float64\n"
     ]
    }
   ],
   "source": [
    "import torch\n",
    "print(torch.get_default_dtype())#输出默认类型\n",
    "print(torch.Tensor([1,3]).dtype)#输出torch.Tensor()返回的类型\n",
    "torch.set_default_dtype(torch.float64)#将默认的类型修改成torch.float()\n",
    "print(torch.get_default_dtype())#输出默认类型\n",
    "print(torch.Tensor([1,3]).dtype)#输出torch.Tensor()返回的类型"
   ]
  },
  {
   "cell_type": "code",
   "execution_count": null,
   "id": "5a37c6a7",
   "metadata": {},
   "outputs": [],
   "source": []
  }
 ],
 "metadata": {
  "kernelspec": {
   "display_name": "DL",
   "language": "python",
   "name": "dl"
  },
  "language_info": {
   "codemirror_mode": {
    "name": "ipython",
    "version": 3
   },
   "file_extension": ".py",
   "mimetype": "text/x-python",
   "name": "python",
   "nbconvert_exporter": "python",
   "pygments_lexer": "ipython3",
   "version": "3.11.4"
  }
 },
 "nbformat": 4,
 "nbformat_minor": 5
}
