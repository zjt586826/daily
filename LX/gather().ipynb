{
 "cells": [
  {
   "cell_type": "code",
   "execution_count": 1,
   "id": "0ea6abb2",
   "metadata": {},
   "outputs": [
    {
     "name": "stdout",
     "output_type": "stream",
     "text": [
      "tensor([[6, 5],\n",
      "        [8, 0]])\n",
      "tensor([[2, 6, 7]])\n"
     ]
    }
   ],
   "source": [
    "import torch\n",
    "a=torch.tensor([[5,6,7],[2,8,0]])\n",
    "print(torch.gather(a,dim=1,index=torch.tensor([[1,0],[1, 2]])))#沿着第1维度，按照index的形状\n",
    "print(torch.gather(a,dim=0,index=torch.tensor([[1,0,0]])))#沿着第0维度，按照index形状进行取值排列"
   ]
  },
  {
   "cell_type": "code",
   "execution_count": null,
   "id": "0bae52fb",
   "metadata": {},
   "outputs": [],
   "source": []
  }
 ],
 "metadata": {
  "kernelspec": {
   "display_name": "DL",
   "language": "python",
   "name": "dl"
  },
  "language_info": {
   "codemirror_mode": {
    "name": "ipython",
    "version": 3
   },
   "file_extension": ".py",
   "mimetype": "text/x-python",
   "name": "python",
   "nbconvert_exporter": "python",
   "pygments_lexer": "ipython3",
   "version": "3.11.4"
  }
 },
 "nbformat": 4,
 "nbformat_minor": 5
}
