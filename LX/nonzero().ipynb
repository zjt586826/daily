{
 "cells": [
  {
   "cell_type": "code",
   "execution_count": 1,
   "id": "3dac7be3",
   "metadata": {},
   "outputs": [
    {
     "name": "stdout",
     "output_type": "stream",
     "text": [
      "tensor([[1., 0., 0.],\n",
      "        [0., 1., 0.],\n",
      "        [0., 0., 1.]])\n",
      "tensor([[0, 0],\n",
      "        [1, 1],\n",
      "        [2, 2]])\n"
     ]
    }
   ],
   "source": [
    "import torch\n",
    "eye=torch.eye(3)\n",
    "print(eye)\n",
    "print(torch.nonzero(eye))#找出对角矩阵中的非零索引值"
   ]
  },
  {
   "cell_type": "code",
   "execution_count": null,
   "id": "8a841827",
   "metadata": {},
   "outputs": [],
   "source": []
  }
 ],
 "metadata": {
  "kernelspec": {
   "display_name": "DL",
   "language": "python",
   "name": "dl"
  },
  "language_info": {
   "codemirror_mode": {
    "name": "ipython",
    "version": 3
   },
   "file_extension": ".py",
   "mimetype": "text/x-python",
   "name": "python",
   "nbconvert_exporter": "python",
   "pygments_lexer": "ipython3",
   "version": "3.11.4"
  }
 },
 "nbformat": 4,
 "nbformat_minor": 5
}
