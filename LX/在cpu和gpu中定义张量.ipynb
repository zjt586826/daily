{
 "cells": [
  {
   "cell_type": "code",
   "execution_count": 1,
   "id": "4084f098",
   "metadata": {},
   "outputs": [
    {
     "name": "stdout",
     "output_type": "stream",
     "text": [
      "tensor([4.], device='cuda:0')\n"
     ]
    }
   ],
   "source": [
    "#将cpu中的张量转化到gpu中\n",
    "import torch\n",
    "a=torch.FloatTensor([4])\n",
    "b=a.cuda()\n",
    "print(b)"
   ]
  },
  {
   "cell_type": "code",
   "execution_count": 2,
   "id": "1fa87bc0",
   "metadata": {},
   "outputs": [
    {
     "name": "stdout",
     "output_type": "stream",
     "text": [
      "tensor([4.])\n"
     ]
    }
   ],
   "source": [
    "#将gpu的张量搬到cpu上\n",
    "print(a.cpu())"
   ]
  },
  {
   "cell_type": "code",
   "execution_count": 3,
   "id": "57d9de37",
   "metadata": {},
   "outputs": [
    {
     "name": "stdout",
     "output_type": "stream",
     "text": [
      "tensor([4], device='cuda:0')\n"
     ]
    }
   ],
   "source": [
    "#直接在gpu上定义张量\n",
    "a=torch.tensor([4],device='cuda')\n",
    "print(a)"
   ]
  },
  {
   "cell_type": "code",
   "execution_count": 4,
   "id": "cadcf216",
   "metadata": {},
   "outputs": [
    {
     "name": "stdout",
     "output_type": "stream",
     "text": [
      "tensor([4.])\n",
      "tensor([4.], device='cuda:0')\n"
     ]
    }
   ],
   "source": [
    "#使用to()指定设备\n",
    "a=torch.FloatTensor([4])\n",
    "print(a)\n",
    "print(a.to('cuda:0'))"
   ]
  },
  {
   "cell_type": "code",
   "execution_count": null,
   "id": "0f4191f7",
   "metadata": {},
   "outputs": [],
   "source": []
  }
 ],
 "metadata": {
  "kernelspec": {
   "display_name": "DL",
   "language": "python",
   "name": "dl"
  },
  "language_info": {
   "codemirror_mode": {
    "name": "ipython",
    "version": 3
   },
   "file_extension": ".py",
   "mimetype": "text/x-python",
   "name": "python",
   "nbconvert_exporter": "python",
   "pygments_lexer": "ipython3",
   "version": "3.11.4"
  }
 },
 "nbformat": 4,
 "nbformat_minor": 5
}
