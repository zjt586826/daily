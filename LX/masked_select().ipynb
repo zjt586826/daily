{
 "cells": [
  {
   "cell_type": "code",
   "execution_count": 1,
   "id": "ceba68d2",
   "metadata": {},
   "outputs": [
    {
     "name": "stdout",
     "output_type": "stream",
     "text": [
      "tensor([[False,  True],\n",
      "        [ True,  True]])\n",
      "tensor([2, 3, 4])\n"
     ]
    }
   ],
   "source": [
    "import torch\n",
    "a=torch.tensor([[1,2],[3,4]])\n",
    "mask=a.ge(2)#找出大于或者等于2的数\n",
    "print(mask)#输出掩码\n",
    "print(torch.masked_select(a,mask))#按照掩码取值"
   ]
  },
  {
   "cell_type": "code",
   "execution_count": 2,
   "id": "1b730850",
   "metadata": {},
   "outputs": [],
   "source": [
    "#torch.gt()大于\n",
    "#torch.ge()大于或者等于\n",
    "#torch.lt()小于\n",
    "#torch.le()小于或者等于"
   ]
  },
  {
   "cell_type": "code",
   "execution_count": null,
   "id": "5a2f71b4",
   "metadata": {},
   "outputs": [],
   "source": []
  }
 ],
 "metadata": {
  "kernelspec": {
   "display_name": "DL",
   "language": "python",
   "name": "dl"
  },
  "language_info": {
   "codemirror_mode": {
    "name": "ipython",
    "version": 3
   },
   "file_extension": ".py",
   "mimetype": "text/x-python",
   "name": "python",
   "nbconvert_exporter": "python",
   "pygments_lexer": "ipython3",
   "version": "3.11.4"
  }
 },
 "nbformat": 4,
 "nbformat_minor": 5
}
