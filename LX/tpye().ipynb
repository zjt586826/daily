{
 "cells": [
  {
   "cell_type": "code",
   "execution_count": 1,
   "id": "93f6771b",
   "metadata": {},
   "outputs": [
    {
     "name": "stdout",
     "output_type": "stream",
     "text": [
      "tensor([4], dtype=torch.int32)\n",
      "tensor([4.], dtype=torch.float64)\n"
     ]
    }
   ],
   "source": [
    "import torch\n",
    "a=torch.Tensor([4])#浮点型张量\n",
    "print(a.type(torch.IntTensor))#将浮点型张量转为int类型\n",
    "print(a.type(torch.DoubleTensor))#将浮点型张量转为double类型"
   ]
  },
  {
   "cell_type": "code",
   "execution_count": 2,
   "id": "7e9f2846",
   "metadata": {},
   "outputs": [
    {
     "name": "stdout",
     "output_type": "stream",
     "text": [
      "tensor([4], dtype=torch.int32)\n",
      "tensor([4.], dtype=torch.float64)\n"
     ]
    }
   ],
   "source": [
    "print(a.int())#数值型特有的方法\n",
    "print(a.double())"
   ]
  },
  {
   "cell_type": "code",
   "execution_count": 3,
   "id": "7b96a654",
   "metadata": {},
   "outputs": [
    {
     "name": "stdout",
     "output_type": "stream",
     "text": [
      "tensor(4.)\n",
      "tensor([2.])\n"
     ]
    }
   ],
   "source": [
    "print(a.mean())\n",
    "print(a.sqrt())"
   ]
  }
 ],
 "metadata": {
  "kernelspec": {
   "display_name": "DL",
   "language": "python",
   "name": "dl"
  },
  "language_info": {
   "codemirror_mode": {
    "name": "ipython",
    "version": 3
   },
   "file_extension": ".py",
   "mimetype": "text/x-python",
   "name": "python",
   "nbconvert_exporter": "python",
   "pygments_lexer": "ipython3",
   "version": "3.11.4"
  }
 },
 "nbformat": 4,
 "nbformat_minor": 5
}
