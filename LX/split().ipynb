{
 "cells": [
  {
   "cell_type": "code",
   "execution_count": 1,
   "id": "a84439d1",
   "metadata": {},
   "outputs": [
    {
     "data": {
      "text/plain": [
       "(tensor([[5],\n",
       "         [7]]),\n",
       " tensor([[6, 7],\n",
       "         [8, 9]]))"
      ]
     },
     "execution_count": 1,
     "metadata": {},
     "output_type": "execute_result"
    }
   ],
   "source": [
    "import torch\n",
    "a=torch.tensor([[5,6,7],[7,8,9]])\n",
    "torch.split(a,split_size_or_sections=(1,2),dim=1)#将张量沿着第一维度分割成两份部分"
   ]
  },
  {
   "cell_type": "code",
   "execution_count": 2,
   "id": "6b448b7e",
   "metadata": {},
   "outputs": [
    {
     "data": {
      "text/plain": [
       "(tensor([[5, 6],\n",
       "         [7, 8]]),\n",
       " tensor([[7],\n",
       "         [9]]))"
      ]
     },
     "execution_count": 2,
     "metadata": {},
     "output_type": "execute_result"
    }
   ],
   "source": [
    "torch.split(a,split_size_or_sections=2,dim=1)#将张量沿着第一维度分割成两份部分，按两个元素分割，不足则单列出来"
   ]
  },
  {
   "cell_type": "code",
   "execution_count": null,
   "id": "da46c2a2",
   "metadata": {},
   "outputs": [],
   "source": []
  }
 ],
 "metadata": {
  "kernelspec": {
   "display_name": "DL",
   "language": "python",
   "name": "dl"
  },
  "language_info": {
   "codemirror_mode": {
    "name": "ipython",
    "version": 3
   },
   "file_extension": ".py",
   "mimetype": "text/x-python",
   "name": "python",
   "nbconvert_exporter": "python",
   "pygments_lexer": "ipython3",
   "version": "3.11.4"
  }
 },
 "nbformat": 4,
 "nbformat_minor": 5
}
