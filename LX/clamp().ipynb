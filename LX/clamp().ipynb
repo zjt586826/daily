{
 "cells": [
  {
   "cell_type": "code",
   "execution_count": 1,
   "id": "616a1153",
   "metadata": {},
   "outputs": [
    {
     "data": {
      "text/plain": [
       "tensor([[2, 2],\n",
       "        [3, 3]])"
      ]
     },
     "execution_count": 1,
     "metadata": {},
     "output_type": "execute_result"
    }
   ],
   "source": [
    "import torch\n",
    "a=torch.tensor([[1,2],[3,4]])\n",
    "torch.clamp(a,min=2,max=3)#按照最小值2，最大值3进行阶段"
   ]
  },
  {
   "cell_type": "code",
   "execution_count": null,
   "id": "24480795",
   "metadata": {},
   "outputs": [],
   "source": [
    " "
   ]
  }
 ],
 "metadata": {
  "kernelspec": {
   "display_name": "DL",
   "language": "python",
   "name": "dl"
  },
  "language_info": {
   "codemirror_mode": {
    "name": "ipython",
    "version": 3
   },
   "file_extension": ".py",
   "mimetype": "text/x-python",
   "name": "python",
   "nbconvert_exporter": "python",
   "pygments_lexer": "ipython3",
   "version": "3.11.4"
  }
 },
 "nbformat": 4,
 "nbformat_minor": 5
}
