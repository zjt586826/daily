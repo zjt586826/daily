{
 "cells": [
  {
   "cell_type": "code",
   "execution_count": 1,
   "id": "7abd453d",
   "metadata": {},
   "outputs": [
    {
     "name": "stdout",
     "output_type": "stream",
     "text": [
      "tensor([[1, 1, 1],\n",
      "        [1, 1, 1]])\n",
      "tensor([[1, 6, 7],\n",
      "        [1, 8, 1]])\n"
     ]
    }
   ],
   "source": [
    "import torch\n",
    "b=torch.tensor([[5,6,7],[2,8,0]])\n",
    "c=torch.ones_like(b)\n",
    "print(c)\n",
    "print(torch.where(b>5,b,c))#将b中大于5的元素取出，值不大于5的元素从c中取出"
   ]
  },
  {
   "cell_type": "code",
   "execution_count": null,
   "id": "aa2849f3",
   "metadata": {},
   "outputs": [],
   "source": []
  }
 ],
 "metadata": {
  "kernelspec": {
   "display_name": "DL",
   "language": "python",
   "name": "dl"
  },
  "language_info": {
   "codemirror_mode": {
    "name": "ipython",
    "version": 3
   },
   "file_extension": ".py",
   "mimetype": "text/x-python",
   "name": "python",
   "nbconvert_exporter": "python",
   "pygments_lexer": "ipython3",
   "version": "3.11.4"
  }
 },
 "nbformat": 4,
 "nbformat_minor": 5
}
