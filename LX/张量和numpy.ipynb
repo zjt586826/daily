{
 "cells": [
  {
   "cell_type": "code",
   "execution_count": 1,
   "id": "1cea602a",
   "metadata": {},
   "outputs": [],
   "source": [
    "#张量和numpy相互转化"
   ]
  },
  {
   "cell_type": "code",
   "execution_count": 2,
   "id": "4b721eca",
   "metadata": {},
   "outputs": [
    {
     "name": "stdout",
     "output_type": "stream",
     "text": [
      "[4.]\n",
      "tensor([4], dtype=torch.int32)\n",
      "tensor([4], dtype=torch.int32)\n"
     ]
    }
   ],
   "source": [
    "import torch \n",
    "import numpy as np\n",
    "a=torch.Tensor([4])\n",
    "print(a.numpy())#将张量转化为numpy类型的对象\n",
    "anp=np.array([4])\n",
    "print(torch.tensor(anp))#将numpy类型的对象转化为张量\n",
    "print(torch.from_numpy(anp))#另一种方法"
   ]
  },
  {
   "cell_type": "code",
   "execution_count": 3,
   "id": "b9f3c77c",
   "metadata": {},
   "outputs": [
    {
     "name": "stdout",
     "output_type": "stream",
     "text": [
      "tensor([[ 0.3944],\n",
      "        [-1.1805]])\n",
      "torch.Size([2, 1])\n",
      "torch.Size([2, 1])\n",
      "{2, 4}\n",
      "() 1\n"
     ]
    }
   ],
   "source": [
    "#张量与numpy各自的形状获取\n",
    "x=torch.randn(2,1)\n",
    "print(x)\n",
    "print(x.shape)\n",
    "print(x.size())\n",
    "anp=np.asarray({4,2})\n",
    "print(anp)\n",
    "print(anp.shape,anp.size)"
   ]
  },
  {
   "cell_type": "code",
   "execution_count": 4,
   "id": "217b99fe",
   "metadata": {},
   "outputs": [
    {
     "name": "stdout",
     "output_type": "stream",
     "text": [
      "torch.Size([1, 2])\n",
      "(1, 1)\n"
     ]
    }
   ],
   "source": [
    "#对属性进行改变\n",
    "print(x.reshape([1,2]).shape)\n",
    "print(anp.reshape([1,1]).shape)"
   ]
  },
  {
   "cell_type": "code",
   "execution_count": 5,
   "id": "9cd74538",
   "metadata": {},
   "outputs": [
    {
     "name": "stdout",
     "output_type": "stream",
     "text": [
      "tensor([[0.5424],\n",
      "        [0.8762]])\n",
      "tensor([[0.5424],\n",
      "        [0.8762]])\n",
      "[4 2]\n",
      "[4 2]\n"
     ]
    }
   ],
   "source": [
    "#张量与numpy各自的切片\n",
    "x=torch.rand(2,1)\n",
    "print(x)\n",
    "print(x[:])\n",
    "anp=np.asarray([4,2])\n",
    "print(anp)\n",
    "print(anp[:])"
   ]
  },
  {
   "cell_type": "code",
   "execution_count": 6,
   "id": "b5e96243",
   "metadata": {},
   "outputs": [
    {
     "name": "stdout",
     "output_type": "stream",
     "text": [
      "tensor([0.5424, 0.8762])\n",
      "[4]\n"
     ]
    }
   ],
   "source": [
    "#条件类型切片\n",
    "print(x[x>0.5])\n",
    "print(anp[anp>3])"
   ]
  },
  {
   "cell_type": "code",
   "execution_count": 7,
   "id": "0c143a6b",
   "metadata": {},
   "outputs": [
    {
     "name": "stdout",
     "output_type": "stream",
     "text": [
      "tensor([1, 1], dtype=torch.int32)\n",
      "tensor([2, 2], dtype=torch.int32)\n"
     ]
    }
   ],
   "source": [
    "#转换numpy会改变张量的值，但改变张量不会改变numpy的值\n",
    "import torch\n",
    "import numpy as np\n",
    "nparray=np.array([1,1])\n",
    "x=torch.from_numpy(nparray)\n",
    "print(x)\n",
    "nparray+=1\n",
    "print(x)"
   ]
  },
  {
   "cell_type": "code",
   "execution_count": 8,
   "id": "c9f2b455",
   "metadata": {},
   "outputs": [
    {
     "name": "stdout",
     "output_type": "stream",
     "text": [
      "tensor([1, 1], dtype=torch.int32)\n",
      "tensor([1, 1], dtype=torch.int32)\n"
     ]
    }
   ],
   "source": [
    "#不适用内存替换\n",
    "nparray=np.array([1,1])\n",
    "x=torch.from_numpy(nparray)\n",
    "print(x)\n",
    "nparray=nparray+1\n",
    "print(x)"
   ]
  },
  {
   "cell_type": "code",
   "execution_count": null,
   "id": "5fca46f4",
   "metadata": {},
   "outputs": [],
   "source": []
  }
 ],
 "metadata": {
  "kernelspec": {
   "display_name": "DL",
   "language": "python",
   "name": "dl"
  },
  "language_info": {
   "codemirror_mode": {
    "name": "ipython",
    "version": 3
   },
   "file_extension": ".py",
   "mimetype": "text/x-python",
   "name": "python",
   "nbconvert_exporter": "python",
   "pygments_lexer": "ipython3",
   "version": "3.11.4"
  }
 },
 "nbformat": 4,
 "nbformat_minor": 5
}
