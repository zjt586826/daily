{
 "cells": [
  {
   "cell_type": "code",
   "execution_count": 1,
   "id": "e009f55a",
   "metadata": {},
   "outputs": [
    {
     "name": "stdout",
     "output_type": "stream",
     "text": [
      "True\n",
      "False\n",
      "True\n",
      "tensor([5, 2, 6, 8, 7, 0])\n"
     ]
    }
   ],
   "source": [
    "import torch\n",
    "a=torch.tensor([[5,6,7],[2,8,0]])\n",
    "print(a.is_contiguous())#判断张量的内存是否连续\n",
    "b=torch.t(a)\n",
    "print(b.is_contiguous())\n",
    "print(b.contiguous().is_contiguous())\n",
    "print(b.contiguous().view(-1))#将张量复制在整块的内存中"
   ]
  },
  {
   "cell_type": "code",
   "execution_count": null,
   "id": "cc4fdbf7",
   "metadata": {},
   "outputs": [],
   "source": []
  }
 ],
 "metadata": {
  "kernelspec": {
   "display_name": "DL",
   "language": "python",
   "name": "dl"
  },
  "language_info": {
   "codemirror_mode": {
    "name": "ipython",
    "version": 3
   },
   "file_extension": ".py",
   "mimetype": "text/x-python",
   "name": "python",
   "nbconvert_exporter": "python",
   "pygments_lexer": "ipython3",
   "version": "3.11.4"
  }
 },
 "nbformat": 4,
 "nbformat_minor": 5
}
