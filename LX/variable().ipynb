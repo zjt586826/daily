{
 "cells": [
  {
   "cell_type": "code",
   "execution_count": 1,
   "id": "590b0174",
   "metadata": {},
   "outputs": [
    {
     "name": "stdout",
     "output_type": "stream",
     "text": [
      "tensor([4.])\n"
     ]
    }
   ],
   "source": [
    "import torch\n",
    "from torch.autograd import variable\n",
    "a=torch.FloatTensor([4])\n",
    "#print(variable(a))#将张量转化为variable对象\n",
    "#print(variable(a,requires_grad=True))#将张量转化为支持梯度计算的variable对象\n",
    "print(a.data)#将variable对象转化为张量"
   ]
  },
  {
   "cell_type": "code",
   "execution_count": null,
   "id": "96830e59",
   "metadata": {},
   "outputs": [],
   "source": []
  }
 ],
 "metadata": {
  "kernelspec": {
   "display_name": "DL",
   "language": "python",
   "name": "dl"
  },
  "language_info": {
   "codemirror_mode": {
    "name": "ipython",
    "version": 3
   },
   "file_extension": ".py",
   "mimetype": "text/x-python",
   "name": "python",
   "nbconvert_exporter": "python",
   "pygments_lexer": "ipython3",
   "version": "3.11.4"
  }
 },
 "nbformat": 4,
 "nbformat_minor": 5
}
