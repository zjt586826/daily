{
 "cells": [
  {
   "cell_type": "code",
   "execution_count": 1,
   "id": "ee161e8d",
   "metadata": {},
   "outputs": [
    {
     "name": "stdout",
     "output_type": "stream",
     "text": [
      "tensor([[5, 2],\n",
      "        [6, 8],\n",
      "        [7, 0]])\n"
     ]
    },
    {
     "data": {
      "text/plain": [
       "tensor([[5, 2],\n",
       "        [6, 8],\n",
       "        [7, 0]])"
      ]
     },
     "execution_count": 1,
     "metadata": {},
     "output_type": "execute_result"
    }
   ],
   "source": [
    "import torch\n",
    "a=torch.tensor([[5,6,7],[2,8,0]])\n",
    "print(torch.t(a))\n",
    "torch.transpose(a,dim0=1,dim1=0)"
   ]
  },
  {
   "cell_type": "code",
   "execution_count": 2,
   "id": "959ebedb",
   "metadata": {},
   "outputs": [
    {
     "data": {
      "text/plain": [
       "tensor([[5, 2],\n",
       "        [6, 8],\n",
       "        [7, 0]])"
      ]
     },
     "execution_count": 2,
     "metadata": {},
     "output_type": "execute_result"
    }
   ],
   "source": [
    "#另外的方法转职\n",
    "a.permute(1,0)"
   ]
  },
  {
   "cell_type": "code",
   "execution_count": null,
   "id": "7746db3b",
   "metadata": {},
   "outputs": [],
   "source": []
  }
 ],
 "metadata": {
  "kernelspec": {
   "display_name": "DL",
   "language": "python",
   "name": "dl"
  },
  "language_info": {
   "codemirror_mode": {
    "name": "ipython",
    "version": 3
   },
   "file_extension": ".py",
   "mimetype": "text/x-python",
   "name": "python",
   "nbconvert_exporter": "python",
   "pygments_lexer": "ipython3",
   "version": "3.11.4"
  }
 },
 "nbformat": 4,
 "nbformat_minor": 5
}
